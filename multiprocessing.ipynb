{
 "cells": [
  {
   "cell_type": "code",
   "execution_count": 2,
   "metadata": {},
   "outputs": [],
   "source": [
    "from IPython.core.interactiveshell import InteractiveShell\n",
    "InteractiveShell.ast_node_interactivity = \"all\""
   ]
  },
  {
   "cell_type": "code",
   "execution_count": 3,
   "metadata": {},
   "outputs": [],
   "source": [
    "import multiprocessing as mp\n",
    "import random\n",
    "import string"
   ]
  },
  {
   "cell_type": "code",
   "execution_count": 4,
   "metadata": {},
   "outputs": [],
   "source": [
    "random.seed(123)"
   ]
  },
  {
   "cell_type": "code",
   "execution_count": 5,
   "metadata": {},
   "outputs": [],
   "source": [
    "output = mp.Queue() # define a queue"
   ]
  },
  {
   "cell_type": "code",
   "execution_count": 6,
   "metadata": {},
   "outputs": [],
   "source": [
    "def rand_string(length, output):\n",
    "    \"\"\"Generates a random string of numbers, lower and upper case characters\"\"\"\n",
    "    rand_str = \"\".join(random.choice(string.ascii_lowercase + \n",
    "                                     string.ascii_uppercase + \n",
    "                                     string.digits)\n",
    "                      for i in range(length))\n",
    "    output.put(rand_str)"
   ]
  },
  {
   "cell_type": "code",
   "execution_count": 7,
   "metadata": {},
   "outputs": [],
   "source": [
    "processes = [mp.Process(target=rand_string, args=(5, output)) for x in range(4)] # the list of processes we will run"
   ]
  },
  {
   "cell_type": "code",
   "execution_count": 8,
   "metadata": {},
   "outputs": [],
   "source": [
    "# run processes\n",
    "for p in processes:\n",
    "    p.start()\n",
    "    \n",
    "# exit the completed processes\n",
    "for p in processes:\n",
    "    p.join()"
   ]
  },
  {
   "cell_type": "code",
   "execution_count": 9,
   "metadata": {},
   "outputs": [
    {
     "name": "stdout",
     "output_type": "stream",
     "text": [
      "['Wcscb', 'vHIP7', 'RJANK', 'x2Az9']\n"
     ]
    }
   ],
   "source": [
    "results = [output.get() for p in processes]\n",
    "print(results)"
   ]
  },
  {
   "cell_type": "code",
   "execution_count": null,
   "metadata": {},
   "outputs": [],
   "source": []
  },
  {
   "cell_type": "markdown",
   "metadata": {},
   "source": [
    "###### How to retrieve results in a particular order"
   ]
  },
  {
   "cell_type": "code",
   "execution_count": 10,
   "metadata": {},
   "outputs": [],
   "source": [
    "output = mp.Queue()\n",
    "\n",
    "def rand_string(length, pos, output):\n",
    "    rand_str = \"\".join(random.choice(string.ascii_lowercase +\n",
    "                                    string.ascii_uppercase +\n",
    "                                    string.digits)\n",
    "                      for i in range(length))\n",
    "    output.put((pos, rand_str))"
   ]
  },
  {
   "cell_type": "code",
   "execution_count": 11,
   "metadata": {},
   "outputs": [],
   "source": [
    "processes = [mp.Process(target=rand_string, args=(5, x, output)) for x in range(4)]"
   ]
  },
  {
   "cell_type": "code",
   "execution_count": 12,
   "metadata": {},
   "outputs": [],
   "source": [
    "for p in processes:\n",
    "    p.start()\n",
    "\n",
    "for p in processes:\n",
    "    p.join()"
   ]
  },
  {
   "cell_type": "code",
   "execution_count": 13,
   "metadata": {},
   "outputs": [],
   "source": [
    "results = [output.get() for p in processes]"
   ]
  },
  {
   "cell_type": "code",
   "execution_count": 14,
   "metadata": {},
   "outputs": [
    {
     "data": {
      "text/plain": [
       "[(0, '3MyLt'), (1, 'aV48W'), (2, '1Xhil'), (3, 'qa9xj')]"
      ]
     },
     "execution_count": 14,
     "metadata": {},
     "output_type": "execute_result"
    },
    {
     "name": "stdout",
     "output_type": "stream",
     "text": [
      "['3MyLt', 'aV48W', '1Xhil', 'qa9xj']\n"
     ]
    }
   ],
   "source": [
    "results\n",
    "results.sort()\n",
    "results = [r[1] for r in results]\n",
    "print(results)"
   ]
  },
  {
   "cell_type": "code",
   "execution_count": null,
   "metadata": {},
   "outputs": [],
   "source": []
  },
  {
   "cell_type": "markdown",
   "metadata": {},
   "source": [
    "###### A simpler way to maintain an ordered list is to use the pool.apply and pool.map funcitions"
   ]
  },
  {
   "cell_type": "code",
   "execution_count": 15,
   "metadata": {},
   "outputs": [],
   "source": [
    "def cube(x):\n",
    "    return x**3"
   ]
  },
  {
   "cell_type": "code",
   "execution_count": 16,
   "metadata": {},
   "outputs": [],
   "source": [
    "pool = mp.Pool(processes=4)"
   ]
  },
  {
   "cell_type": "code",
   "execution_count": 17,
   "metadata": {},
   "outputs": [
    {
     "data": {
      "text/plain": [
       "[1, 8, 27, 64, 125, 216]"
      ]
     },
     "execution_count": 17,
     "metadata": {},
     "output_type": "execute_result"
    }
   ],
   "source": [
    "results = [pool.apply(cube, args=(x,)) for x in range(1, 7)]\n",
    "results"
   ]
  },
  {
   "cell_type": "code",
   "execution_count": 18,
   "metadata": {},
   "outputs": [],
   "source": [
    "pool = mp.Pool(processes=4)\n",
    "results = pool.map(cube, range(1, 7))"
   ]
  },
  {
   "cell_type": "code",
   "execution_count": 19,
   "metadata": {},
   "outputs": [
    {
     "data": {
      "text/plain": [
       "[1, 8, 27, 64, 125, 216]"
      ]
     },
     "execution_count": 19,
     "metadata": {},
     "output_type": "execute_result"
    }
   ],
   "source": [
    "results"
   ]
  },
  {
   "cell_type": "markdown",
   "metadata": {},
   "source": [
    "Using async variants - pool.map and pool.apply will lock the main program until all processes are finished. The async variants will retrieve the results as soon as they are finished - we have to use the get method"
   ]
  },
  {
   "cell_type": "code",
   "execution_count": 20,
   "metadata": {},
   "outputs": [
    {
     "name": "stdout",
     "output_type": "stream",
     "text": [
      "[1, 8, 27, 64, 125, 216]\n"
     ]
    }
   ],
   "source": [
    "pool = mp.Pool(processes=4)\n",
    "results = [pool.apply_async(cube, args=(x,)) for x in range(1, 7)]\n",
    "\n",
    "output = [p.get() for p in results]\n",
    "print(output)"
   ]
  },
  {
   "cell_type": "code",
   "execution_count": null,
   "metadata": {},
   "outputs": [],
   "source": []
  },
  {
   "cell_type": "markdown",
   "metadata": {},
   "source": [
    "###### Kernel density estimation as benchmarking function"
   ]
  },
  {
   "cell_type": "code",
   "execution_count": 21,
   "metadata": {},
   "outputs": [],
   "source": [
    "import numpy as np\n",
    "\n",
    "def parzen_estimation(x_samples, point_x, h):\n",
    "    \"\"\"\n",
    "    Implementation of a hypercube kernel for parzen window estimation.\n",
    "    \n",
    "    Keyword arguments:\n",
    "        x_sample: training sample, 'd x 1'-dimentional numpy array\n",
    "        x: point x for density estimation, 'd x 1' dimentional numpy array\n",
    "        h: window width\n",
    "    \n",
    "    Returns the predicted pdf as a float\n",
    "    \"\"\"\n",
    "    k_n = 0\n",
    "    for row in x_samples:\n",
    "        x_i = (point_x - row[:, np.newaxis])/ (h)\n",
    "        for row in x_i:\n",
    "            if np.abs(row) > (1/2):\n",
    "                break\n",
    "        else: # completion else: this is only executed if the preceeding code block has finished\n",
    "            k_n += 1\n",
    "    return (k_n / len(x_samples)) / (h**point_x.shape[1])"
   ]
  },
  {
   "cell_type": "code",
   "execution_count": 22,
   "metadata": {},
   "outputs": [],
   "source": [
    "%matplotlib inline"
   ]
  },
  {
   "cell_type": "code",
   "execution_count": 23,
   "metadata": {},
   "outputs": [],
   "source": [
    "from mpl_toolkits.mplot3d import Axes3D\n",
    "import matplotlib.pyplot as plt\n",
    "from itertools import product, combinations"
   ]
  },
  {
   "cell_type": "code",
   "execution_count": 24,
   "metadata": {},
   "outputs": [
    {
     "data": {
      "text/plain": [
       "<mpl_toolkits.mplot3d.art3d.Path3DCollection at 0x7ff6f6fb8ef0>"
      ]
     },
     "execution_count": 24,
     "metadata": {},
     "output_type": "execute_result"
    },
    {
     "data": {
      "text/plain": [
       "<mpl_toolkits.mplot3d.art3d.Path3DCollection at 0x7ff6f6f4c470>"
      ]
     },
     "execution_count": 24,
     "metadata": {},
     "output_type": "execute_result"
    },
    {
     "data": {
      "text/plain": [
       "<mpl_toolkits.mplot3d.art3d.Path3DCollection at 0x7ff6f6f4c940>"
      ]
     },
     "execution_count": 24,
     "metadata": {},
     "output_type": "execute_result"
    },
    {
     "data": {
      "text/plain": [
       "<mpl_toolkits.mplot3d.art3d.Path3DCollection at 0x7ff6f6f4ccf8>"
      ]
     },
     "execution_count": 24,
     "metadata": {},
     "output_type": "execute_result"
    },
    {
     "data": {
      "text/plain": [
       "<mpl_toolkits.mplot3d.art3d.Path3DCollection at 0x7ff6f6f6b0b8>"
      ]
     },
     "execution_count": 24,
     "metadata": {},
     "output_type": "execute_result"
    },
    {
     "data": {
      "text/plain": [
       "<mpl_toolkits.mplot3d.art3d.Path3DCollection at 0x7ff6f6f6b4a8>"
      ]
     },
     "execution_count": 24,
     "metadata": {},
     "output_type": "execute_result"
    },
    {
     "data": {
      "text/plain": [
       "<mpl_toolkits.mplot3d.art3d.Path3DCollection at 0x7ff6f6f6b160>"
      ]
     },
     "execution_count": 24,
     "metadata": {},
     "output_type": "execute_result"
    },
    {
     "data": {
      "text/plain": [
       "<mpl_toolkits.mplot3d.art3d.Path3DCollection at 0x7ff6f6f6bc88>"
      ]
     },
     "execution_count": 24,
     "metadata": {},
     "output_type": "execute_result"
    },
    {
     "data": {
      "text/plain": [
       "<mpl_toolkits.mplot3d.art3d.Path3DCollection at 0x7ff6f6f6bda0>"
      ]
     },
     "execution_count": 24,
     "metadata": {},
     "output_type": "execute_result"
    },
    {
     "data": {
      "text/plain": [
       "<mpl_toolkits.mplot3d.art3d.Path3DCollection at 0x7ff6f6f74320>"
      ]
     },
     "execution_count": 24,
     "metadata": {},
     "output_type": "execute_result"
    },
    {
     "data": {
      "text/plain": [
       "[<mpl_toolkits.mplot3d.art3d.Line3D at 0x7ff6ff88ab38>]"
      ]
     },
     "execution_count": 24,
     "metadata": {},
     "output_type": "execute_result"
    },
    {
     "data": {
      "text/plain": [
       "[<mpl_toolkits.mplot3d.art3d.Line3D at 0x7ff6f6f74780>]"
      ]
     },
     "execution_count": 24,
     "metadata": {},
     "output_type": "execute_result"
    },
    {
     "data": {
      "text/plain": [
       "[<mpl_toolkits.mplot3d.art3d.Line3D at 0x7ff6f6f74eb8>]"
      ]
     },
     "execution_count": 24,
     "metadata": {},
     "output_type": "execute_result"
    },
    {
     "data": {
      "text/plain": [
       "[<mpl_toolkits.mplot3d.art3d.Line3D at 0x7ff6f6f6ba58>]"
      ]
     },
     "execution_count": 24,
     "metadata": {},
     "output_type": "execute_result"
    },
    {
     "data": {
      "text/plain": [
       "[<mpl_toolkits.mplot3d.art3d.Line3D at 0x7ff6f6f6c6d8>]"
      ]
     },
     "execution_count": 24,
     "metadata": {},
     "output_type": "execute_result"
    },
    {
     "data": {
      "text/plain": [
       "[<mpl_toolkits.mplot3d.art3d.Line3D at 0x7ff6f6f6cb38>]"
      ]
     },
     "execution_count": 24,
     "metadata": {},
     "output_type": "execute_result"
    },
    {
     "data": {
      "text/plain": [
       "[<mpl_toolkits.mplot3d.art3d.Line3D at 0x7ff6f6f6cf98>]"
      ]
     },
     "execution_count": 24,
     "metadata": {},
     "output_type": "execute_result"
    },
    {
     "data": {
      "text/plain": [
       "[<mpl_toolkits.mplot3d.art3d.Line3D at 0x7ff6f6f09438>]"
      ]
     },
     "execution_count": 24,
     "metadata": {},
     "output_type": "execute_result"
    },
    {
     "data": {
      "text/plain": [
       "[<mpl_toolkits.mplot3d.art3d.Line3D at 0x7ff6f6f09898>]"
      ]
     },
     "execution_count": 24,
     "metadata": {},
     "output_type": "execute_result"
    },
    {
     "data": {
      "text/plain": [
       "[<mpl_toolkits.mplot3d.art3d.Line3D at 0x7ff6f6f09cf8>]"
      ]
     },
     "execution_count": 24,
     "metadata": {},
     "output_type": "execute_result"
    },
    {
     "data": {
      "text/plain": [
       "[<mpl_toolkits.mplot3d.art3d.Line3D at 0x7ff6f6f09e10>]"
      ]
     },
     "execution_count": 24,
     "metadata": {},
     "output_type": "execute_result"
    },
    {
     "data": {
      "text/plain": [
       "[<mpl_toolkits.mplot3d.art3d.Line3D at 0x7ff6f6f0f5f8>]"
      ]
     },
     "execution_count": 24,
     "metadata": {},
     "output_type": "execute_result"
    },
    {
     "data": {
      "text/plain": [
       "(-1.5, 1.5)"
      ]
     },
     "execution_count": 24,
     "metadata": {},
     "output_type": "execute_result"
    },
    {
     "data": {
      "text/plain": [
       "(-1.5, 1.5)"
      ]
     },
     "execution_count": 24,
     "metadata": {},
     "output_type": "execute_result"
    },
    {
     "data": {
      "text/plain": [
       "(-1.5, 1.5)"
      ]
     },
     "execution_count": 24,
     "metadata": {},
     "output_type": "execute_result"
    },
    {
     "data": {
      "image/png": "[encoded data removed]",
      "text/plain": [
       "<matplotlib.figure.Figure at 0x7ff6ff88a4a8>"
      ]
     },
     "metadata": {},
     "output_type": "display_data"
    }
   ],
   "source": [
    "fig = plt.figure(figsize=(7, 7))\n",
    "ax = fig.gca(projection=\"3d\")\n",
    "ax.set_aspect(\"equal\")\n",
    "\n",
    "X_inside = np.array([[0, 0, 0], [0.2, 0.2, 0.2], [0.1, -0.1, -0.3]])\n",
    "\n",
    "X_outside = np.array([[-1.2,0.3,-0.3],[0.8,-0.82,-0.9],[1, 0.6, -0.7],\n",
    "                      [0.8,0.7,0.2],[0.7,-0.8,-0.45],[-0.3, 0.6, 0.9],\n",
    "                      [0.7,-0.6,-0.8]])\n",
    "\n",
    "for row in X_inside:\n",
    "    ax.scatter(row[0], row[1], row[2], color=\"r\", s=50, marker='^')\n",
    "\n",
    "for row in X_outside:    \n",
    "    ax.scatter(row[0], row[1], row[2], color=\"k\", s=50)\n",
    "\n",
    "# Plot Cube\n",
    "h = [-0.5, 0.5]\n",
    "for s, e in combinations(np.array(list(product(h,h,h))), 2):\n",
    "    if np.sum(np.abs(s-e)) == h[1]-h[0]:\n",
    "        ax.plot3D(*zip(s,e), color=\"g\")\n",
    "        \n",
    "ax.set_xlim(-1.5, 1.5)\n",
    "ax.set_ylim(-1.5, 1.5)\n",
    "ax.set_zlim(-1.5, 1.5)\n",
    "\n",
    "plt.show()"
   ]
  },
  {
   "cell_type": "code",
   "execution_count": 25,
   "metadata": {},
   "outputs": [
    {
     "name": "stdout",
     "output_type": "stream",
     "text": [
      "p(x) = 0.3\n"
     ]
    }
   ],
   "source": [
    "point_x = np.array([[0],[0],[0]])\n",
    "X_all = np.vstack((X_inside,X_outside))\n",
    "\n",
    "print('p(x) =', parzen_estimation(X_all, point_x, h=1))"
   ]
  },
  {
   "cell_type": "code",
   "execution_count": 26,
   "metadata": {},
   "outputs": [],
   "source": [
    "np.random.seed(123)\n",
    "\n",
    "mu_vec = np.array([0, 0])\n",
    "cov_mat = np.array([[1, 0], [0, 1]])\n",
    "x_2Dgauss = np.random.multivariate_normal(mu_vec, cov_mat, 10000)"
   ]
  },
  {
   "cell_type": "code",
   "execution_count": 27,
   "metadata": {},
   "outputs": [
    {
     "name": "stdout",
     "output_type": "stream",
     "text": [
      "actual probability density: 0.15915494309189535\n"
     ]
    }
   ],
   "source": [
    "from scipy.stats import multivariate_normal\n",
    "var = multivariate_normal(mean=[0,0], cov=[[1,0],[0,1]])\n",
    "print('actual probability density:', var.pdf([0,0]))"
   ]
  },
  {
   "cell_type": "code",
   "execution_count": null,
   "metadata": {},
   "outputs": [],
   "source": []
  },
  {
   "cell_type": "code",
   "execution_count": 28,
   "metadata": {},
   "outputs": [],
   "source": [
    "def parzen_estimation(x_samples, point_x, h):\n",
    "    k_n = 0\n",
    "    for row in x_samples:\n",
    "        x_i = (point_x - row[:,np.newaxis]) / (h)\n",
    "        for row in x_i:\n",
    "            if np.abs(row) > (1/2):\n",
    "                break\n",
    "        else: # \"completion-else\"*\n",
    "            k_n += 1\n",
    "    return (h, (k_n / len(x_samples)) / (h**point_x.shape[1]))"
   ]
  },
  {
   "cell_type": "code",
   "execution_count": 29,
   "metadata": {},
   "outputs": [],
   "source": [
    "def serial(samples, x, widths):\n",
    "    return [parzen_estimation(samples, x, w) for w in widths]\n",
    "\n",
    "def multiprocess(processes, samples, x, widths):\n",
    "    pool = mp.Pool(processes=processes)\n",
    "    results = [pool.apply_async(parzen_estimation, args=(samples, x, w)) for w in widths]\n",
    "    results = [p.get() for p in results]\n",
    "    results.sort() # to sort the results by input window width\n",
    "    return results"
   ]
  },
  {
   "cell_type": "code",
   "execution_count": 30,
   "metadata": {},
   "outputs": [
    {
     "name": "stdout",
     "output_type": "stream",
     "text": [
      "h = 0.1, p(x) = 0.016\n",
      "h = 0.2, p(x) = 0.0305\n",
      "h = 0.30000000000000004, p(x) = 0.04499999999999999\n",
      "h = 0.4, p(x) = 0.06175\n",
      "h = 0.5, p(x) = 0.078\n",
      "h = 0.6, p(x) = 0.09116666666666667\n",
      "h = 0.7000000000000001, p(x) = 0.106\n",
      "h = 0.8, p(x) = 0.117375\n",
      "h = 0.9, p(x) = 0.13266666666666668\n",
      "h = 1.0, p(x) = 0.1445\n",
      "h = 1.1, p(x) = 0.1570909090909091\n",
      "h = 1.2000000000000002, p(x) = 0.16849999999999996\n"
     ]
    }
   ],
   "source": [
    "widths = np.arange(0.1, 1.3, 0.1)\n",
    "point_x = np.array([[0],[0]])\n",
    "results = []\n",
    "\n",
    "results = multiprocess(4, x_2Dgauss, point_x, widths)\n",
    "\n",
    "for r in results:\n",
    "    print('h = %s, p(x) = %s' %(r[0], r[1]))"
   ]
  },
  {
   "cell_type": "code",
   "execution_count": 31,
   "metadata": {},
   "outputs": [],
   "source": [
    "widths = np.linspace(1.0, 1.2, 100)"
   ]
  },
  {
   "cell_type": "code",
   "execution_count": 32,
   "metadata": {},
   "outputs": [],
   "source": [
    "import timeit\n",
    "\n",
    "mu_vec = np.array([0,0])\n",
    "cov_mat = np.array([[1,0],[0,1]])\n",
    "n = 10000\n",
    "\n",
    "x_2Dgauss = np.random.multivariate_normal(mu_vec, cov_mat, n)\n",
    "\n",
    "benchmarks = []\n",
    "\n",
    "benchmarks.append(timeit.Timer('serial(x_2Dgauss, point_x, widths)', \n",
    "            'from __main__ import serial, x_2Dgauss, point_x, widths').timeit(number=1))\n",
    "\n",
    "benchmarks.append(timeit.Timer('multiprocess(2, x_2Dgauss, point_x, widths)', \n",
    "            'from __main__ import multiprocess, x_2Dgauss, point_x, widths').timeit(number=1))\n",
    "\n",
    "benchmarks.append(timeit.Timer('multiprocess(3, x_2Dgauss, point_x, widths)', \n",
    "            'from __main__ import multiprocess, x_2Dgauss, point_x, widths').timeit(number=1))\n",
    "\n",
    "benchmarks.append(timeit.Timer('multiprocess(4, x_2Dgauss, point_x, widths)', \n",
    "            'from __main__ import multiprocess, x_2Dgauss, point_x, widths').timeit(number=1))\n",
    "\n",
    "benchmarks.append(timeit.Timer('multiprocess(6, x_2Dgauss, point_x, widths)', \n",
    "            'from __main__ import multiprocess, x_2Dgauss, point_x, widths').timeit(number=1))"
   ]
  },
  {
   "cell_type": "code",
   "execution_count": 33,
   "metadata": {},
   "outputs": [],
   "source": [
    "import platform\n",
    "\n",
    "def print_sysinfo():\n",
    "    \n",
    "    print('\\nPython version  :', platform.python_version())\n",
    "    print('compiler        :', platform.python_compiler())\n",
    "    \n",
    "    print('\\nsystem     :', platform.system())\n",
    "    print('release    :', platform.release())\n",
    "    print('machine    :', platform.machine())\n",
    "    print('processor  :', platform.processor())\n",
    "    print('CPU count  :', mp.cpu_count())\n",
    "    print('interpreter:', platform.architecture()[0])\n",
    "    print('\\n\\n')"
   ]
  },
  {
   "cell_type": "code",
   "execution_count": 34,
   "metadata": {},
   "outputs": [],
   "source": [
    "from matplotlib import pyplot as plt\n",
    "import numpy as np\n",
    "\n",
    "def plot_results():\n",
    "    bar_labels = ['serial', '2', '3', '4', '6']\n",
    "\n",
    "    fig = plt.figure(figsize=(10,8))\n",
    "\n",
    "    # plot bars\n",
    "    y_pos = np.arange(len(benchmarks))\n",
    "    plt.yticks(y_pos, bar_labels, fontsize=16)\n",
    "    bars = plt.barh(y_pos, benchmarks,\n",
    "             align='center', alpha=0.4, color='g')\n",
    "\n",
    "    # annotation and labels\n",
    "    \n",
    "    for ba,be in zip(bars, benchmarks):\n",
    "        plt.text(ba.get_width() + 2, ba.get_y() + ba.get_height()/2,\n",
    "                '{0:.2%}'.format(benchmarks[0]/be), \n",
    "                ha='center', va='bottom', fontsize=12)\n",
    "    \n",
    "    plt.xlabel('time in seconds for n=%s' %n, fontsize=14)\n",
    "    plt.ylabel('number of processes', fontsize=14)\n",
    "    t = plt.title('Serial vs. Multiprocessing via Parzen-window estimation', fontsize=18)\n",
    "    plt.ylim([-1,len(benchmarks)+0.5])\n",
    "    plt.xlim([0,max(benchmarks)*1.1])\n",
    "    plt.vlines(benchmarks[0], -1, len(benchmarks)+0.5, linestyles='dashed')\n",
    "    plt.grid()\n",
    "\n",
    "    plt.show()"
   ]
  },
  {
   "cell_type": "code",
   "execution_count": 35,
   "metadata": {},
   "outputs": [
    {
     "data": {
      "image/png": "[encoded data removed]",
      "text/plain": [
       "<matplotlib.figure.Figure at 0x7ff6e4712c50>"
      ]
     },
     "metadata": {},
     "output_type": "display_data"
    },
    {
     "name": "stdout",
     "output_type": "stream",
     "text": [
      "\n",
      "Python version  : 3.6.4\n",
      "compiler        : GCC 7.2.0\n",
      "\n",
      "system     : Linux\n",
      "release    : 4.13.0-1011-azure\n",
      "machine    : x86_64\n",
      "processor  : x86_64\n",
      "CPU count  : 12\n",
      "interpreter: 64bit\n",
      "\n",
      "\n",
      "\n"
     ]
    }
   ],
   "source": [
    "plot_results()\n",
    "print_sysinfo()"
   ]
  },
  {
   "cell_type": "code",
   "execution_count": null,
   "metadata": {},
   "outputs": [],
   "source": []
  },
  {
   "cell_type": "code",
   "execution_count": null,
   "metadata": {},
   "outputs": [],
   "source": []
  },
  {
   "cell_type": "code",
   "execution_count": null,
   "metadata": {},
   "outputs": [],
   "source": []
  },
  {
   "cell_type": "code",
   "execution_count": null,
   "metadata": {},
   "outputs": [],
   "source": []
  },
  {
   "cell_type": "code",
   "execution_count": null,
   "metadata": {},
   "outputs": [],
   "source": []
  },
  {
   "cell_type": "code",
   "execution_count": null,
   "metadata": {},
   "outputs": [],
   "source": []
  }
 ],
 "metadata": {
  "kernelspec": {
   "display_name": "Python 3",
   "language": "python",
   "name": "python3"
  },
  "language_info": {
   "codemirror_mode": {
    "name": "ipython",
    "version": 3
   },
   "file_extension": ".py",
   "mimetype": "text/x-python",
   "name": "python",
   "nbconvert_exporter": "python",
   "pygments_lexer": "ipython3",
   "version": "3.6.4"
  }
 },
 "nbformat": 4,
 "nbformat_minor": 2
}
