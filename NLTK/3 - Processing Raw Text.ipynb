{
 "cells": [
  {
   "cell_type": "code",
   "execution_count": 3,
   "metadata": {
    "collapsed": true
   },
   "outputs": [],
   "source": [
    "from IPython.core.interactiveshell import InteractiveShell\n",
    "InteractiveShell.ast_node_interactivity = \"all\"\n",
    "import nltk, re, pprint\n",
    "from nltk import word_tokenize # for every chapter from now"
   ]
  },
  {
   "cell_type": "code",
   "execution_count": 4,
   "metadata": {
    "collapsed": true
   },
   "outputs": [],
   "source": [
    "import requests"
   ]
  },
  {
   "cell_type": "code",
   "execution_count": 3,
   "metadata": {
    "collapsed": true
   },
   "outputs": [],
   "source": [
    "raw = requests.get(\"http://www.gutenberg.org/files/2554/2554.txt\")"
   ]
  },
  {
   "cell_type": "code",
   "execution_count": 4,
   "metadata": {
    "collapsed": false
   },
   "outputs": [
    {
     "data": {
      "text/plain": [
       "str"
      ]
     },
     "execution_count": 4,
     "metadata": {},
     "output_type": "execute_result"
    }
   ],
   "source": [
    "type(raw.text)"
   ]
  },
  {
   "cell_type": "code",
   "execution_count": 5,
   "metadata": {
    "collapsed": false
   },
   "outputs": [
    {
     "ename": "LookupError",
     "evalue": "\n**********************************************************************\n  Resource 'tokenizers/punkt/PY3/english.pickle' not found.\n  Please use the NLTK Downloader to obtain the resource:  >>>\n  nltk.download()\n  Searched in:\n    - '/home/kanishk/nltk_data'\n    - '/usr/share/nltk_data'\n    - '/usr/local/share/nltk_data'\n    - '/usr/lib/nltk_data'\n    - '/usr/local/lib/nltk_data'\n    - ''\n**********************************************************************",
     "output_type": "error",
     "traceback": [
      "\u001b[1;31m---------------------------------------------------------------------------\u001b[0m",
      "\u001b[1;31mLookupError\u001b[0m                               Traceback (most recent call last)",
      "\u001b[1;32m<ipython-input-5-16320ed49293>\u001b[0m in \u001b[0;36m<module>\u001b[1;34m()\u001b[0m\n\u001b[1;32m----> 1\u001b[1;33m \u001b[0mtokens\u001b[0m \u001b[1;33m=\u001b[0m \u001b[0mword_tokenize\u001b[0m\u001b[1;33m(\u001b[0m\u001b[0mraw\u001b[0m\u001b[1;33m.\u001b[0m\u001b[0mtext\u001b[0m\u001b[1;33m)\u001b[0m\u001b[1;33m\u001b[0m\u001b[0m\n\u001b[0m\u001b[0;32m      2\u001b[0m \u001b[0mtype\u001b[0m\u001b[1;33m(\u001b[0m\u001b[0mtokens\u001b[0m\u001b[1;33m)\u001b[0m\u001b[1;33m\u001b[0m\u001b[0m\n\u001b[0;32m      3\u001b[0m \u001b[0mlen\u001b[0m\u001b[1;33m(\u001b[0m\u001b[0mtokens\u001b[0m\u001b[1;33m)\u001b[0m\u001b[1;33m\u001b[0m\u001b[0m\n\u001b[0;32m      4\u001b[0m \u001b[0mtokens\u001b[0m\u001b[1;33m[\u001b[0m\u001b[1;33m:\u001b[0m\u001b[1;36m10\u001b[0m\u001b[1;33m]\u001b[0m\u001b[1;33m\u001b[0m\u001b[0m\n",
      "\u001b[1;32m/home/kanishk/anaconda3/lib/python3.5/site-packages/nltk/tokenize/__init__.py\u001b[0m in \u001b[0;36mword_tokenize\u001b[1;34m(text, language)\u001b[0m\n\u001b[0;32m    103\u001b[0m     \u001b[1;33m:\u001b[0m\u001b[0mparam\u001b[0m \u001b[0mlanguage\u001b[0m\u001b[1;33m:\u001b[0m \u001b[0mthe\u001b[0m \u001b[0mmodel\u001b[0m \u001b[0mname\u001b[0m \u001b[1;32min\u001b[0m \u001b[0mthe\u001b[0m \u001b[0mPunkt\u001b[0m \u001b[0mcorpus\u001b[0m\u001b[1;33m\u001b[0m\u001b[0m\n\u001b[0;32m    104\u001b[0m     \"\"\"\n\u001b[1;32m--> 105\u001b[1;33m     return [token for sent in sent_tokenize(text, language)\n\u001b[0m\u001b[0;32m    106\u001b[0m             for token in _treebank_word_tokenize(sent)]\n\u001b[0;32m    107\u001b[0m \u001b[1;33m\u001b[0m\u001b[0m\n",
      "\u001b[1;32m/home/kanishk/anaconda3/lib/python3.5/site-packages/nltk/tokenize/__init__.py\u001b[0m in \u001b[0;36msent_tokenize\u001b[1;34m(text, language)\u001b[0m\n\u001b[0;32m     87\u001b[0m     \u001b[1;33m:\u001b[0m\u001b[0mparam\u001b[0m \u001b[0mlanguage\u001b[0m\u001b[1;33m:\u001b[0m \u001b[0mthe\u001b[0m \u001b[0mmodel\u001b[0m \u001b[0mname\u001b[0m \u001b[1;32min\u001b[0m \u001b[0mthe\u001b[0m \u001b[0mPunkt\u001b[0m \u001b[0mcorpus\u001b[0m\u001b[1;33m\u001b[0m\u001b[0m\n\u001b[0;32m     88\u001b[0m     \"\"\"\n\u001b[1;32m---> 89\u001b[1;33m     \u001b[0mtokenizer\u001b[0m \u001b[1;33m=\u001b[0m \u001b[0mload\u001b[0m\u001b[1;33m(\u001b[0m\u001b[1;34m'tokenizers/punkt/{0}.pickle'\u001b[0m\u001b[1;33m.\u001b[0m\u001b[0mformat\u001b[0m\u001b[1;33m(\u001b[0m\u001b[0mlanguage\u001b[0m\u001b[1;33m)\u001b[0m\u001b[1;33m)\u001b[0m\u001b[1;33m\u001b[0m\u001b[0m\n\u001b[0m\u001b[0;32m     90\u001b[0m     \u001b[1;32mreturn\u001b[0m \u001b[0mtokenizer\u001b[0m\u001b[1;33m.\u001b[0m\u001b[0mtokenize\u001b[0m\u001b[1;33m(\u001b[0m\u001b[0mtext\u001b[0m\u001b[1;33m)\u001b[0m\u001b[1;33m\u001b[0m\u001b[0m\n\u001b[0;32m     91\u001b[0m \u001b[1;33m\u001b[0m\u001b[0m\n",
      "\u001b[1;32m/home/kanishk/anaconda3/lib/python3.5/site-packages/nltk/data.py\u001b[0m in \u001b[0;36mload\u001b[1;34m(resource_url, format, cache, verbose, logic_parser, fstruct_reader, encoding)\u001b[0m\n\u001b[0;32m    799\u001b[0m \u001b[1;33m\u001b[0m\u001b[0m\n\u001b[0;32m    800\u001b[0m     \u001b[1;31m# Load the resource.\u001b[0m\u001b[1;33m\u001b[0m\u001b[1;33m\u001b[0m\u001b[0m\n\u001b[1;32m--> 801\u001b[1;33m     \u001b[0mopened_resource\u001b[0m \u001b[1;33m=\u001b[0m \u001b[0m_open\u001b[0m\u001b[1;33m(\u001b[0m\u001b[0mresource_url\u001b[0m\u001b[1;33m)\u001b[0m\u001b[1;33m\u001b[0m\u001b[0m\n\u001b[0m\u001b[0;32m    802\u001b[0m \u001b[1;33m\u001b[0m\u001b[0m\n\u001b[0;32m    803\u001b[0m     \u001b[1;32mif\u001b[0m \u001b[0mformat\u001b[0m \u001b[1;33m==\u001b[0m \u001b[1;34m'raw'\u001b[0m\u001b[1;33m:\u001b[0m\u001b[1;33m\u001b[0m\u001b[0m\n",
      "\u001b[1;32m/home/kanishk/anaconda3/lib/python3.5/site-packages/nltk/data.py\u001b[0m in \u001b[0;36m_open\u001b[1;34m(resource_url)\u001b[0m\n\u001b[0;32m    917\u001b[0m \u001b[1;33m\u001b[0m\u001b[0m\n\u001b[0;32m    918\u001b[0m     \u001b[1;32mif\u001b[0m \u001b[0mprotocol\u001b[0m \u001b[1;32mis\u001b[0m \u001b[1;32mNone\u001b[0m \u001b[1;32mor\u001b[0m \u001b[0mprotocol\u001b[0m\u001b[1;33m.\u001b[0m\u001b[0mlower\u001b[0m\u001b[1;33m(\u001b[0m\u001b[1;33m)\u001b[0m \u001b[1;33m==\u001b[0m \u001b[1;34m'nltk'\u001b[0m\u001b[1;33m:\u001b[0m\u001b[1;33m\u001b[0m\u001b[0m\n\u001b[1;32m--> 919\u001b[1;33m         \u001b[1;32mreturn\u001b[0m \u001b[0mfind\u001b[0m\u001b[1;33m(\u001b[0m\u001b[0mpath_\u001b[0m\u001b[1;33m,\u001b[0m \u001b[0mpath\u001b[0m \u001b[1;33m+\u001b[0m \u001b[1;33m[\u001b[0m\u001b[1;34m''\u001b[0m\u001b[1;33m]\u001b[0m\u001b[1;33m)\u001b[0m\u001b[1;33m.\u001b[0m\u001b[0mopen\u001b[0m\u001b[1;33m(\u001b[0m\u001b[1;33m)\u001b[0m\u001b[1;33m\u001b[0m\u001b[0m\n\u001b[0m\u001b[0;32m    920\u001b[0m     \u001b[1;32melif\u001b[0m \u001b[0mprotocol\u001b[0m\u001b[1;33m.\u001b[0m\u001b[0mlower\u001b[0m\u001b[1;33m(\u001b[0m\u001b[1;33m)\u001b[0m \u001b[1;33m==\u001b[0m \u001b[1;34m'file'\u001b[0m\u001b[1;33m:\u001b[0m\u001b[1;33m\u001b[0m\u001b[0m\n\u001b[0;32m    921\u001b[0m         \u001b[1;31m# urllib might not use mode='rb', so handle this one ourselves:\u001b[0m\u001b[1;33m\u001b[0m\u001b[1;33m\u001b[0m\u001b[0m\n",
      "\u001b[1;32m/home/kanishk/anaconda3/lib/python3.5/site-packages/nltk/data.py\u001b[0m in \u001b[0;36mfind\u001b[1;34m(resource_name, paths)\u001b[0m\n\u001b[0;32m    639\u001b[0m     \u001b[0msep\u001b[0m \u001b[1;33m=\u001b[0m \u001b[1;34m'*'\u001b[0m \u001b[1;33m*\u001b[0m \u001b[1;36m70\u001b[0m\u001b[1;33m\u001b[0m\u001b[0m\n\u001b[0;32m    640\u001b[0m     \u001b[0mresource_not_found\u001b[0m \u001b[1;33m=\u001b[0m \u001b[1;34m'\\n%s\\n%s\\n%s'\u001b[0m \u001b[1;33m%\u001b[0m \u001b[1;33m(\u001b[0m\u001b[0msep\u001b[0m\u001b[1;33m,\u001b[0m \u001b[0mmsg\u001b[0m\u001b[1;33m,\u001b[0m \u001b[0msep\u001b[0m\u001b[1;33m)\u001b[0m\u001b[1;33m\u001b[0m\u001b[0m\n\u001b[1;32m--> 641\u001b[1;33m     \u001b[1;32mraise\u001b[0m \u001b[0mLookupError\u001b[0m\u001b[1;33m(\u001b[0m\u001b[0mresource_not_found\u001b[0m\u001b[1;33m)\u001b[0m\u001b[1;33m\u001b[0m\u001b[0m\n\u001b[0m\u001b[0;32m    642\u001b[0m \u001b[1;33m\u001b[0m\u001b[0m\n\u001b[0;32m    643\u001b[0m \u001b[1;33m\u001b[0m\u001b[0m\n",
      "\u001b[1;31mLookupError\u001b[0m: \n**********************************************************************\n  Resource 'tokenizers/punkt/PY3/english.pickle' not found.\n  Please use the NLTK Downloader to obtain the resource:  >>>\n  nltk.download()\n  Searched in:\n    - '/home/kanishk/nltk_data'\n    - '/usr/share/nltk_data'\n    - '/usr/local/share/nltk_data'\n    - '/usr/lib/nltk_data'\n    - '/usr/local/lib/nltk_data'\n    - ''\n**********************************************************************"
     ]
    }
   ],
   "source": [
    "tokens = word_tokenize(raw.text)\n",
    "type(tokens)\n",
    "len(tokens)\n",
    "tokens[:10]"
   ]
  },
  {
   "cell_type": "code",
   "execution_count": 6,
   "metadata": {
    "collapsed": false
   },
   "outputs": [
    {
     "data": {
      "text/plain": [
       "nltk.text.Text"
      ]
     },
     "execution_count": 6,
     "metadata": {},
     "output_type": "execute_result"
    },
    {
     "data": {
      "text/plain": [
       "[]"
      ]
     },
     "execution_count": 6,
     "metadata": {},
     "output_type": "execute_result"
    },
    {
     "name": "stdout",
     "output_type": "stream",
     "text": [
      "FONT face=; Access Denied\n"
     ]
    }
   ],
   "source": [
    "text = nltk.Text(tokens) # create an nltk text from the list\n",
    "type(text)\n",
    "text[1024:1062]\n",
    "text.collocations() # Project gutenberg appears as a collacation"
   ]
  },
  {
   "cell_type": "code",
   "execution_count": 7,
   "metadata": {
    "collapsed": false
   },
   "outputs": [
    {
     "data": {
      "text/plain": [
       "-1"
      ]
     },
     "execution_count": 7,
     "metadata": {},
     "output_type": "execute_result"
    },
    {
     "data": {
      "text/plain": [
       "-1"
      ]
     },
     "execution_count": 7,
     "metadata": {},
     "output_type": "execute_result"
    },
    {
     "data": {
      "text/plain": [
       "-1"
      ]
     },
     "execution_count": 7,
     "metadata": {},
     "output_type": "execute_result"
    }
   ],
   "source": [
    "raw.text.find(\"PART I\") # we have to do some manual inspection to tell where the content begins and end\n",
    "raw.text.rfind(\"End of Project Gutenberg's Crime\") # reverse find\n",
    "raw = raw.text[5338:1157746]\n",
    "raw.find(\"PART I\")"
   ]
  },
  {
   "cell_type": "code",
   "execution_count": 8,
   "metadata": {
    "collapsed": false
   },
   "outputs": [
    {
     "data": {
      "text/plain": [
       "'<HTML><HEAD>\\n<TITLE>Access Denied</TITLE>\\n</HEAD>\\n<BODY>\\n<FO'"
      ]
     },
     "execution_count": 8,
     "metadata": {},
     "output_type": "execute_result"
    },
    {
     "name": "stderr",
     "output_type": "stream",
     "text": [
      "C:\\Users\\309292\\AppData\\Local\\Continuum\\Anaconda3\\lib\\site-packages\\bs4\\__init__.py:166: UserWarning: No parser was explicitly specified, so I'm using the best available HTML parser for this system (\"lxml\"). This usually isn't a problem, but if you run this code on another system, or in a different virtual environment, it may use a different parser and behave differently.\n",
      "\n",
      "To get rid of this warning, change this:\n",
      "\n",
      " BeautifulSoup([your markup])\n",
      "\n",
      "to this:\n",
      "\n",
      " BeautifulSoup([your markup], \"lxml\")\n",
      "\n",
      "  markup_type=markup_type))\n"
     ]
    },
    {
     "data": {
      "text/plain": [
       "['Access',\n",
       " 'Denied',\n",
       " 'Access',\n",
       " 'Denied',\n",
       " '(',\n",
       " 'authentication_failed',\n",
       " ')',\n",
       " 'Your',\n",
       " 'credentials',\n",
       " 'could',\n",
       " 'not',\n",
       " 'be',\n",
       " 'authenticated',\n",
       " ':',\n",
       " '``',\n",
       " 'Credentials',\n",
       " 'are',\n",
       " 'missing.',\n",
       " \"''\",\n",
       " '.',\n",
       " 'You',\n",
       " 'will',\n",
       " 'not',\n",
       " 'be',\n",
       " 'permitted',\n",
       " 'access',\n",
       " 'until',\n",
       " 'your',\n",
       " 'credentials',\n",
       " 'can',\n",
       " 'be',\n",
       " 'verified',\n",
       " '.',\n",
       " 'This',\n",
       " 'is',\n",
       " 'typically',\n",
       " 'caused',\n",
       " 'by',\n",
       " 'an',\n",
       " 'incorrect',\n",
       " 'username',\n",
       " 'and/or',\n",
       " 'password',\n",
       " ',',\n",
       " 'but',\n",
       " 'could',\n",
       " 'also',\n",
       " 'be',\n",
       " 'caused',\n",
       " 'by',\n",
       " 'network',\n",
       " 'problems',\n",
       " '.',\n",
       " 'For',\n",
       " 'assistance',\n",
       " ',',\n",
       " 'contact',\n",
       " 'your',\n",
       " 'network',\n",
       " 'support',\n",
       " 'team',\n",
       " '.']"
      ]
     },
     "execution_count": 8,
     "metadata": {},
     "output_type": "execute_result"
    }
   ],
   "source": [
    "# Dealing with HTML\n",
    "html = requests.get(\"http://news.bbc.co.uk/2/hi/health/2284783.stm\").text\n",
    "html[:60]\n",
    "from bs4 import BeautifulSoup\n",
    "raw = BeautifulSoup(html).get_text() # to get text out of an html\n",
    "tokens = word_tokenize(raw)\n",
    "tokens # this still contains unwanted material concerning site navigation and related stories"
   ]
  },
  {
   "cell_type": "code",
   "execution_count": 9,
   "metadata": {
    "collapsed": false
   },
   "outputs": [
    {
     "name": "stdout",
     "output_type": "stream",
     "text": [
      "No matches\n"
     ]
    }
   ],
   "source": [
    "tokens = tokens[110:390] # with some trial and error, we can find the start and end indexes of the content and select the tokens\n",
    "text = nltk.Text(tokens) # of interest, and initialize a text as before\n",
    "text.concordance('gene')"
   ]
  },
  {
   "cell_type": "code",
   "execution_count": 10,
   "metadata": {
    "collapsed": true
   },
   "outputs": [],
   "source": [
    "# Processing search engine results\n",
    "# the web is a huge corpus of unannotated text that can be searched for releavnt linguistic examples and due to the size, we can\n",
    "# find any linguistic pattern we are intereted in."
   ]
  },
  {
   "cell_type": "code",
   "execution_count": 36,
   "metadata": {
    "collapsed": false,
    "scrolled": true
   },
   "outputs": [
    {
     "ename": "ImportError",
     "evalue": "No module named 'feedparser'",
     "output_type": "error",
     "traceback": [
      "\u001b[1;31m---------------------------------------------------------------------------\u001b[0m",
      "\u001b[1;31mImportError\u001b[0m                               Traceback (most recent call last)",
      "\u001b[1;32m<ipython-input-36-5933246068b9>\u001b[0m in \u001b[0;36m<module>\u001b[1;34m()\u001b[0m\n\u001b[0;32m      1\u001b[0m \u001b[1;31m# Processing RSS feeds\u001b[0m\u001b[1;33m\u001b[0m\u001b[1;33m\u001b[0m\u001b[0m\n\u001b[1;32m----> 2\u001b[1;33m \u001b[1;32mimport\u001b[0m \u001b[0mfeedparser\u001b[0m\u001b[1;33m\u001b[0m\u001b[0m\n\u001b[0m",
      "\u001b[1;31mImportError\u001b[0m: No module named 'feedparser'"
     ]
    }
   ],
   "source": [
    "# Processing RSS feeds\n",
    "import feedparser # cannot open on this computer"
   ]
  },
  {
   "cell_type": "code",
   "execution_count": 3,
   "metadata": {
    "collapsed": false
   },
   "outputs": [
    {
     "data": {
      "text/plain": [
       "'1\\ta\\n2\\ta\\n3\\tb\\n4\\tb\\n5\\ta\\n6\\ta\\n7\\ta\\n8\\ta\\n9\\tc\\n10\\tc\\n11\\ta\\n12\\ta\\n13\\ta\\n14\\ta\\n15\\ta\\n16\\ta\\n17\\ta\\n18\\tc\\n19\\tb\\n20\\ta\\n21\\ta\\n22\\ta\\n23\\ta\\n24\\tb\\n25\\tab\\n26\\tabc\\n27\\tab\\n28\\tbc\\n29\\tabd\\n30\\tab\\n'"
      ]
     },
     "execution_count": 3,
     "metadata": {},
     "output_type": "execute_result"
    }
   ],
   "source": [
    "# Reading local files\n",
    "# use the function open()\n",
    "f = open(\"C:/Users/309292/Desktop/QT.txt\")\n",
    "raw = f.read()\n",
    "raw"
   ]
  },
  {
   "cell_type": "code",
   "execution_count": 4,
   "metadata": {
    "collapsed": false
   },
   "outputs": [
    {
     "data": {
      "text/plain": [
       "['.ipynb_checkpoints',\n",
       " '1 - Language Processing and Python.ipynb',\n",
       " '2 - Accessing Text Corpora and Lexical Resources.ipynb',\n",
       " '3 - Processing Raw Text.ipynb']"
      ]
     },
     "execution_count": 4,
     "metadata": {},
     "output_type": "execute_result"
    }
   ],
   "source": [
    "# to check if a file is present in a directory\n",
    "import os\n",
    "os.listdir(\".\")"
   ]
  },
  {
   "cell_type": "code",
   "execution_count": null,
   "metadata": {
    "collapsed": true
   },
   "outputs": [],
   "source": [
    "# there are many ways of reading a file\n",
    "# the read method creates a string with the contents of the entire file\n",
    "# we can also extract text from a pdf, word, and other binary formats, tokenize strings and build vocabulary\n",
    "# the chapter shows some basic string operations I will skip here"
   ]
  },
  {
   "cell_type": "code",
   "execution_count": 10,
   "metadata": {
    "collapsed": false
   },
   "outputs": [],
   "source": [
    "# Text processing with unicode\n",
    "# How to use unicode to for processing texts that use non-ASCII character sets\n",
    "path = nltk.data.find(\"corpora/unicode_samples/polish-lat2.txt\")"
   ]
  },
  {
   "cell_type": "code",
   "execution_count": 11,
   "metadata": {
    "collapsed": false
   },
   "outputs": [
    {
     "name": "stdout",
     "output_type": "stream",
     "text": [
      "Pruska Biblioteka Państwowa. Jej dawne zbiory znane pod nazwą\n",
      "\"Berlinka\" to skarb kultury i sztuki niemieckiej. Przewiezione przez\n",
      "Niemców pod koniec II wojny światowej na Dolny Śląsk, zostały\n",
      "odnalezione po 1945 r. na terytorium Polski. Trafiły do Biblioteki\n",
      "Jagiellońskiej w Krakowie, obejmują ponad 500 tys. zabytkowych\n",
      "archiwaliów, m.in. manuskrypty Goethego, Mozarta, Beethovena, Bacha.\n"
     ]
    }
   ],
   "source": [
    "f = open(path, encoding=\"latin2\") # open can read encoded data into unicode strings and write unicode strings in encoded form\n",
    "for line in f:\n",
    "    line = line.strip()\n",
    "    print(line)"
   ]
  },
  {
   "cell_type": "code",
   "execution_count": 12,
   "metadata": {
    "collapsed": false
   },
   "outputs": [
    {
     "data": {
      "text/plain": [
       "324"
      ]
     },
     "execution_count": 12,
     "metadata": {},
     "output_type": "execute_result"
    },
    {
     "data": {
      "text/plain": [
       "'ń'"
      ]
     },
     "execution_count": 12,
     "metadata": {},
     "output_type": "execute_result"
    },
    {
     "data": {
      "text/plain": [
       "b'\\xc5\\x84'"
      ]
     },
     "execution_count": 12,
     "metadata": {},
     "output_type": "execute_result"
    }
   ],
   "source": [
    "ord(\"ń\")\n",
    "nacute = \"\\u0144\"\n",
    "nacute\n",
    "nacute.encode(\"utf8\") # to see how a character is represented as a sequence of bytes inside a file"
   ]
  },
  {
   "cell_type": "code",
   "execution_count": 13,
   "metadata": {
    "collapsed": false
   },
   "outputs": [
    {
     "name": "stdout",
     "output_type": "stream",
     "text": [
      "b'Niemc\\\\xf3w pod koniec II wojny \\\\u015bwiatowej na Dolny \\\\u015al\\\\u0105sk, zosta\\\\u0142y\\\\n'\n"
     ]
    }
   ],
   "source": [
    "# the module unicodedata lets us inspect the properties of unicode characters\n",
    "import unicodedata\n",
    "lines = open(path, encoding=\"latin2\").readlines()\n",
    "line = lines[2]\n",
    "print(line.encode(\"unicode_escape\"))"
   ]
  },
  {
   "cell_type": "code",
   "execution_count": 14,
   "metadata": {
    "collapsed": false
   },
   "outputs": [
    {
     "name": "stdout",
     "output_type": "stream",
     "text": [
      "b'\\xc3\\xb3' U+00f3 LATIN SMALL LETTER O WITH ACUTE\n",
      "b'\\xc5\\x9b' U+015b LATIN SMALL LETTER S WITH ACUTE\n",
      "b'\\xc5\\x9a' U+015a LATIN CAPITAL LETTER S WITH ACUTE\n",
      "b'\\xc4\\x85' U+0105 LATIN SMALL LETTER A WITH OGONEK\n",
      "b'\\xc5\\x82' U+0142 LATIN SMALL LETTER L WITH STROKE\n"
     ]
    }
   ],
   "source": [
    "for c in line:\n",
    "    if ord(c) > 127:\n",
    "        print(\"{} U+{:04x} {}\".format(c.encode(\"utf8\"), ord(c), unicodedata.name(c)))"
   ]
  },
  {
   "cell_type": "code",
   "execution_count": 61,
   "metadata": {
    "collapsed": true
   },
   "outputs": [],
   "source": [
    "# Regular expressions for detecting word patterns\n",
    "import re\n",
    "wordlist = [w for w in nltk.corpus.words.words(\"en\") if w.islower()]"
   ]
  },
  {
   "cell_type": "code",
   "execution_count": 62,
   "metadata": {
    "collapsed": false
   },
   "outputs": [
    {
     "name": "stdout",
     "output_type": "stream",
     "text": [
      "['abaissed', 'abandoned', 'abased', 'abashed', 'abatised', 'abed', 'aborted', 'abridged', 'abscessed', 'absconded', 'absorbed', 'abstracted', 'abstricted', 'accelerated', 'accepted', 'accidented', 'accoladed', 'accolated', 'accomplished', 'accosted', 'accredited', 'accursed', 'accused', 'accustomed', 'acetated', 'acheweed', 'aciculated', 'aciliated', 'acknowledged', 'acorned', 'acquainted', 'acquired', 'acquisited', 'acred', 'aculeated', 'addebted', 'added', 'addicted', 'addlebrained', 'addleheaded', 'addlepated', 'addorsed', 'adempted', 'adfected', 'adjoined', 'admired', 'admitted', 'adnexed', 'adopted', 'adossed', 'adreamed', 'adscripted', 'aduncated', 'advanced', 'advised', 'aeried', 'aethered', 'afeared', 'affected', 'affectioned', 'affined', 'afflicted', 'affricated', 'affrighted', 'affronted', 'aforenamed', 'afterfeed', 'aftershafted', 'afterthoughted', 'afterwitted', 'agazed', 'aged', 'agglomerated', 'aggrieved', 'agminated', 'agnamed', 'agonied', 'agreed', 'agueweed', 'ahungered', 'aiguilletted', 'ailweed', 'airbrained', 'airified', 'aiseweed', 'aisled', 'alarmed', 'alated', 'alimonied', 'aliped', 'alleyed', 'allied', 'alligatored', 'allseed', 'almsdeed', 'aloed', 'altared', 'alveolated', 'amazed', 'ameed', 'amiced', 'amphitheatered', 'ampullated', 'amused', 'anchored', 'angled', 'anguiped', 'anguished', 'angulated', 'angulinerved', 'anhungered', 'animated', 'aniseed', 'annodated', 'annulated', 'anomaliped', 'anserated', 'anteflected', 'anteflexed', 'antimoniated', 'antimoniureted', 'antimoniuretted', 'antiquated', 'antired', 'antiweed', 'antlered', 'apertured', 'apexed', 'apicifixed', 'apiculated', 'apocopated', 'apostrophied', 'appearanced', 'appellatived', 'appendaged', 'appendiculated', 'applied', 'appressed', 'aralkylated', 'arbored', 'arched', 'architraved', 'arcked', 'arcuated', 'ared', 'areolated', 'ariled', 'arillated', 'armchaired', 'armed', 'armied', 'armillated', 'armored', 'armoried', 'arpeggiated', 'arpeggioed', 'arrased', 'arrowed', 'arrowheaded', 'arrowweed', 'arseneted', 'arsenetted', 'arseniureted', 'articled', 'articulated', 'ashamed', 'ashlared', 'ashweed', 'aspersed', 'asphyxied', 'assented', 'assessed', 'assigned', 'assistanted', 'associated', 'assonanced', 'assorted', 'assumed', 'assured', 'asteriated', 'astonied', 'aswooned', 'atrophiated', 'atrophied', 'attached', 'attired', 'attrited', 'augmented', 'aurated', 'auricled', 'auriculated', 'authorized', 'autoinhibited', 'autosensitized', 'autosled', 'averted', 'avowed', 'awearied', 'awned', 'awninged', 'axed', 'axhammered', 'axised', 'axled', 'axseed', 'axweed', 'azoted', 'azured', 'babied', 'babished', 'babyfied', 'baccated', 'backboned', 'backed', 'backhanded', 'backwatered', 'baconweed', 'badgerweed', 'bagged', 'bagwigged', 'baked', 'balanced', 'balconied', 'baldachined', 'baldricked', 'balled', 'ballweed', 'balsamweed', 'balustered', 'balustraded', 'bandannaed', 'banded', 'bandoleered', 'bangled', 'banked', 'bankweed', 'bannered', 'barbated', 'barbed', 'barebacked', 'bareboned', 'barefaced', 'barefooted', 'barehanded', 'bareheaded', 'barelegged', 'barenecked', 'barmybrained', 'barred', 'barreled', 'bartizaned', 'basebred', 'based', 'basehearted', 'basifixed', 'basilweed', 'basined', 'basinerved', 'basqued', 'bastioned', 'bated', 'bathroomed', 'battered', 'batteried', 'battled', 'battlemented', 'bayed', 'bayoneted', 'beached', 'beaded', 'beaked', 'bealtared', 'beamed', 'beanweed', 'beaproned', 'bearded', 'beautied', 'beavered', 'beballed', 'bebannered', 'bebed', 'bebelted', 'bebled', 'bebothered', 'bebouldered', 'bebuttoned', 'becassocked', 'bechained', 'bechignoned', 'becircled', 'becoiffed', 'becombed', 'becousined', 'becrinolined', 'becuffed', 'becurtained', 'becushioned', 'bed', 'bedaggered', 'bedangled', 'bedded', 'bediademed', 'bediamonded', 'beedged', 'beefheaded', 'beeheaded', 'beeswinged', 'beetled', 'beetleheaded', 'beetleweed', 'beeweed', 'befamilied', 'befanned', 'befathered', 'beferned', 'befetished', 'befezzed', 'befilleted', 'befilmed', 'beforested', 'befountained', 'befrocked', 'befrogged', 'befurbelowed', 'befurred', 'begabled', 'begarlanded', 'begartered', 'beggarweed', 'beglobed', 'begoggled', 'begowned', 'behatted', 'behaviored', 'beheadlined', 'behooped', 'beinked', 'bekilted', 'beknived', 'beknotted', 'belaced', 'belated', 'belatticed', 'belavendered', 'beledgered', 'belfried', 'beliked', 'belimousined', 'belled', 'bellied', 'bellmouthed', 'bellweed', 'beloved', 'belozenged', 'belted', 'bemazed', 'bemedaled', 'bemedalled', 'bemitered', 'bemitred', 'bemused', 'bemuslined', 'bended', 'beneaped', 'beneficed', 'beneighbored', 'benempted', 'benighted', 'bennetweed', 'benumbed', 'benweed', 'benzoated', 'benzoinated', 'bepastured', 'bepatched', 'beperiwigged', 'bepewed', 'bepillared', 'bepistoled', 'beplaided', 'beplumed', 'beribanded', 'beribboned', 'beringed', 'beringleted', 'berobed', 'berouged', 'berried', 'berthed', 'beruffed', 'beruffled', 'beshawled', 'besieged', 'beslushed', 'besotted', 'bespecked', 'bespectacled', 'besped', 'bespeed', 'bespelled', 'bespurred', 'bestatued', 'bestayed', 'bestrapped', 'bestubbled', 'besweatered', 'betattered', 'betaxed', 'betowered', 'betrothed', 'betrousered', 'betted', 'betuckered', 'beturbaned', 'betusked', 'betutored', 'betwattled', 'beuniformed', 'beveled', 'bevelled', 'bevesseled', 'bevesselled', 'bevined', 'bevoiled', 'bewaitered', 'bewhiskered', 'bewigged', 'bewildered', 'bewinged', 'bewired', 'bewrathed', 'biangulated', 'biarcuated', 'biarticulated', 'bicarbureted', 'biciliated', 'bicolored', 'bicorned', 'bidented', 'bifanged', 'bifidated', 'biflected', 'biforked', 'biformed', 'bifronted', 'bifurcated', 'bigeminated', 'bighearted', 'bigmouthed', 'bigoted', 'bigwigged', 'bilamellated', 'bilaminated', 'billed', 'bilobated', 'bilobed', 'bilsted', 'bimaculated', 'bimotored', 'bindweed', 'bineweed', 'binominated', 'binucleated', 'biparted', 'bipectinated', 'biped', 'bipennated', 'bipinnated', 'bipinnatiparted', 'bipinnatisected', 'biradiated', 'birdmouthed', 'birdseed', 'birdweed', 'birostrated', 'birthbed', 'bisexed', 'bishopweed', 'bistered', 'bistipuled', 'bisubstituted', 'bitted', 'bitterhearted', 'bitterweed', 'bituberculated', 'bitumed', 'bivalved', 'bivaulted', 'bivocalized', 'blackhearted', 'blackseed', 'blackshirted', 'bladderseed', 'bladderweed', 'bladed', 'blakeberyed', 'blamed', 'blanked', 'blanketed', 'blanketweed', 'blasted', 'bleached', 'bleared', 'bleed', 'blended', 'blessed', 'blighted', 'blinded', 'blindfolded', 'blindweed', 'blinked', 'blinkered', 'blistered', 'blisterweed', 'blithehearted', 'bloated', 'blobbed', 'blocked', 'blockheaded', 'blooded', 'bloodied', 'bloodshed', 'bloodstained', 'bloodweed', 'blossomed', 'blotched', 'bloused', 'blowzed', 'bludgeoned', 'bluebelled', 'bluehearted', 'blueweed', 'blunderheaded', 'blunthearted', 'blurred', 'bobbed', 'bobsled', 'bobtailed', 'bodiced', 'bodied', 'boiled', 'boldhearted', 'bolectioned', 'boled', 'boleweed', 'bolled', 'bombed', 'bonded', 'boned', 'boneheaded', 'bonneted', 'booked', 'booted', 'bootied', 'boozed', 'bordered', 'bordured', 'bosomed', 'bossed', 'bosselated', 'botched', 'botherheaded', 'bothsided', 'bottled', 'bottomed', 'boughed', 'bounded', 'bountied', 'bowed', 'boweled', 'bowlegged', 'bowstringed', 'braced', 'braceleted', 'brackened', 'bracted', 'braided', 'brambled', 'branched', 'branded', 'brandied', 'brangled', 'bravehearted', 'brawned', 'brazenfaced', 'breasted', 'breastweed', 'breathed', 'brecciated', 'bred', 'breeched', 'breed', 'breviped', 'bridebed', 'brideweed', 'bridged', 'bridled', 'briered', 'brimmed', 'bristled', 'broadhearted', 'brocaded', 'brocked', 'brokenhearted', 'bromoiodized', 'bronzed', 'brooked', 'brookweed', 'broomweed', 'broozled', 'browed', 'brownweed', 'bruckled', 'brushed', 'buboed', 'bucked', 'buckled', 'buckskinned', 'buffed', 'bugled', 'bugleweed', 'bugseed', 'bugweed', 'bulbed', 'bulked', 'bulkheaded', 'bullated', 'bulldogged', 'bulleted', 'bulletheaded', 'bullheaded', 'bullweed', 'bummed', 'bundlerooted', 'bundweed', 'bunted', 'buried', 'burled', 'burned', 'burnoosed', 'burntweed', 'burred', 'burroweed', 'burseed', 'burweed', 'bushed', 'busied', 'busked', 'buskined', 'busted', 'bustled', 'busybodied', 'buttered', 'butterfingered', 'butterweed', 'butteryfingered', 'buttocked', 'buttoned', 'buttonweed', 'cabled', 'caboshed', 'caddiced', 'caddised', 'cadenced', 'cadweed', 'caftaned', 'caged', 'cairned', 'caissoned', 'calced', 'calcified', 'calcined', 'calculated', 'calibered', 'calicoed', 'caligated', 'calpacked', 'calved', 'calycled', 'calyculated', 'camailed', 'camerated', 'cammed', 'campanulated', 'campshed', 'camused', 'canaliculated', 'cancellated', 'cancered', 'cancerweed', 'candied', 'candlelighted', 'candlesticked', 'candyweed', 'canioned', 'cankered', 'cankerweed', 'canned', 'cannelated', 'cannelured', 'cannoned', 'cannulated', 'canted', 'cantilevered', 'cantoned', 'cantred', 'caped', 'capernoited', 'capeweed', 'capitaled', 'capitated', 'capped', 'capriped', 'capsulated', 'capuched', 'carapaced', 'carbolated', 'carboyed', 'carbuncled', 'carcaneted', 'carded', 'carinated', 'carkled', 'carnaged', 'carnationed', 'carpetweed', 'carried', 'carrotweed', 'carucated', 'carunculated', 'cased', 'casemated', 'casemented', 'caseweed', 'casqued', 'castellated', 'castled', 'castorized', 'catamited', 'cataracted', 'catarrhed', 'catchweed', 'catenated', 'caterpillared', 'catfaced', 'catfooted', 'cathedraled', 'caudated', 'caverned', 'cavitied', 'cayenned', 'cedared', 'ceilinged', 'celebrated', 'cellated', 'celled', 'cellulated', 'celluloided', 'centered', 'centriffed', 'centuried', 'cerated', 'cered', 'certified', 'chafeweed', 'chaffseed', 'chaffweed', 'chafted', 'chained', 'chaliced', 'chambered', 'chamberleted', 'chamberletted', 'chanceled', 'channeled', 'channelled', 'chaped', 'chapleted', 'chapournetted', 'chapped', 'charioted', 'charqued', 'chartered', 'chasmed', 'chasteweed', 'chasubled', 'checked', 'checkered', 'checkrowed', 'cheered', 'cheliped', 'cherried', 'chickenbreasted', 'chickenhearted', 'chickenweed', 'chickweed', 'chicqued', 'chiggerweed', 'chignoned', 'childbed', 'childed', 'chilled', 'chined', 'chinned', 'chipped', 'chiseled', 'chitinized', 'chokered', 'chokeweed', 'cholterheaded', 'chopped', 'choppered', 'chorded', 'chowderheaded', 'christened', 'chubbed', 'chuckleheaded', 'churchified', 'churled', 'ciliated', 'cingulated', 'cinnamoned', 'cinquefoiled', 'circled', 'circumscribed', 'circumstanced', 'cirrated', 'cirrhosed', 'cirriped', 'cisted', 'citied', 'citified', 'citrated', 'civilized', 'clammed', 'clammyweed', 'clanned', 'clapped', 'classed', 'classified', 'clavated', 'clavellated', 'clawed', 'claybrained', 'clayweed', 'cleaded', 'cleanhanded', 'cleanhearted', 'clearheaded', 'clearhearted', 'clearweed', 'cled', 'cleeked', 'clefted', 'clerestoried', 'cliented', 'cliffed', 'cliffweed', 'clipped', 'cloaked', 'clocked', 'clodpated', 'cloistered', 'closed', 'closefisted', 'closehanded', 'closehearted', 'closemouthed', 'clotweed', 'clouded', 'clouted', 'clovered', 'clubbed', 'clubfisted', 'clubfooted', 'clubweed', 'clustered', 'coaged', 'coaggregated', 'coated', 'coattailed', 'cobbed', 'cocashweed', 'cochleated', 'cockaded', 'cocked', 'cockeyed', 'cockled', 'cockneybred', 'cockscombed', 'cockweed', 'codheaded', 'coed', 'coelongated', 'coembedded', 'coequated', 'coexpanded', 'coffeeweed', 'cogged', 'coifed', 'coiled', 'coldhearted', 'coleseed', 'colicweed', 'collared', 'collected', 'collied', 'colloped', 'colonnaded', 'colored', 'columnated', 'columned', 'combed', 'combined', 'compacted', 'complected', 'complexioned', 'complicated', 'componed', 'componented', 'composed', 'compressed', 'comprised', 'compulsed', 'conamed', 'concamerated', 'concealed', 'conceded', 'conceited', 'concentrated', 'concerned', 'concerted', 'conched', 'conchyliated', 'condemned', 'condensed', 'conditioned', 'conduplicated', 'coned', 'confated', 'conferted', 'confined', 'confirmed', 'conflated', 'confounded', 'confused', 'congested', 'conjoined', 'conjugated', 'connected', 'conred', 'consecrated', 'considered', 'consolidated', 'constrained', 'constricted', 'consumpted', 'contagioned', 'contented', 'contextured', 'continued', 'contorted', 'contortioned', 'contracted', 'contractured', 'contusioned', 'converted', 'convexed', 'convinced', 'convoluted', 'coolheaded', 'coolweed', 'copied', 'copleased', 'copped', 'coppernosed', 'copperytailed', 'coppiced', 'coppled', 'copsewooded', 'copygraphed', 'coraled', 'corded', 'corduroyed', 'cored', 'coreflexed', 'corked', 'cornered', 'cornified', 'cornuated', 'cornuted', 'corollated', 'coronaled', 'coronated', 'coroneted', 'coronetted', 'corpusculated', 'corrected', 'correlated', 'corridored', 'corrugated', 'corrupted', 'corticated', 'corymbed', 'corymbiated', 'cosphered', 'costated', 'cothurned', 'cottaged', 'cotted', 'cottonseed', 'cottonweed', 'cotwinned', 'couched', 'coughweed', 'counterattired', 'counterchanged', 'countercolored', 'counterdigged', 'counterembattled', 'counterembowed', 'counterfessed', 'countergirded', 'counterindented', 'counterpaled', 'counterpaned', 'counterpointed', 'counterquartered', 'counterreflected', 'counterscalloped', 'counterturned', 'counterweighted', 'countrified', 'couped', 'coupled', 'couponed', 'coursed', 'courtbred', 'coved', 'covenanted', 'covered', 'coversed', 'cowhearted', 'cowled', 'cowshed', 'cowslipped', 'cowweed', 'crabbed', 'crabweed', 'crackbrained', 'cracked', 'crackled', 'cragged', 'cramped', 'cranked', 'crannied', 'cratered', 'cravenhearted', 'crazed', 'crazyweed', 'creed', 'creeded', 'creepered', 'crenated', 'crenelated', 'creneled', 'crenulated', 'cressed', 'cressweed', 'crested', 'creviced', 'cried', 'crinated', 'crined', 'crispated', 'crisped', 'crocketed', 'crocused', 'crookbacked', 'crookbilled', 'crooked', 'crookfingered', 'crookheaded', 'crookkneed', 'crooklegged', 'crooknecked', 'crooknosed', 'crookshouldered', 'crooksided', 'crooksterned', 'crooktoothed', 'cropweed', 'crosiered', 'crossbolted', 'crossbred', 'crossbreed', 'crosscurrented', 'crossed', 'crossleted', 'crosslighted', 'crosstied', 'crossweed', 'crotched', 'crouched', 'crowded', 'crowdweed', 'crowfooted', 'crowned', 'crowstepped', 'crucified', 'cruelhearted', 'crumpled', 'crunchweed', 'crushed', 'crustated', 'crusted', 'crutched', 'crypted', 'crystallized', 'cubited', 'cudweed', 'cuirassed', 'cultivated', 'cultrated', 'cultured', 'cuminseed', 'cupolated', 'cupped', 'cupseed', 'curled', 'curried', 'cursed', 'curtailed', 'curved', 'curvinerved', 'cushioned', 'cusped', 'cussed', 'cutted', 'cutweed', 'cyanosed', 'cylindered', 'cypressed', 'cysted', 'daggered', 'daggletailed', 'daisied', 'damascened', 'damned', 'damped', 'dappled', 'darkhearted', 'darned', 'dashed', 'dazed', 'deadhearted', 'dealated', 'deathbed', 'deathweed', 'debauched', 'debentured', 'debilitated', 'deboshed', 'decahydrated', 'decarbonized', 'decarnated', 'decayed', 'deceased', 'decided', 'decked', 'declared', 'declined', 'decollated', 'decomposed', 'decorated', 'decried', 'decussated', 'deed', 'deedeed', 'deepmouthed', 'deerweed', 'defamed', 'defeasanced', 'deferred', 'defiled', 'defined', 'deflected', 'defoliated', 'deformed', 'degged', 'degraded', 'dejected', 'deligated', 'delighted', 'demented', 'demersed', 'demibastioned', 'demicivilized', 'demidigested', 'demikindred', 'deminatured', 'demiturned', 'demoded', 'dentated', 'dentelated', 'dentilated', 'departed', 'dephlogisticated', 'deplored', 'deplumated', 'depraved', 'depressed', 'deranged', 'derived', 'deseed', 'desegmented', 'deserted', 'deserved', 'designed', 'desired', 'detached', 'detailed', 'determined', 'detrited', 'deuced', 'devertebrated', 'deviled', 'devitalized', 'devoted', 'dewclawed', 'dewlapped', 'diamonded', 'difformed', 'diffused', 'digammated', 'digested', 'digitated', 'digitinerved', 'dignified', 'dihydrated', 'dilapidated', 'dilated', 'dillseed', 'dillweed', 'diluted', 'dimensioned', 'dimmed', 'dipped', 'directed', 'disabled', 'disaccustomed', 'disaffected', 'disagreed', 'disappointed', 'disaproned', 'disarmed', 'discalced', 'disclosed', 'discolored', 'discomposed', 'disconcerted', 'disconnected', 'discontented', 'discovered', 'discrested', 'diseased', 'disembed', 'disengaged', 'disguised', 'disgusted', 'dished', 'disheveled', 'disimpassioned', 'disinterested', 'disjasked', 'disjointed', 'dislocated', 'dismayed', 'dismembered', 'dismoded', 'disnosed', 'disordained', 'disordered', 'disordinated', 'dispassioned', 'dispatriated', 'dispersed', 'dispirited', 'displayed', 'displeased', 'disposed', 'dispositioned', 'disprivacied', 'disquieted', 'disrelated', 'dissatisfied', 'dissected', 'dissipated', 'dissuited', 'distasted', 'distempered', 'distilled', 'distinguished', 'distorted', 'distracted', 'distressed', 'distributed', 'disturbed', 'disubstituted', 'dittied', 'diversicolored', 'diversified', 'divided', 'doated', 'dobbed', 'dodded', 'doddered', 'dodecahydrated', 'dogged', 'doggoned', 'doghearted', 'doiled', 'doited', 'doitrified', 'dominated', 'donated', 'donnered', 'doored', 'doorweed', 'dormered', 'dorsifixed', 'doted', 'dotted', 'doubled', 'doublehanded', 'doublehearted', 'doublehorned', 'doublelunged', 'doubleted', 'dovetailed', 'doveweed', 'dowed', 'downcurved', 'downfeed', 'downfolded', 'downheaded', 'downhearted', 'downlooked', 'downweed', 'downweighted', 'dozed', 'dozzled', 'drabbletailed', 'dragged', 'draggletailed', 'drained', 'drammed', 'draperied', 'dratted', 'dressed', 'dried', 'driftweed', 'dropseed', 'dropsied', 'drybrained', 'duckhearted', 'duckweed', 'ducted', 'dullbrained', 'dullhearted', 'dummered', 'dummyweed', 'dunderheaded', 'dungbred', 'dutied', 'dwelled', 'dyeweed', 'dynamometamorphosed', 'eared', 'earringed', 'earthbred', 'earthed', 'earthenhearted', 'earthquaked', 'eaved', 'eburated', 'eburnated', 'echinulated', 'edged', 'edgeweed', 'educated', 'elated', 'elbowed', 'electrofused', 'elevated', 'elongated', 'embannered', 'embarrassed', 'embastioned', 'embattled', 'embed', 'embowed', 'embryonated', 'emerited', 'emersed', 'emotioned', 'employed', 'emptyhearted', 'enamored', 'enarched', 'encuirassed', 'endeared', 'ended', 'endorsed', 'enfiled', 'enfonced', 'enforced', 'engaged', 'enghosted', 'engouled', 'engrailed', 'engrained', 'engraved', 'engrossed', 'enhanced', 'enjambed', 'enlarged', 'enlightened', 'enlisted', 'enraged', 'enrolled', 'entablatured', 'entangled', 'envied', 'enworthed', 'epauleted', 'epauletted', 'equiaxed', 'equilobed', 'equiped', 'equisegmented', 'equisided', 'equisized', 'equispaced', 'equivalenced', 'equivalved', 'erased', 'ergoted', 'ermined', 'eroded', 'escaloped', 'escutcheoned', 'essed', 'established', 'estafetted', 'ethered', 'euchred', 'evenhanded', 'evenminded', 'eveweed', 'evilhearted', 'evilmouthed', 'exaggerated', 'exalted', 'exasperated', 'exceed', 'excited', 'excurvated', 'excurved', 'excysted', 'executed', 'exhausted', 'exostosed', 'expanded', 'expedited', 'experienced', 'experimented', 'exploded', 'exposed', 'expressed', 'exserted', 'extended', 'extinguished', 'extraconstellated', 'extracted', 'extradosed', 'extrared', 'extricated', 'eyebridled', 'eyed', 'eyeseed', 'fabled', 'faced', 'faceted', 'facultied', 'faded', 'fainthearted', 'falcated', 'falsehearted', 'fancied', 'fanged', 'fangled', 'fanioned', 'fantasied', 'fanweed', 'farcied', 'farfetched', 'farsighted', 'farweltered', 'fasciated', 'fascicled', 'fasciculated', 'fascinated', 'fashioned', 'fastigated', 'fatbrained', 'fated', 'fatheaded', 'fathearted', 'fathered', 'faunated', 'faussebrayed', 'favored', 'feared', 'featherbed', 'featherbrained', 'feathered', 'featheredged', 'featherheaded', 'featherpated', 'featherweed', 'featured', 'fed', 'feeblebrained', 'feeblehearted', 'feed', 'feigned', 'felonweed', 'felted', 'fenestrated', 'ferned', 'ferntickled', 'ferrated', 'fetched', 'fetlocked', 'feued', 'feverweed', 'fezzed', 'fibered', 'fibrillated', 'fibrilled', 'fibronucleated', 'ficklehearted', 'fiddlebrained', 'fiddlefaced', 'fiddleheaded', 'fielded', 'fiercehearted', 'figged', 'figulated', 'figured', 'filamented', 'filiformed', 'filled', 'fimbriated', 'fimbricated', 'finchbacked', 'finched', 'fingered', 'fingerparted', 'finialed', 'finished', 'finned', 'fiorded', 'firearmed', 'firebolted', 'fired', 'firefanged', 'fireweed', 'firmhearted', 'fishbed', 'fished', 'fishweed', 'fissiped', 'fisted', 'fistulated', 'fitched', 'fitted', 'fittyfied', 'fitweed', 'fixed', 'flabellinerved', 'flacked', 'flagellated', 'flamed', 'flammulated', 'flanched', 'flanked', 'flanneled', 'flannelmouthed', 'flapmouthed', 'flated', 'flatweed', 'flavored', 'flawed', 'flaxseed', 'flaxweed', 'fleaseed', 'fleaweed', 'fleckled', 'fled', 'fleeced', 'fleshed', 'flewed', 'flexed', 'flexured', 'flighted', 'flinthearted', 'flixweed', 'flooded', 'floreted', 'floriated', 'flowered', 'flued', 'fluked', 'flurried', 'fluted', 'fluxweed', 'fogged', 'folded', 'foliaged', 'foliated', 'folliculated', 'fonted', 'footed', 'footnoted', 'foraminated', 'forbled', 'forced', 'forcipated', 'forebemoaned', 'forecited', 'foredefeated', 'foredeserved', 'foredevised', 'forehanded', 'foreheaded', 'foreimpressed', 'foreinclined', 'forementioned', 'forenamed', 'forenoted', 'forepassed', 'forepossessed', 'forepretended', 'forepromised', 'foreprovided', 'forequoted', 'forerecited', 'forerehearsed', 'foreremembered', 'foresettled', 'foresighted', 'forespecified', 'forespeed', 'forested', 'forethoughted', 'foretimed', 'foretypified', 'forevouched', 'forewonted', 'forficated', 'forged', 'forked', 'formed', 'fornicated', 'forthfigured', 'fortuned', 'fossed', 'fossilated', 'fossiled', 'foulmouthed', 'foundationed', 'fountained', 'foveated', 'foveolated', 'foxtailed', 'fracted', 'fragmented', 'framed', 'frankhearted', 'frankincensed', 'fratched', 'frayed', 'freckened', 'freckled', 'freed', 'freehanded', 'freehearted', 'frenched', 'frenzied', 'freshhearted', 'fretted', 'fretworked', 'fried', 'friended', 'frightened', 'frilled', 'fringed', 'frogged', 'fronded', 'fronted', 'frosted', 'frostweed', 'frowzled', 'frozenhearted', 'fructed', 'fruited', 'fullhearted', 'fullmouthed', 'funded', 'fungused', 'funneled', 'furied', 'furnished', 'furred', 'furriered', 'furzed', 'fused', 'gabelled', 'gabioned', 'gadded', 'gaited', 'galeated', 'galled', 'galleried', 'gallooned', 'gallweed', 'galvanized', 'gamboised', 'gambreled', 'gangliated', 'gapeseed', 'gardened', 'gargoyled', 'garnished', 'garreted', 'gartered', 'gaslighted', 'gated', 'gauffered', 'gaunted', 'gauntleted', 'geared', 'ged', 'gelatined', 'gemeled', 'geminated', 'generalized', 'geniculated', 'gentlehearted', 'gentlemouthed', 'gerated', 'gested', 'gewgawed', 'ghostified', 'ghostweed', 'gibbed', 'gied', 'gifted', 'gilded', 'gilled', 'gimbaled', 'gimbaljawed', 'gimberjawed', 'gimleteyed', 'gimped', 'ginghamed', 'ginned', 'gipsyweed', 'glaceed', 'glaciered', 'gladhearted', 'glaived', 'glaked', 'glandered', 'glassweed', 'glazed', 'gleed', 'globated', 'globed', 'glossed', 'glued', 'gnarled', 'gnomed', 'goateed', 'goatweed', 'gobleted', 'gobmouthed', 'gobonated', 'godded', 'goffered', 'goggled', 'goitered', 'goldenmouthed', 'goldseed', 'goldweed', 'goodhearted', 'goosenecked', 'gooserumped', 'gooseweed', 'goosewinged', 'gorbellied', 'gorged', 'gorgeted', 'gormed', 'gossamered', 'gossipred', 'goutweed', 'gowked', 'graded', 'graduated', 'grafted', 'grained', 'granulated', 'graped', 'grassed', 'grassweed', 'gratified', 'graved', 'gravelweed', 'greatcoated', 'greathearted', 'greatmouthed', 'greaved', 'greed', 'greenheaded', 'greenhearted', 'greenswarded', 'greenweed', 'grieced', 'grieved', 'grilled', 'grizzled', 'groined', 'grosgrained', 'grottoed', 'grounded', 'grouped', 'groved', 'growed', 'grubbed', 'grufted', 'gruntled', 'guarded', 'guernseyed', 'gulfweed', 'gummed', 'gumweed', 'guttated', 'gutweed', 'gweed', 'gypsyweed', 'habilimented', 'habited', 'hacked', 'hackneyed', 'hagged', 'hagseed', 'hagweed', 'hailweed', 'haired', 'hairweed', 'halfheaded', 'halfhearted', 'halfpaced', 'hallmarked', 'hallowed', 'hallucined', 'halved', 'hamated', 'hamleted', 'hammerheaded', 'hanced', 'handed', 'handicapped', 'handled', 'hardfisted', 'hardhanded', 'hardheaded', 'hardhearted', 'hardmouthed', 'harebrained', 'harefooted', 'harehearted', 'harelipped', 'harshweed', 'hatred', 'hatted', 'haunched', 'haustellated', 'hawked', 'hawkweed', 'hawthorned', 'hayseed', 'hayweed', 'hazeled', 'headed', 'hearted', 'heartseed', 'heartweed', 'heathered', 'heavyhanded', 'heavyheaded', 'heavyhearted', 'hecatomped', 'hederated', 'hedgeweed', 'heed', 'heeled', 'heliced', 'hellbred', 'hellweed', 'helmed', 'helmeted', 'hemihydrated', 'hemisphered', 'hempseed', 'hempweed', 'henhearted', 'heptahydrated', 'herbaged', 'herniated', 'hersed', 'heterochromatized', 'heterostyled', 'hexahydrated', 'hexaped', 'hidated', 'hided', 'highbred', 'highhanded', 'highhearted', 'hillocked', 'hipped', 'hired', 'historiated', 'historied', 'hoarheaded', 'hoaryheaded', 'hobnailed', 'hogged', 'hogweed', 'hollowfaced', 'hollowhearted', 'holstered', 'homebred', 'homostyled', 'honeycombed', 'honeydewed', 'honeyed', 'honeyhearted', 'honeylipped', 'honeymouthed', 'honeysuckled', 'honied', 'hooded', 'hoofed', 'hooked', 'hookweed', 'hooped', 'hoped', 'hopped', 'horned', 'hornyhanded', 'horsehaired', 'horseweed', 'hosed', 'hotbed', 'hotbrained', 'hotheaded', 'hothearted', 'hotmouthed', 'hotspurred', 'hucklebacked', 'hued', 'hulverheaded', 'humblehearted', 'humblemouthed', 'humpbacked', 'humped', 'hunchbacked', 'hundred', 'hungerweed', 'hurled', 'hurried', 'hurted', 'husked', 'huskened', 'huttonweed', 'hydrated', 'hydraulicked', 'hydrosulphurated', 'hydrosulphureted', 'hypercarbureted', 'hypercarburetted', 'hypercivilized', 'hyperpigmented', 'hypersophisticated', 'hypertrophied', 'hyphenated', 'hyporhined', 'iced', 'ichneumoned', 'ichneumonized', 'ichthyized', 'icicled', 'ideaed', 'idleheaded', 'illimited', 'illoricated', 'illuminated', 'illusioned', 'imbannered', 'imbased', 'imbed', 'imbricated', 'immatured', 'immeasured', 'immerited', 'immodulated', 'immonastered', 'immortified', 'immotioned', 'impacted', 'imparalleled', 'impassioned', 'imperceived', 'imperfected', 'imperforated', 'impermeated', 'imperturbed', 'implumed', 'impolished', 'inaccentuated', 'inanimated', 'inarticulated', 'inbred', 'inbreed', 'incarmined', 'incavated', 'inched', 'included', 'incompensated', 'incompleted', 'incomposed', 'incomprehended', 'inconditioned', 'inconfused', 'inconnected', 'inconsidered', 'inconsumed', 'incontracted', 'incontrolled', 'inconvinced', 'incoronated', 'incorporated', 'incorrupted', 'incrassated', 'incredited', 'incrossbred', 'indebted', 'indeed', 'indented', 'indentured', 'indetermined', 'indevoted', 'indexed', 'indigested', 'indirected', 'indisciplined', 'indiscovered', 'indiscriminated', 'indisposed', 'indistinguished', 'indisturbed', 'induced', 'indulgenced', 'indusiated', 'inedited', 'inelaborated', 'inequilobed', 'inexhausted', 'inexpected', 'inexperienced', 'inextended', 'infarcted', 'infected', 'infeed', 'inflamed', 'inflated', 'inflected', 'inflexed', 'informed', 'infrared', 'infumated', 'ingrained', 'inhabited', 'injured', 'inkshed', 'inkweed', 'inorganized', 'inrigged', 'inrighted', 'inrooted', 'insatiated', 'inscriptioned', 'inscriptured', 'insected', 'inserted', 'inspired', 'instratified', 'instressed', 'instructed', 'insulated', 'insured', 'intagliated', 'intellected', 'intelligenced', 'intended', 'intentioned', 'interallied', 'interbanded', 'interbedded', 'interbreed', 'intercatenated', 'intercontorted', 'interested', 'interfretted', 'interlaced', 'intermewed', 'intermitted', 'internetted', 'interrelated', 'interrupted', 'interseamed', 'intersticed', 'interthreaded', 'intertissued', 'interwed', 'intoed', 'intolerated', 'intoothed', 'intoxicated', 'intrabred', 'introverted', 'inturned', 'inured', 'inutilized', 'invalued', 'invaried', 'invecked', 'invected', 'inversed', 'invertebrated', 'inverted', 'inviolated', 'invised', 'involucellated', 'involucred', 'involuted', 'involved', 'inwedged', 'inweed', 'irisated', 'irised', 'ironfisted', 'ironhanded', 'ironheaded', 'ironhearted', 'ironsided', 'ironweed', 'ironworked', 'irradiated', 'irreclaimed', 'irredeemed', 'irregulated', 'irrelated', 'irresolved', 'isleted', 'isolated', 'itchreed', 'itchweed', 'ivied', 'ivoried', 'ivyweed', 'jabbed', 'jacketed', 'jackweed', 'jaded', 'jagged', 'jalloped', 'jalousied', 'japanned', 'jaseyed', 'jasmined', 'jasperated', 'jaspered', 'jawed', 'jawfooted', 'jed', 'jellied', 'jereed', 'jerkined', 'jerseyed', 'jessakeed', 'jessed', 'jetted', 'jettied', 'jewelweed', 'jimberjawed', 'jingled', 'jointed', 'jointweed', 'jolloped', 'jolterheaded', 'jossakeed', 'joyweed', 'jugated', 'jumpseed', 'jungled', 'justiceweed', 'ked', 'keeled', 'keened', 'kellupweed', 'kerchiefed', 'kerneled', 'keyed', 'keystoned', 'khakied', 'killweed', 'kimonoed', 'kindhearted', 'kindred', 'kingdomed', 'kingweed', 'kinkled', 'kirtled', 'kittenhearted', 'knagged', 'knapsacked', 'knapweed', 'knarred', 'kneed', 'knickerbockered', 'knickered', 'knickknacked', 'knitted', 'knitweed', 'knived', 'knobbed', 'knobweed', 'knopped', 'knopweed', 'knosped', 'knotted', 'knotweed', 'knowledged', 'knuckled', 'knurled', 'labiated', 'labored', 'laced', 'lacerated', 'laciniated', 'lackeyed', 'laddered', 'lagged', 'lakeweed', 'lamellated', 'lamented', 'laminated', 'lamplighted', 'lanated', 'lanced', 'lanceolated', 'lanceted', 'landed', 'landlocked', 'languaged', 'langued', 'lapelled', 'lapped', 'lappeted', 'lapsed', 'lapstreaked', 'largebrained', 'largehanded', 'largehearted', 'largemouthed', 'lated', 'laterinerved', 'latticed', 'laureated', 'laureled', 'lawned', 'layered', 'leaded', 'leadenhearted', 'leadenpated', 'leafed', 'learned', 'leaved', 'led', 'ledged', 'leed', 'legged', 'legginged', 'legioned', 'leisured', 'lemonweed', 'lensed', 'lenticulated', 'lepered', 'leprosied', 'lettered', 'levelheaded', 'licensed', 'lichened', 'lidded', 'lied', 'lightbrained', 'lightheaded', 'lighthearted', 'lightmouthed', 'ligulated', 'lilied', 'lilyhanded', 'limbed', 'limited', 'linchpinned', 'lineaged', 'lineated', 'lined', 'lineolated', 'lingulated', 'linked', 'linseed', 'linteled', 'lintseed', 'lionhearted', 'lipped', 'listed', 'listred', 'literalminded', 'lived', 'livered', 'liverhearted', 'liveried', 'loaded', 'lobated', 'lobed', 'lobefooted', 'lobellated', 'lobiped', 'lobulated', 'locked', 'locoweed', 'loculated', 'lodged', 'logged', 'loggerheaded', 'logheaded', 'loined', 'longheaded', 'longmouthed', 'loosemouthed', 'lopseed', 'lopsided', 'lored', 'loudmouthed', 'louvered', 'lovered', 'lowbred', 'lozenged', 'lugged', 'lunged', 'lunulated', 'lyrated', 'macled', 'maculated', 'madbrained', 'madweed', 'magged', 'magicked', 'magpied', 'maidenweed', 'mailed', 'maimed', 'maladjusted', 'malandered', 'malconceived', 'malcontented', 'malcreated', 'maldeveloped', 'malfed', 'malformed', 'malleableized', 'malnourished', 'maloccluded', 'malorganized', 'malplaced', 'malposed', 'malproportioned', 'malturned', 'mammillated', 'mandibulated', 'maned', 'manifested', 'mannered', 'manred', 'mansarded', 'mansioned', 'mantled', 'manubriated', 'manweed', 'marbled', 'marblehearted', 'marginated', 'margined', 'marinated', 'marked', 'markweed', 'marled', 'marmorated', 'married', 'marrowed', 'mascled', 'masked', 'masoned', 'masted', 'matreed', 'matted', 'matweed', 'maxilliped', 'maximed', 'mayweed', 'mazed', 'meadowed', 'mealmouthed', 'mealymouthed', 'meaned', 'measled', 'measured', 'meated', 'medaled', 'medifixed', 'mediodepressed', 'medullated', 'meed', 'meekhearted', 'meered', 'melamed', 'melanosed', 'melted', 'membered', 'membraned', 'memoried', 'mentholated', 'meringued', 'merited', 'mermithized', 'meshed', 'metalined', 'metamerized', 'mettled', 'midribbed', 'midstyled', 'mightyhearted', 'mildhearted', 'milkshed', 'milkweed', 'milled', 'millfeed', 'millioersted', 'millioned', 'mimmouthed', 'minareted', 'minded', 'mirrored', 'misadvised', 'misaffected', 'miscredited', 'miscreed', 'miscultivated', 'misdeed', 'misdeformed', 'misdevoted', 'miserected', 'misfortuned', 'misguided', 'misincensed', 'misinspired', 'misleared', 'misled', 'misminded', 'misnatured', 'misnomed', 'mispossessed', 'misprejudiced', 'misprincipled', 'misreposed', 'misresolved', 'misted', 'mistempered', 'misusurped', 'miswed', 'mitered', 'mittened', 'mixed', 'mobed', 'mohnseed', 'molassied', 'moneyed', 'monilated', 'monobromated', 'monobrominated', 'monobromized', 'monochlorinated', 'monociliated', 'monocled', 'monogrammed', 'monohydrated', 'monomethylated', 'mononitrated', 'mononucleated', 'monorhymed', 'monospored', 'monosubstituted', 'mooned', 'moonfaced', 'moonlighted', 'moonseed', 'mopheaded', 'morassweed', 'morcellated', 'morned', 'mortified', 'mossed', 'moted', 'mothed', 'mothered', 'motored', 'mottled', 'mottoed', 'moulded', 'mountained', 'mounted', 'mouthed', 'muckweed', 'muddlebrained', 'muddleheaded', 'muddybrained', 'muddyheaded', 'mudweed', 'muffed', 'muffled', 'mugweed', 'mulefooted', 'multiarticulated', 'multibladed', 'multibranched', 'multicarinated', 'multiciliated', 'multicolored', 'multicylindered', 'multidenticulated', 'multiengined', 'multifaced', 'multifaceted', 'multifibered', 'multiflagellated', 'multifoiled', 'multiformed', 'multigranulated', 'multihued', 'multilaminated', 'multilighted', 'multilobed', 'multilobulated', 'multiloculated', 'multimotored', 'multinucleated', 'multinucleolated', 'multiped', 'multiperforated', 'multipointed', 'multiported', 'multiradiated', 'multiramified', 'multirooted', 'multisacculated', 'multiseated', 'multisegmented', 'multispeed', 'multispired', 'multistoried', 'multistratified', 'multisulcated', 'multithreaded', 'multitoed', 'multitoned', 'multituberculated', 'multivalved', 'multivoiced', 'multivolumed', 'mummied', 'muraled', 'muriated', 'muscled', 'mused', 'mushed', 'mushheaded', 'muslined', 'musquashweed', 'musseled', 'mustached', 'mustachioed', 'muttonheaded', 'myelinated', 'myriaded', 'myrrhed', 'nacred', 'naked', 'nakedweed', 'napped', 'narrowhearted', 'nattered', 'naveled', 'neaped', 'nearsighted', 'nebbed', 'nebulated', 'necked', 'necklaced', 'necklaceweed', 'neckweed', 'nectared', 'nectaried', 'need', 'needled', 'needleworked', 'neighbored', 'neighborstained', 'netted', 'nettlebed', 'newfangled', 'newlywed', 'newspaperized', 'nibbed', 'nicotined', 'niellated', 'nielled', 'niggerweed', 'nightcapped', 'nighted', 'nigrified', 'nimbated', 'nimbed', 'nimblebrained', 'nimbused', 'nineted', 'nitered', 'noblehearted', 'nodated', 'noded', 'nodulated', 'noduled', 'nogheaded', 'nominated', 'nonaccredited', 'nonadmitted', 'nonaffiliated', 'nonalliterated', 'nonanalyzed', 'nonanesthetized', 'nonarticulated', 'nonassented', 'nonattached', 'nonazotized', 'nonbearded', 'nonblended', 'nonblockaded', 'nonblooded', 'nonbranded', 'noncalcified', 'noncartelized', 'noncensored', 'noncertified', 'nonchurched', 'noncivilized', 'noncommissioned', 'nonconditioned', 'noncontrolled', 'noncrystallized', 'noncultivated', 'nondecalcified', 'nondegreased', 'nondeported', 'nondepressed', 'nondesigned', 'nondesulphurized', 'nondetailed', 'nondisbursed', 'nondisfranchised', 'nondisinterested', 'nondomesticated', 'nonelectrified', 'nonelectrized', 'nonenrolled', 'nonentailed', 'nonenumerated', 'nonexcepted', 'nonexperienced', 'nonextended', 'nonextracted', 'nonfeatured', 'nonfederated', 'nonfenestrated', 'nonforested', 'nonfrosted', 'nongalvanized', 'nonglandered', 'nongraduated', 'nonimmunized', 'nonimpregnated', 'nonincarnated', 'nonindurated', 'noninfected', 'noninherited', 'noninterrupted', 'noninverted', 'noniodized', 'nonionized', 'nonirradiated', 'nonirrigated', 'nonlaminated', 'nonleaded', 'nonlicensed', 'nonlixiviated', 'nonlocalized', 'nonmanufactured', 'nonmedullated', 'nonmulched', 'nonnitrogenized', 'nonnucleated', 'nonoxygenated', 'nonpatented', 'nonpeaked', 'nonpenalized', 'nonperforated', 'nonphosphorized', 'nonpigmented', 'nonplushed', 'nonpreformed', 'nonprescribed', 'nonprincipled', 'nonprofessed', 'nonprovided', 'nonrated', 'nonrationalized', 'nonrayed', 'nonrecognized', 'nonrectified', 'nonregimented', 'nonregistered', 'nonrelapsed', 'nonrestricted', 'nonreversed', 'nonrhymed', 'nonsacred', 'nonsalaried', 'nonsaturated', 'nonschematized', 'nonsegmented', 'nonselected', 'nonsensitized', 'nonsilicated', 'nonsolidified', 'nonspecialized', 'nonspecified', 'nonspored', 'nonstandardized', 'nonstriated', 'nonstriped', 'nonstylized', 'nonsuppressed', 'nonsynthesized', 'nonthreaded', 'nontimbered', 'nontolerated', 'nontreated', 'nontrunked', 'nontuned', 'nonturbinated', 'nonumbrellaed', 'nonunited', 'nonupholstered', 'nonutilized', 'nonvisaed', 'nonvisualized', 'nonvitrified', 'nonvolatilized', 'nonwetted', 'nonwinged', 'nooked', 'normated', 'nosebanded', 'nosebleed', 'nosed', 'nostriled', 'notched', 'notchweed', 'noted', 'notified', 'notioned', 'nowed', 'nucleolated', 'nudiped', 'nummulated', 'numskulled', 'nunnated', 'nutmegged', 'nutseed', 'nutted', 'oared', 'oarweed', 'oathed', 'oatseed', 'obcompressed', 'obliged', 'oblongated', 'obtected', 'obvoluted', 'oceaned', 'ocellated', 'ocreated', 'octahydrated', 'octofoiled', 'octoped', 'octoradiated', 'oculated', 'odored', 'oersted', 'offended', 'offhanded', 'ogeed', 'ogived', 'oiled', 'oilseed', 'oilskinned', 'oldfangled', 'oldhearted', 'olived', 'omened', 'onehearted', 'onesigned', 'onflemed', 'onionized', 'opaled', 'openhanded', 'openhearted', 'openmouthed', 'opercled', 'operculated', 'opinionated', 'opinioned', 'opposed', 'oppressed', 'orbed', 'orbiculated', 'ordered', 'oreweed', 'organized', 'origanized', 'orphreyed', 'orthosubstituted', 'osiered', 'ossified', 'outbleed', 'outbowed', 'outbred', 'outbreed', 'outdated', 'outed', 'outeyed', 'outlined', 'outlipped', 'outmoded', 'outplayed', 'outriggered', 'outsided', 'outsized', 'outspeed', 'outturned', 'outweed', 'ovated', 'overalled', 'overambitioned', 'overappareled', 'overapprehended', 'overattached', 'overbanded', 'overbanked', 'overbepatched', 'overblessed', 'overbowed', 'overbrained', 'overbred', 'overbreed', 'overburned', 'overcoached', 'overcoated', 'overconcerned', 'overcontented', 'overcorned', 'overcreed', 'overcrowded', 'overcultured', 'overcured', 'overdazed', 'overdelighted', 'overdetermined', 'overdevoted', 'overdignified', 'overdistempered', 'overdrifted', 'overdrowsed', 'overdubbed', 'overdunged', 'overeducated', 'overempired', 'overexerted', 'overeyebrowed', 'overfagged', 'overfamed', 'overfeatured', 'overfed', 'overfeed', 'overfinished', 'overfleshed', 'overforged', 'overformed', 'overfranchised', 'overfrighted', 'overfruited', 'overgalled', 'overgifted', 'overgilted', 'overgirded', 'overgreed', 'overhanded', 'overhatted', 'overinclined', 'overinterested', 'overinventoried', 'overjaded', 'overjawed', 'overlanguaged', 'overlearned', 'overleisured', 'overlettered', 'overlighted', 'overlightheaded', 'overlinked', 'overlisted', 'overmelodied', 'overmettled', 'overnoveled', 'overofficered', 'overornamented', 'overpained', 'overparted', 'overpitched', 'overplaced', 'overpointed', 'overpronounced', 'overproportionated', 'overproportioned', 'overrefined', 'overreserved', 'overrigged', 'overrooted', 'oversanded', 'oversated', 'overscented', 'overscutched', 'overseasoned', 'overseated', 'overseed', 'oversettled', 'overshowered', 'oversized', 'oversophisticated', 'oversorrowed', 'overspangled', 'oversparred', 'overspeed', 'overstalled', 'overstowed', 'overstudied', 'oversweated', 'overtapped', 'overtimbered', 'overtinseled', 'overtongued', 'overtrailed', 'overunionized', 'overwasted', 'overweaponed', 'overwhipped', 'overwiped', 'overwithered', 'overwooded', 'overwrested', 'oviculated', 'oxidulated', 'oystered', 'oysterseed', 'ozoned', 'paced', 'paddled', 'pageanted', 'pailletted', 'pained', 'painted', 'paired', 'pajamaed', 'palaced', 'palated', 'paled', 'palehearted', 'palfreyed', 'palled', 'palmated', 'palmatilobed', 'palmatiparted', 'palmatisected', 'palmed', 'palmilobated', 'palmilobed', 'palminerved', 'palmiped', 'palmiveined', 'palped', 'palsied', 'pampered', 'panached', 'pandurated', 'paned', 'panheaded', 'panicked', 'panicled', 'paniculated', 'panniered', 'panoplied', 'pansied', 'pantaletted', 'pantalooned', 'pantiled', 'papered', 'papillated', 'papulated', 'parallelepiped', 'parallelinerved', 'parallelopiped', 'parapeted', 'parasoled', 'parasubstituted', 'parded', 'parished', 'parricided', 'parsoned', 'partanhanded', 'parted', 'parterred', 'particled', 'partimembered', 'partitioned', 'passioned', 'pasted', 'pasterned', 'pathed', 'pathwayed', 'patined', 'patriarched', 'pattened', 'patterned', 'pauciarticulated', 'pauciradiated', 'paucispirated', 'paunched', 'pavonated', 'payed', 'peaked', 'pearled', 'pearlweed', 'pebbled', 'pebblehearted', 'pecked', 'peckled', 'pectinated', 'ped', 'pedated', 'pedatilobed', 'pedatinerved', 'pedatisected', 'pediceled', 'pedicellated', 'pedicelled', 'pediculated', 'pedimented', 'peduncled', 'pedunculated', 'peed', 'peeled', 'peeved', 'pegged', 'pelleted', 'peltated', 'peltinerved', 'penciled', 'pencilled', 'pendanted', 'penicillated', 'pennated', 'pennatisected', 'pennied', 'penninerved', 'penniveined', 'pennoned', 'pensived', 'pentadecahydrated', 'pentahydrated', 'peplosed', 'pepperweed', 'percentaged', 'perfected', 'perforated', 'perfumed', 'perished', 'periwigpated', 'periwinkled', 'perjured', 'permissioned', 'permitted', 'perplexed', 'personed', 'perspectived', 'persuaded', 'perturbed', 'pertused', 'perverted', 'pestilenceweed', 'petaled', 'petalled', 'petiolated', 'petioled', 'petrified', 'petted', 'petticoated', 'phalanxed', 'phalerated', 'phimosed', 'phlogosed', 'phosphated', 'phosphoreted', 'phylacteried', 'physicianed', 'physicked', 'physiqued', 'piazzaed', 'picked', 'pickerelweed', 'pickleweed', 'picrated', 'pictured', 'pied', 'pierced', 'pigeonhearted', 'pigeonweed', 'pigheaded', 'pigweed', 'piked', 'pilastered', 'pilastraded', 'pilaued', 'pileated', 'piled', 'pileolated', 'pileweed', 'pillared', 'pilled', 'pilotweed', 'pimpled', 'pincerweed', 'pinched', 'pinchfisted', 'pined', 'pineweed', 'pinfeathered', 'pinheaded', 'pinioned', 'pinked', 'pinkweed', 'pinnated', 'pinnatilobed', 'pinnatiped', 'pinnatisected', 'pinned', 'pinninerved', 'pinniped', 'pinnisected', 'pinnulated', 'pinrowed', 'pinweed', 'pioted', 'piped', 'pipped', 'pissabed', 'pitchered', 'pitted', 'pixilated', 'plagued', 'plaided', 'plainhearted', 'plainsoled', 'plaited', 'planeted', 'plated', 'platformed', 'platted', 'pleached', 'pled', 'plicated', 'plicatocontorted', 'plied', 'plighted', 'plotted', 'plouked', 'plucked', 'plugged', 'plumaged', 'plumed', 'plumiped', 'plummeted', 'pluriseriated', 'plushed', 'pneumatized', 'pocketed', 'pockweed', 'podded', 'pointed', 'pointleted', 'poised', 'poisonweed', 'poked', 'pokeweed', 'policed', 'polished', 'politied', 'polled', 'pollened', 'polluted', 'poltfooted', 'polyaffectioned', 'polybuttoned', 'polyglotted', 'polygrooved', 'polylaminated', 'polynucleated', 'polypaged', 'polyped', 'polyphoned', 'polysided', 'polyspored', 'pommeled', 'ponchoed', 'pondweed', 'pooped', 'poorweed', 'popeyed', 'poplared', 'poppied', 'popweed', 'porcated', 'porched', 'pored', 'portaled', 'portalled', 'ported', 'porticoed', 'portiered', 'positioned', 'possessed', 'possessioned', 'postaspirated', 'postdetermined', 'postdisapproved', 'posted', 'postfixed', 'postilioned', 'postposited', 'potbellied', 'potted', 'pottled', 'pouched', 'pounced', 'povertyweed', 'powdered', 'powered', 'practiced', 'prairied', 'prairieweed', 'pranked', 'preaccustomed', 'preachieved', 'preacquired', 'preaged', 'preallied', 'preambled', 'preassigned', 'prebeloved', 'precedented', 'prechampioned', 'precipiced', 'precipitated', 'precited', 'preclassified', 'preconceived', 'preconcentrated', 'preconcerted', 'preconditioned', 'precongested', 'preconsolidated', 'precontained', 'precontrolled', 'precreed', 'predilected', 'prediscontented', 'predisordered', 'predisposed', 'preferred', 'prefixed', 'preformed', 'prehatred', 'prehaunted', 'preheated', 'preindebted', 'prejudiced', 'preoccasioned', 'preoccupied', 'preopinionated', 'prepared', 'prepossessed', 'prerogatived', 'presanctified', 'presbyterated', 'prescored', 'presenced', 'pretended', 'preterdetermined', 'pretexted', 'priced', 'pricked', 'prickled', 'prideweed', 'pried', 'primaried', 'primrosed', 'princified', 'printed', 'prismed', 'privileged', 'probosciformed', 'proceed', 'procurved', 'produced', 'producted', 'professed', 'proflated', 'promontoried', 'pronged', 'pronounced', 'propertied', 'proportioned', 'proptosed', 'propugnacled', 'protracted', 'proudhearted', 'proved', 'provided', 'prowed', 'prowessed', 'prunted', 'pseudocultivated', 'pseudolaminated', 'pseudoreformed', 'pseudosacred', 'publichearted', 'puddingheaded', 'puddled', 'puffed', 'pugged', 'pukeweed', 'pulmonated', 'pulvinated', 'pumiced', 'punctated', 'punctulated', 'punctured', 'pungled', 'pupiled', 'purebred', 'pured', 'purehearted', 'purfled', 'pursed', 'pussyfooted', 'pustulated', 'pustuled', 'putrifacted', 'puttyhearted', 'puzzled', 'puzzleheaded', 'puzzlepated', 'pygmyweed', 'pygostyled', 'pyjamaed', 'quadded', 'quadrangled', 'quadrated', 'quadriarticulated', 'quadridentated', 'quadrifurcated', 'quadrigabled', 'quadrilled', 'quadrilobed', 'quadriplicated', 'quadrisulcated', 'quadruped', 'qualified', 'qualitied', 'quantitied', 'quarred', 'quarreled', 'quarried', 'quartered', 'quartersawed', 'quatrefoiled', 'quatrefoliated', 'queenweed', 'quesited', 'quickhearted', 'quilled', 'quilleted', 'quilted', 'quinquedentated', 'quinquefoliated', 'quinquelobated', 'quinquelobed', 'quinquenerved', 'quinsied', 'quintiped', 'quintuplinerved', 'quintupliribbed', 'quitted', 'quivered', 'quoined', 'rabbithearted', 'rabbitweed', 'racemed', 'radiated', 'radicated', 'ragged', 'raggled', 'ragweed', 'rainbowweed', 'raised', 'ramed', 'ramfeezled', 'ramified', 'ramososubdivided', 'ramped', 'ramshackled', 'ranged', 'ranked', 'rapeseed', 'rapiered', 'raptured', 'rasped', 'rated', 'rathed', 'rattlebrained', 'rattled', 'rattleheaded', 'rattlepated', 'rattleskulled', 'rattleweed', 'ravined', 'rawboned', 'rayed', 'reasoned', 'reassured', 'rebed', 'rebreed', 'received', 'reclinated', 'recollected', 'reconstructed', 'rectangled', 'rectified', 'rectinerved', 'red', 'redeed', 'redheaded', 'redhearted', 'redoubted', 'reduced', 'redweed', 'reed', 'reeded', 'reeled', 'refathered', 'refeed', 'refined', 'reflected', 'reflexed', 'refluxed', 'reformed', 'refracted', 'regimentaled', 'regimentalled', 'regioned', 'registered', 'reglorified', 'regulated', 'reindebted', 'reiterated', 'related', 'relaxed', 'relicted', 'relieved', 'remiped', 'removed', 'renowned', 'rented', 'repeated', 'replicated', 'reposed', 'repped', 'repressed', 'reproceed', 'reputed', 'reseed', 'reserved', 'resigned', 'resolved', 'respiratored', 'restrained', 'restricted', 'resucceed', 'resupinated', 'retarded', 'reticulated', 'reticuled', 'retinerved', 'retiracied', 'retired', 'retorted', 'retracted', 'retricked', 'retrocurved', 'retroflected', 'retroflexed', 'retrofracted', 'retromorphosed', 'retroplexed', 'retroposed', 'retted', 'returned', 'revealed', 'revenued', 'revered', 'reversed', 'revoluted', 'revulsed', 'rewed', 'reworked', 'rheumed', 'ribaudred', 'ribbed', 'ribbonweed', 'richweed', 'ridered', 'ridged', 'ridgepoled', 'rightheaded', 'righthearted', 'rimmed', 'rinded', 'ringboned', 'ringed', 'ringleted', 'rivered', 'riverweed', 'rizzomed', 'roadbed', 'roaded', 'roadweed', 'rocheted', 'rockhearted', 'rockweed', 'roed', 'rolled', 'rookeried', 'roomed', 'roosted', 'rooted', 'rosated', 'rosed', 'rosetted', 'rosied', 'rosinweed', 'rostrated', 'rotated', 'roughhearted', 'roughtailed', 'rounded', 'roundheaded', 'roundmouthed', 'roundnosed', 'rowed', 'rubbed', 'rubiconed', 'rubied', 'ruddied', 'rudented', 'ruffed', 'ruffled', 'rugged', 'rugheaded', 'ruined', 'runchweed', 'runed', 'runted', 'ruptured', 'rushed', 'rushlighted', 'rustred', 'rutilated', 'sabered', 'saboted', 'saccated', 'saccharated', 'saccharinated', 'sacculated', 'sackclothed', 'sacked', 'sacred', 'saddled', 'sadhearted', 'saffroned', 'sailed', 'sainted', 'salaried', 'salited', 'salted', 'saltweed', 'sanctified', 'sanctuaried', 'sandaled', 'sanded', 'sandweed', 'sapheaded', 'sapphired', 'satcheled', 'satellited', 'satined', 'satisfied', 'saturated', 'saved', 'savored', 'savoyed', 'sawed', 'scabbed', 'scalded', 'scaldweed', 'scaled', 'scalled', 'scantlinged', 'scapulated', 'scarfed', 'scarletseed', 'scarred', 'scarved', 'scatterbrained', 'scattered', 'scented', 'sceptered', 'schapped', 'schooled', 'scienced', 'scimitared', 'sclerized', 'sclerosed', 'sclerotized', 'scooped', 'scopiped', 'scopuliped', 'scorched', 'scored', 'scorned', 'scorpionweed', 'scoured', 'scourweed', 'scrabbled', 'scragged', 'scraggled', 'scraped', 'scrapped', 'scratchweed', 'screed', 'screened', 'screeved', 'screwed', 'scribbled', 'scrimped', 'scriptured', 'scrobiculated', 'scrofulaweed', 'scrolled', 'scrubbed', 'scuffed', 'sculptured', 'scummed', 'scurvied', 'scurvyweed', 'scutated', 'scutcheoned', 'scutellated', 'scutiped', 'scutulated', 'sealed', 'seamed', 'seared', 'seasoned', 'seated', 'seaweed', 'secluded', 'secondhanded', 'sectored', 'sedged', 'sedigitated', 'seed', 'seedbed', 'seeded', 'seeped', 'seepweed', 'segged', 'segmented', 'sejoined', 'selected', 'selvaged', 'semeed', 'semiabstracted', 'semiacidified', 'semianimated', 'semiannealed', 'semiappressed', 'semiattached', 'semibalked', 'semibelted', 'semibleached', 'semiboiled', 'semibolshevized', 'semicalcined', 'semicircled', 'semicivilized', 'semiclosed', 'semicoagulated', 'semicombined', 'semicompacted', 'semicomplicated', 'semicordated', 'semicoronated', 'semicured', 'semidemented', 'semidenatured', 'semidetached', 'semideveloped', 'semidigested', 'semidisabled', 'semidivided', 'semidomed', 'semidomesticated', 'semidried', 'semieducated', 'semienclosed', 'semiengaged', 'semiexpanded', 'semiexposed', 'semifasciated', 'semifinished', 'semifixed', 'semiflexed', 'semiformed', 'semifossilized', 'semifused', 'semiglazed', 'semihumanized', 'semilined', 'semimanufactured', 'semimercerized', 'semimineralized', 'seminaked', 'semiopened', 'semiorganized', 'semioxidated', 'semioxidized', 'semioxygenated', 'semioxygenized', 'semipalmated', 'semipectinated', 'semiped', 'semipetrified', 'semiphlogisticated', 'semiprofessionalized', 'semirefined', 'semisacred', 'semiskilled', 'semistarved', 'semistratified', 'semistriated', 'semisupinated', 'semitailored', 'semitrained', 'semitrimmed', 'semiundressed', 'semivitrified', 'semivulcanized', 'sensed', 'sepaled', 'sepalled', 'septangled', 'septated', 'septicolored', 'sequestered', 'sericated', 'serrated', 'serried', 'serriped', 'serrulated', 'sesquihydrated', 'settled', 'sevenfolded', 'sewed', 'sewered', 'sexangled', 'sexdigitated', 'sexed', 'sexiped', 'shabbed', 'shaded', 'shadowed', 'shafted', 'shagged', 'shagreened', 'shallowbrained', 'shallowhearted', 'shallowpated', 'shamed', 'shamefaced', 'shammed', 'shanked', 'shaped', 'sharded', 'shatterbrained', 'shatterheaded', 'shatterpated', 'shaved', 'shaveweed', 'shawled', 'sheathed', 'sheaved', 'shed', 'shedded', 'sheepfaced', 'sheepheaded', 'sheephearted', 'sheepshed', 'sheepweed', 'sheered', 'sheeted', 'shelled', 'sheltered', 'sheveled', 'shickered', 'shied', 'shielded', 'shingled', 'shipped', 'shiverweed', 'shockheaded', 'shored', 'shoreweed', 'shorthanded', 'shortsighted', 'shotted', 'shouldered', 'shovelweed', 'shred', 'shrouded', 'shrubbed', 'shuttleheaded', 'sibbed', 'sickbed', 'sickhearted', 'sickled', 'sickleweed', 'sicklied', 'sided', 'sifted', 'sighted', 'sigillated', 'silenced', 'siliciuretted', 'silked', 'silkweed', 'silvered', 'silverweed', 'simplehearted', 'simplexed', 'simplified', 'sinewed', 'singed', 'singled', 'singlehanded', 'singlehearted', 'sinuated', 'sinuatocontorted', 'sinuatodentated', 'sinuatoserrated', 'siphuncled', 'siphunculated', 'siruped', 'situated', 'sized', 'skeed', 'skeered', 'skeletonweed', 'skewbacked', 'skewed', 'skidded', 'skied', 'skilled', 'skimmed', 'skinned', 'skippered', 'skirted', 'skittled', 'skulled', 'skunkweed', 'slabbed', 'slacked', 'slashed', 'slatted', 'slaved', 'sleaved', 'sled', 'sledded', 'sleepered', 'sleeved', 'slewed', 'sliced', 'slickered', 'slided', 'slighted', 'slinkweed', 'slipped', 'slippered', 'slipperweed', 'sliptopped', 'slitted', 'sloped', 'slopped', 'sloted', 'slotted', 'slowbellied', 'slowheaded', 'slowhearted', 'slowmouthed', 'sludged', 'slugabed', 'slugged', 'smallhearted', 'smallmouthed', 'smartweed', 'smeared', 'smelled', 'smoked', 'smoothbored', 'smoothmouthed', 'smothered', 'smudged', 'smutted', 'snagged', 'snaggled', 'snakeweed', 'snapped', 'snapweed', 'snatched', 'sned', 'sneezeweed', 'snibbled', 'sniveled', 'snooded', 'snookered', 'snouted', 'snowshed', 'snowshoed', 'snubbed', 'snuffcolored', 'soaked', 'soapweed', 'sobersided', 'societified', 'sodded', 'softbrained', 'softheaded', 'softhearted', 'soiled', 'soldierhearted', 'solicited', 'soliped', 'sombreroed', 'sonantized', 'sophisticated', 'soreheaded', 'sorehearted', 'sorryhearted', 'sorted', 'soshed', 'sotted', 'souffleed', 'souled', 'soundheaded', 'soundhearted', 'soured', 'sourhearted', 'sourweed', 'sowbacked', 'spaced', 'spaded', 'spangled', 'sparked', 'sparred', 'spasmed', 'spathed', 'spatted', 'spatterdashed', 'spavied', 'spavined', 'specialized', 'specked', 'speckled', 'spectacled', 'spectered', 'sped', 'speed', 'sphacelated', 'spicated', 'spiced', 'spiculated', 'spidered', 'spied', 'spiffed', 'spiflicated', 'spiked', 'spikeweed', 'spindled', 'spined', 'spiraled', 'spirated', 'spired', 'spirited', 'spiritweed', 'spissated', 'spitscocked', 'spitted', 'splashed', 'splatterfaced', 'splayed', 'splayfooted', 'splaymouthed', 'spoiled', 'sponged', 'spored', 'spotted', 'spreaded', 'spried', 'sprigged', 'sprinkled', 'sprinklered', 'spurred', 'spurwinged', 'squabbed', 'squadroned', 'squamated', 'squamosodentated', 'squamosoimbricated', 'squared', 'squatted', 'squawweed', 'squiffed', 'squinted', 'stackfreed', 'staffed', 'staged', 'staggerweed', 'staired', 'stalactited', 'stalked', 'stamened', 'stampweed', 'stancheled', 'standardbred', 'standardized', 'stanzaed', 'stapled', 'starched', 'starlighted', 'starred', 'starved', 'stated', 'statued', 'statured', 'stayed', 'stealed', 'steed', 'steelhearted', 'steepled', 'steepweed', 'stellated', 'stemmed', 'stenosed', 'stepped', 'stereotyped', 'sterned', 'stewed', 'stibiated', 'sticked', 'stickseed', 'stickweed', 'stiffhearted', 'stilted', 'stinkweed', 'stinted', 'stiped', 'stippled', 'stipuled', 'stoled', 'stoned', 'stonehearted', 'stoneseed', 'stoneweed', 'stonied', 'stonyhearted', 'stooded', 'stopped', 'storied', 'stouthearted', 'strained', 'straked', 'strangleweed', 'strapped', 'stratified', 'streaked', 'streamlined', 'striated', 'strictured', 'stringed', 'stringhalted', 'striolated', 'striped', 'stripped', 'strived', 'strongbrained', 'stronghearted', 'strophiolated', 'structured', 'stubbed', 'stubbled', 'stubbornhearted', 'studied', 'stuffed', 'stunted', 'stupefied', 'sturdied', 'sturdyhearted', 'stylopized', 'subangled', 'subangulated', 'subappressed', 'subarcuated', 'subattenuated', 'subbranched', 'subbreed', 'subcarbureted', 'subcarburetted', 'subcommended', 'subcompressed', 'subcontained', 'subcontinued', 'subcontracted', 'subdentated', 'subdented', 'subdepressed', 'subdilated', 'subdistinguished', 'subdued', 'subhooked', 'subimbricated', 'subimposed', 'subimpressed', 'subinvoluted', 'subjected', 'sublighted', 'sublimed', 'submargined', 'submerged', 'submersed', 'subnitrated', 'suborbiculated', 'subovated', 'subpartitioned', 'subpeltated', 'subsaturated', 'substituted', 'subtriplicated', 'subturriculated', 'subtwined', 'subulated', 'suburbed', 'subventioned', 'subversed', 'subvitalized', 'succeed', 'sucivilized', 'suffused', 'sugared', 'sulcated', 'sullenhearted', 'sulphated', 'sulphonated', 'sulphureosuffused', 'sulphureted', 'sulphurweed', 'summed', 'sunbeamed', 'sunbonneted', 'sunburned', 'sunlighted', 'sunnyhearted', 'sunspotted', 'sunweed', 'superaccomplished', 'superacidulated', 'superbeloved', 'superblessed', 'supercarbureted', 'supercharged', 'supercivilized', 'superclassified', 'superconsecrated', 'supercrowned', 'supercultivated', 'superelated', 'superelevated', 'superexceed', 'superexcited', 'superfructified', 'superimposed', 'superimpregnated', 'superimproved', 'superinsaniated', 'superposed', 'superpowered', 'superrefined', 'superrheumatized', 'supersacred', 'supersublimated', 'supersubtilized', 'supersulphureted', 'superultrafrostified', 'supposed', 'suppressed', 'surbased', 'surbed', 'surfaced', 'surmised', 'surmounted', 'surpeopled', 'surpliced', 'surrounded', 'suspected', 'suspended', 'sustained', 'swagbellied', 'swampweed', 'swannecked', 'swanweed', 'swastikaed', 'swayed', 'sweated', 'sweatweed', 'sweered', 'sweethearted', 'sweetmouthed', 'sweetweed', 'swelled', 'switched', 'swiveled', 'swiveleyed', 'swooned', 'swordweed', 'syllabled', 'synchronized', 'syncopated', 'syruped', 'systemed', 'systolated', 'tabarded', 'tabled', 'tabulated', 'tackled', 'tagged', 'tailed', 'taled', 'talented', 'taliped', 'tallowweed', 'taloned', 'tamehearted', 'tampioned', 'tanged', 'tanked', 'tanned', 'tannined', 'tapered', 'taprooted', 'tarantulated', 'tarbooshed', 'targeted', 'tarlataned', 'tarmined', 'tarred', 'tartarated', 'tartrated', 'tarweed', 'tasted', 'tattered', 'tattied', 'tauted', 'tawdered', 'taxed', 'taximetered', 'teated', 'ted', 'tegulated', 'tellureted', 'telluretted', 'temperamented', 'tempered', 'templed', 'tenchweed', 'tenderhearted', 'tendriled', 'tentacled', 'tentaculated', 'tented', 'terminalized', 'terreted', 'territoried', 'tessellated', 'tesserated', 'tested', 'testiculated', 'testudinated', 'tetrahydrated', 'tetrasubstituted', 'thecaspored', 'theopneusted', 'thewed', 'thickbrained', 'thicketed', 'thickheaded', 'thickskulled', 'thighed', 'thimbled', 'thimbleweed', 'thinbrained', 'thistled', 'thonged', 'thorned', 'thoroughbred', 'thoroughpaced', 'thoroughsped', 'thoroughstitched', 'thoughted', 'threaded', 'threadweed', 'threefolded', 'throated', 'throughbred', 'thumbed', 'thunderheaded', 'ticked', 'tickled', 'tickleweed', 'tickseed', 'tickseeded', 'tickweed', 'tided', 'tied', 'tierced', 'tiered', 'tiewigged', 'tigerhearted', 'tightfisted', 'tiled', 'tileseed', 'timbered', 'timbertuned', 'timbreled', 'timed', 'tindered', 'tined', 'tineweed', 'tinged', 'tinned', 'tinnified', 'tinted', 'tipped', 'tired', 'tiresomeweed', 'tissued', 'titled', 'tobaccofied', 'tobaccoweed', 'toecapped', 'toed', 'togaed', 'togated', 'toiled', 'toileted', 'toiletted', 'tokened', 'toned', 'tongued', 'tonneaued', 'tonsured', 'toothchiseled', 'toothed', 'toothleted', 'topknotted', 'toplighted', 'topped', 'torchlighted', 'torchweed', 'tored', 'tormented', 'torquated', 'torqued', 'tortured', 'toryweed', 'tossicated', 'touched', 'toughhearted', 'toupeed', 'towered', 'towheaded', 'towned', 'trabeated', 'trabeculated', 'traceried', 'tracked', 'tragicolored', 'trained', 'trammeled', 'trammelled', 'tranced', 'transferred', 'transomed', 'transported', 'trapped', 'travated', 'traveled', 'travelled', 'traversed', 'treed', 'trefoiled', 'trellised', 'trenched', 'tressed', 'tressured', 'triangled', 'triarcuated', 'tribarred', 'tricarinated', 'trichinosed', 'tricolored', 'tricornered', 'tricuspidated', 'tridentated', 'tridimensioned', 'tried', 'trifasciated', 'trifoliated', 'triformed', 'triggered', 'triglyphed', 'trihydrated', 'trilamellated', 'trilineated', 'trilobated', 'trilobed', 'trimotored', 'trinerved', 'triparted', 'triphenylated', 'tripinnated', 'triplinerved', 'tripointed', 'triradiated', 'trisected', 'trisinuated', 'trisubstituted', 'trisulcated', 'triunsaturated', 'trophied', 'trottoired', 'trousered', 'truebred', 'truehearted', 'truffled', 'trumpetweed', 'truncated', 'trunched', 'truncheoned', 'trunked', 'trunnioned', 'trussed', 'tubehearted', 'tubercled', 'tuberculated', 'tuberculed', 'tuberculosed', 'tubulated', 'tufted', 'tumbled', 'tumbleweed', 'tumored', 'tunbellied', 'tuned', 'tunicated', 'tunicked', 'tunneled', 'turbaned', 'turbinated', 'turbined', 'turfed', 'turned', 'turnipweed', 'turpantineweed', 'turpentineweed', 'turreted', 'tushed', 'tusked', 'tussocked', 'tweed', 'tweeded', 'twibilled', 'twigged', 'twilled', 'twinned', 'twisted', 'twistened', 'twitterboned', 'twizzened', 'uddered', 'ulcered', 'ullaged', 'ulstered', 'ultradignified', 'ultrainvolved', 'ultrared', 'ultrarefined', 'umbeled', 'umbellated', 'umbilicated', 'umbonated', 'umbrellaed', 'unabandoned', 'unabased', 'unabashed', 'unabated', 'unabbreviated', 'unabetted', 'unabhorred', 'unabjured', 'unabolished', 'unabraded', 'unabrased', 'unabridged', 'unabrogated', 'unabsolved', 'unabsorbed', 'unabused', 'unaccelerated', 'unaccented', 'unaccentuated', 'unaccepted', 'unaccidented', 'unacclimated', 'unacclimatized', 'unaccommodated', 'unaccompanied', 'unaccomplished', 'unaccorded', 'unaccosted', 'unaccounted', 'unaccoutered', 'unaccoutred', 'unaccreditated', 'unaccredited', 'unaccrued', 'unaccumulated', 'unaccursed', 'unaccustomed', 'unachieved', 'unacidulated', 'unacknowledged', 'unacquainted', 'unacquired', 'unacquitted', 'unacted', 'unactivated', 'unactuated', 'unadapted', 'unadded', 'unaddicted', 'unaddressed', 'unadjectived', 'unadjourned', 'unadjudged', 'unadjusted', 'unadministered', 'unadmired', 'unadmitted', 'unadmonished', 'unadopted', 'unadored', 'unadorned', 'unadulterated', 'unadvanced', 'unadvantaged', 'unadventured', 'unadvertised', 'unadvised', 'unadvocated', 'unaerated', 'unafeared', 'unaffected', 'unaffectioned', 'unaffianced', 'unaffied', 'unaffiliated', 'unaffirmed', 'unaffixed', 'unafflicted', 'unafforded', 'unaffranchised', 'unaffrighted', 'unaffronted', 'unaged', 'unaggravated', 'unaggregated', 'unagitated', 'unagreed', 'unaided', 'unaimed', 'unaired', 'unaisled', 'unalarmed', 'unalcoholized', 'unalienated', 'unaligned', 'unallayed', 'unalleged', 'unalleviated', 'unallied', 'unallotted', 'unallowed', 'unalloyed', 'unallured', 'unalmsed', 'unalphabeted', 'unaltered', 'unalternated', 'unamalgamated', 'unamassed', 'unamazed', 'unamended', 'unamerced', 'unamortized', 'unamplified', 'unamputated', 'unamused', 'unanalyzed', 'unanatomized', 'unancestored', 'unancestried', 'unanchored', 'unanchylosed', 'unaneled', 'unanimalized', 'unanimated', 'unannealed', 'unannexed', 'unannihilated', 'unannotated', 'unannounced', 'unannoyed', 'unannulled', 'unanointed', 'unanswered', 'unantagonized', 'unanticipated', 'unantiquated', 'unapostatized', 'unapostrophized', 'unappalled', 'unappareled', 'unappealed', 'unappeased', 'unappendaged', 'unapperceived', 'unapplauded', 'unapplianced', 'unapplied', 'unappointed', 'unapportioned', 'unappraised', 'unappreciated', 'unapprehended', 'unapprenticed', 'unapprised', 'unapproached', 'unappropriated', 'unapproved', 'unaproned', 'unarbitrated', 'unarched', 'unargued', 'unarmed', 'unarmored', 'unaromatized', 'unaroused', 'unarraigned', 'unarranged', 'unarrayed', 'unarrested', 'unarrived', 'unarted', 'unarticled', 'unarticulated', 'unascended', 'unascertained', 'unashamed', 'unasked', 'unaspersed', 'unasphalted', 'unaspirated', 'unassailed', 'unassassinated', 'unassaulted', 'unassayed', 'unassembled', 'unassented', 'unasserted', 'unassessed', 'unassibilated', 'unassigned', 'unassimilated', 'unassisted', 'unassociated', 'unassoiled', 'unassorted', 'unassuaged', 'unassumed', 'unassured', 'unastonished', 'unatoned', 'unattached', 'unattacked', 'unattained', 'unattainted', 'unattempered', 'unattempted', 'unattended', 'unattenuated', 'unattested', 'unattired', 'unattracted', 'unattributed', 'unattuned', 'unauctioned', 'unaudienced', 'unaudited', 'unaugmented', 'unauthenticated', 'unauthoritied', 'unauthorized', 'unavailed', 'unavenged', 'unavenued', 'unaveraged', 'unaverred', 'unaverted', 'unavoided', 'unavouched', 'unavowed', 'unawaked', 'unawakened', 'unawarded', 'unawared', 'unawed', 'unawned', 'unaxled', 'unazotized', 'unbackboarded', 'unbacked', 'unbadged', 'unbaffled', 'unbagged', 'unbailed', 'unbaited', 'unbaized', 'unbaked', 'unbalanced', 'unbalconied', 'unbalked', 'unballasted', 'unballoted', 'unbandaged', 'unbanded', 'unbanished', 'unbanked', 'unbannered', 'unbaptized', 'unbarbed', 'unbarbered', 'unbargained', 'unbarred', 'unbarreled', 'unbarricaded', 'unbarricadoed', 'unbased', 'unbastardized', 'unbasted', 'unbastilled', 'unbastinadoed', 'unbated', 'unbathed', 'unbatted', 'unbattered', 'unbeached', 'unbeaconed', 'unbeaded', 'unbearded', 'unbeaued', 'unbeautified', 'unbeavered', 'unbeclogged', 'unbeclouded', 'unbed', 'unbedabbled', 'unbedaggled', 'unbedashed', 'unbedaubed', 'unbedded', 'unbedecked', 'unbedewed', 'unbedimmed', 'unbedinned', 'unbedizened', 'unbedraggled', 'unbefriended', 'unbefringed', 'unbegged', 'unbegirded', 'unbegreased', 'unbegrimed', 'unbegrudged', 'unbeguiled', 'unbeheaded', 'unbejuggled', 'unbelied', 'unbelieved', 'unbeloved', 'unbemoaned', 'unbemourned', 'unbended', 'unbeneficed', 'unbenefited', 'unbenetted', 'unbenighted', 'unbenumbed', 'unbequeathed', 'unbereaved', 'unberouged', 'unbesieged', 'unbesmeared', 'unbesmirched', 'unbesmutted', 'unbesprinkled', 'unbestarred', 'unbestowed', 'unbeteared', 'unbetrayed', 'unbetrothed', 'unbettered', 'unbeveled', 'unbewailed', 'unbewildered', 'unbewilled', 'unbewitched', 'unbewrayed', 'unbiased', 'unbickered', 'unbigged', 'unbigoted', 'unbilled', 'unbilleted', 'unbirdlimed', 'unbitted', 'unblacked', 'unblackened', 'unblamed', 'unblanched', 'unblanketed', 'unblasphemed', 'unblasted', 'unblazoned', 'unbleached', 'unbled', 'unblemished', 'unblenched', 'unblended', 'unblessed', 'unblighted', 'unblistered', 'unblockaded', 'unblocked', 'unblooded', 'unbloodied', 'unbloomed', 'unblossomed', 'unblotted', 'unbloused', 'unblued', 'unbluffed', 'unblundered', 'unblunted', 'unblurred', 'unboarded', 'unboasted', 'unbodied', 'unbodkined', 'unboiled', 'unbolled', 'unbolstered', 'unbolted', 'unbonded', 'unboned', 'unbonneted', 'unbooked', 'unbooklearned', 'unbooted', 'unboraxed', 'unbordered', 'unbored', 'unborrowed', 'unbossed', 'unbothered', 'unbottomed', 'unbounded', 'unbowdlerized', 'unbowed', 'unboweled', 'unbowered', 'unbowled', 'unboxed', 'unbraced', 'unbraceleted', 'unbragged', 'unbraided', 'unbrailed', 'unbrained', 'unbranched', 'unbranded', 'unbrandied', 'unbraved', 'unbreached', 'unbreaded', 'unbreakfasted', 'unbreathed', 'unbred', 'unbreeched', 'unbrewed', 'unbribed', 'unbridged', 'unbridled', 'unbriefed', 'unbrightened', 'unbrined', 'unbroached', 'unbroadcasted', 'unbroidered', 'unbroiled', 'unbronzed', 'unbrooded', 'unbrothered', 'unbrowned', 'unbruised', 'unbrushed', 'unbrutalized', 'unbuckramed', 'unbudded', 'unbudged', 'unbudgeted', 'unbuffed', 'unbuffered', 'unbuffeted', 'unbuilded', 'unbulled', 'unbulletined', 'unbumped', 'unbunched', 'unbundled', 'unbuoyed', 'unburdened', 'unburgessed', 'unburied', 'unburlesqued', 'unburned', 'unburnished', 'unburrowed', 'unbusied', 'unbuskined', 'unbutchered', 'unbuttered', 'unbuttoned', 'unbuttressed', 'uncabined', 'uncabled', 'uncadenced', 'uncaged', 'uncalcified', 'uncalcined', 'uncalculated', 'uncalendered', 'uncalked', 'uncalled', 'uncalmed', 'uncalumniated', 'uncambered', 'uncamerated', 'uncamouflaged', 'uncanceled', 'uncancelled', 'uncandied', 'uncaned', 'uncankered', 'uncanned', 'uncanonized', 'uncanopied', 'uncantoned', 'uncantonized', 'uncanvassed', 'uncaparisoned', 'uncapitalized', 'uncapped', 'uncapsized', 'uncaptained', 'uncaptioned', 'uncaptivated', 'uncaptived', 'uncaptured', 'uncarbonated', 'uncarboned', 'uncarbureted', 'uncarded', 'uncaressed', 'uncargoed', 'uncaricatured', 'uncaroled', 'uncarpentered', 'uncarpeted', 'uncarried', 'uncarted', 'uncartooned', 'uncarved', 'uncased', 'uncasemated', 'uncasked', 'uncasketed', 'uncastigated', 'uncastled', 'uncastrated', 'uncatalogued', 'uncatechised', 'uncatechized', 'uncategorized', 'uncathedraled', 'uncaused', 'uncauterized', 'unceased', 'unceded', 'unceiled', 'unceilinged', 'uncelebrated', 'uncelestialized', 'uncemented', 'uncensored', 'uncensured', 'uncentered', 'uncentred', 'uncereclothed', 'unceremented', 'uncertificated', 'uncertified', 'unchafed', 'unchained', 'unchaired', 'unchalked', 'unchallenged', 'unchambered', 'unchamfered', 'unchampioned', 'unchanged', 'unchanneled', 'unchannelled', 'unchanted', 'unchaperoned', 'unchapleted', 'unchaptered', 'uncharactered', 'uncharacterized', 'uncharged', 'uncharmed', 'uncharred', 'uncharted', 'unchartered', 'unchased', 'unchastened', 'unchastised', 'unchatteled', 'unchauffeured', 'unchawed', 'uncheated', 'unchecked', 'uncheckered', 'uncheered', 'uncherished', 'unchested', 'unchevroned', 'unchewed', 'unchided', 'unchilled', 'unchinked', 'unchipped', 'unchiseled', 'unchiselled', 'unchloridized', 'unchoked', 'unchopped', 'unchorded', 'unchristened', 'unchristianized', 'unchronicled', 'unchurched', 'uncicatrized', 'unciliated', 'uncinated', 'uncinctured', 'uncircularized', 'uncirculated', 'uncircumcised', 'uncircumscribed', 'uncircumstanced', 'uncited', 'uncitied', 'uncivilized', 'unclaimed', 'unclamped', 'unclarified', 'unclasped', 'unclassed', 'unclassified', 'unclawed', 'unclayed', 'uncleaned', 'uncleansed', 'uncleared', 'uncliented', 'unclimaxed', 'unclimbed', 'unclipped', 'uncloaked', 'unclogged', 'uncloistered', 'unclosed', 'uncloseted', 'unclothed', 'unclotted', 'unclouded', 'uncloyed', 'unclustered', 'unclutched', 'uncluttered', 'uncoached', 'uncoacted', 'uncoagulated', 'uncoated', 'uncoaxed', 'uncocked', 'uncocted', 'uncodded', 'uncoddled', 'uncoded', 'uncodified', 'uncoerced', 'uncoffined', 'uncogged', 'uncognized', 'uncoifed', 'uncoiled', 'uncoined', 'uncoked', 'uncollapsed', 'uncollared', 'uncollated', 'uncollected', 'uncolleged', 'uncolonized', 'uncolored', 'uncoloured', 'uncombated', 'uncombed', 'uncombined', 'uncomforted', 'uncommanded', 'uncommemorated', 'uncommenced', 'uncommended', 'uncommented', 'uncommingled', 'uncomminuted', 'uncommiserated', 'uncommissioned', 'uncommitted', 'uncommixed', 'uncommunicated', 'uncommuted', 'uncompacted', 'uncompanied', 'uncompanioned', 'uncompared', 'uncompassed', 'uncompassionated', 'uncompassioned', 'uncompelled', 'uncompensated', 'uncompiled', 'uncomplained', 'uncompleted', 'uncomplicated', 'uncomplimented', 'uncomposed', 'uncompounded', 'uncomprehended', 'uncompressed', 'uncomprised', 'uncompromised', 'uncomputed', 'uncomraded', 'unconcatenated', 'unconcealed', 'unconceded', 'unconceited', 'unconceived', 'unconcerned', 'unconcerted', 'unconciliated', 'unconcluded', 'unconcocted', 'unconcreted', 'uncondemned', 'uncondensed', 'unconditionated', 'unconditioned', 'uncondoled', 'unconducted', 'unconfected', 'unconfederated', 'unconferred', 'unconfessed', 'unconfided', 'unconfined', 'unconfirmed', 'unconfiscated', 'unconformed', 'unconfounded', 'unconfronted', 'unconfused', 'unconfuted', 'uncongealed', 'uncongested', 'unconglobated', 'unconglomerated', 'unconglutinated', 'uncongratulated', 'uncongregated', 'unconjectured', 'unconjoined', 'unconjugated', 'unconjured', 'unconnected', 'unconned', 'unconnived', 'unconquered', 'unconscienced', 'unconsecrated', 'unconsented', 'unconserved', 'unconsidered', 'unconsigned', 'unconsociated', 'unconsoled', 'unconsolidated', 'unconspired', 'unconstellated', 'unconstipated', 'unconstituted', 'unconstrained', 'unconstricted', 'unconstructed', 'unconstrued', 'unconsulted', 'unconsumed', 'unconsummated', 'uncontained', 'uncontaminated', 'uncontemned', 'uncontemplated', 'uncontended', 'uncontented', 'uncontested', 'uncontinented', 'uncontinued', 'uncontorted', 'uncontracted', 'uncontradicted', 'uncontrasted', 'uncontributed', 'uncontrived', 'uncontrolled', 'uncontroverted', 'unconvened', 'unconventioned', 'unconverted', 'unconveyed', 'unconvicted', 'unconvinced', 'unconvoluted', 'unconvoyed', 'unconvulsed', 'uncooked', 'uncooled', 'uncooped', 'uncoopered', 'uncopied', 'uncopyrighted', 'uncorded', 'uncored', 'uncorked', 'uncorned', 'uncoronated', 'uncoroneted', 'uncorrected', 'uncorrelated', 'uncorroborated', 'uncorroded', 'uncorrugated', 'uncorrupted', 'uncorseted', 'uncosseted', 'uncostumed', 'uncottoned', 'uncouched', 'uncounseled', 'uncounselled', 'uncounted', 'uncountenanced', 'uncounteracted', 'uncounterbalanced', 'uncounterfeited', 'uncountermanded', 'uncountervailed', 'uncountrified', 'uncoupled', 'uncoursed', 'uncourted', 'uncovenanted', 'uncovered', 'uncoveted', 'uncowed', 'uncracked', 'uncradled', 'uncramped', 'uncranked', 'uncrannied', 'uncrated', 'uncravatted', 'uncrazed', 'uncreased', 'uncreated', 'uncredentialed', 'uncredentialled', 'uncredited', 'uncreosoted', 'uncrested', 'uncrevassed', 'uncried', 'uncrinkled', 'uncrippled', 'uncriticised', 'uncriticized', 'uncrooked', 'uncropped', 'uncrossed', 'uncrossexamined', 'uncrowded', 'uncrowned', 'uncrucified', 'uncrudded', 'uncrumbled', 'uncrushed', 'uncrusted', 'uncrystaled', 'uncrystalled', 'uncrystallized', 'uncubbed', 'uncuckolded', 'uncudgelled', 'uncuffed', 'unculled', 'uncultivated', 'uncultured', 'uncumbered', 'uncupped', 'uncurbed', 'uncurdled', 'uncured', 'uncurled', 'uncurricularized', 'uncurried', 'uncursed', 'uncurtailed', 'uncurtained', 'uncushioned', 'uncusped', 'uncustomed', 'undabbled', 'undaggled', 'undamaged', 'undamasked', 'undammed', 'undamped', 'undandled', 'undangered', 'undared', 'undarkened', 'undarned', 'undashed', 'undated', 'undaubed', 'undaunted', 'undawned', 'undazed', 'undazzled', 'undeadened', 'undebarred', 'undebased', 'undebated', 'undebauched', 'undebilitated', 'undecayed', 'undeceased', 'undeceived', 'undecided', 'undeciphered', 'undecked', 'undeclaimed', 'undeclared', 'undeclined', 'undecocted', 'undecomposed', 'undecompounded', 'undecorated', 'undecorticated', 'undecoyed', 'undecreased', 'undecreed', 'undecried', 'undedicated', 'undeducted', 'undeeded', 'undeemed', 'undefaced', 'undefalcated', 'undefamed', 'undefaulted', 'undefeated', 'undefecated', 'undefended', 'undefensed', 'undeferred', 'undefied', 'undefiled', 'undefined', 'undeflected', 'undeflowered', 'undeformed', 'undefrauded', 'undefrayed', 'undegenerated', 'undegraded', 'undeified', 'undejected', 'undelated', 'undelayed', 'undelegated', 'undeleted', 'undeliberated', 'undelighted', 'undelimited', 'undelineated', 'undelivered', 'undeluded', 'undeluged', 'undelved', 'undemanded', 'undemised', 'undemolished', 'undemonstrated', 'undenied', 'undenizened', 'undenominated', 'undenoted', 'undenounced', 'undenuded', 'undeparted', 'undephlegmated', 'undepicted', 'undepleted', 'undeplored', 'undeported', 'undeposed', 'undeposited', 'undepraved', 'undeprecated', 'undepreciated', 'undepressed', 'undeprived', 'undepurated', 'undeputed', 'underaccommodated', 'underacted', 'underanged', 'underbed', 'underbitted', 'underboated', 'underbowed', 'underbraced', 'underbred', 'underburned', 'undercapitaled', 'undercarved', 'undercharged', 'underchurched', 'underclothed', 'undercoated', 'undercolored', 'undercompounded', 'underconcerned', 'underdressed', 'underdunged', 'undereducated', 'underexcited', 'underfed', 'underfeed', 'underfolded', 'underhanded', 'underhorsed', 'underided', 'underived', 'underjawed', 'underlanguaged', 'underlimbed', 'underlunged', 'undermanned', 'undermasted', 'undermatched', 'undermentioned', 'undermoated', 'undernoted', 'undernourished', 'underoccupied', 'underofficered', 'underpeopled', 'underpetticoated', 'underpitched', 'underprivileged', 'underproportioned', 'underpropped', 'underqualified', 'underrented', 'underrespected', 'underrigged', 'underripened', 'underrooted', 'undersailed', 'underseated', 'underseeded', 'undersighted', 'undersized', 'undersparred', 'underspecified', 'undertaxed', 'underteamed', 'undertided', 'undertimed', 'undertoned', 'undertrained', 'undervaulted', 'undervitalized', 'undervocabularied', 'underweighted', 'underwitted', 'underwooded', 'undescended', 'undescribed', 'undescried', 'undeserted', 'undeserved', 'undesignated', 'undesigned', 'undesired', 'undespaired', 'undespatched', 'undespised', 'undespoiled', 'undestined', 'undestroyed', 'undetached', 'undetailed', 'undetained', 'undetected', 'undeteriorated', 'undetermined', 'undeterred', 'undetested', 'undethroned', 'undeveloped', 'undeviated', 'undevised', 'undevoted', 'undevoured', 'undewed', 'undiademed', 'undiagnosed', 'undialed', 'undialyzed', 'undiamonded', 'undiapered', 'undictated', 'undieted', 'undifferenced', 'undifferentiated', 'undiffracted', 'undiffused', 'undigested', 'undigged', 'undighted', 'undigitated', 'undignified', 'undiked', 'undilapidated', 'undilated', 'undiluted', 'undimensioned', 'undiminished', 'undimmed', 'undimpled', 'undined', 'undinted', 'undiocesed', 'undiplomaed', 'undipped', 'undirected', 'undisabled', 'undisappointed', 'undisarmed', 'undisbanded', 'undisbarred', 'undisburdened', 'undisbursed', 'undiscarded', 'undiscerned', 'undischarged', 'undiscipled', 'undisciplined', 'undisclaimed', 'undisclosed', 'undiscolored', 'undiscomfited', 'undiscomposed', 'undisconcerted', 'undisconnected', 'undiscontinued', 'undiscounted', 'undiscouraged', 'undiscoursed', 'undiscovered', 'undiscredited', 'undiscriminated', 'undiscussed', 'undisdained', 'undiseased', 'undisestablished', 'undisfigured', 'undisfranchised', 'undisfulfilled', 'undisgorged', 'undisgraced', 'undisguised', 'undisgusted', 'undisheartened', 'undished', 'undisheveled', 'undishonored', 'undisillusioned', 'undisinfected', 'undisinherited', 'undisintegrated', 'undisinterested', 'undisjoined', 'undisjointed', 'undisliked', 'undislocated', 'undislodged', 'undismantled', 'undismayed', 'undismembered', 'undismissed', 'undismounted', 'undisobeyed', 'undisordered', 'undisorganized', 'undisowned', 'undisparaged', 'undispatched', 'undispelled', 'undispensed', 'undispersed', 'undisplaced', 'undisplanted', 'undisplayed', 'undispleased', 'undisposed', 'undisprivacied', 'undisproved', 'undisputed', 'undisqualified', 'undisquieted', 'undisrobed', 'undisrupted', 'undissected', 'undissembled', 'undisseminated', 'undissevered', 'undissimulated', 'undissipated', 'undissociated', 'undissolved', 'undistanced', 'undistasted', 'undistempered', 'undistended', 'undistilled', 'undistinguished', 'undistorted', 'undistracted', 'undistrained', 'undistressed', 'undistributed', 'undistrusted', 'undisturbed', 'unditched', 'undittoed', 'undiversified', 'undiverted', 'undivested', 'undivided', 'undivined', 'undivorced', 'undivulged', 'undizened', 'undizzied', 'undocked', 'undoctored', 'undoctrined', 'undocumented', 'undodged', 'undoffed', 'undolled', 'undomed', 'undomesticated', 'undomiciled', 'undominated', 'undominoed', 'undonated', 'undoomed', 'undoped', 'undosed', 'undotted', 'undoubled', 'undoubted', 'undouched', 'undoweled', 'undowered', 'undowned', 'undrafted', 'undragoned', 'undragooned', 'undrained', 'undramatized', 'undraped', 'undraperied', 'undreaded', 'undreamed', 'undredged', 'undrenched', 'undressed', 'undried', 'undrilled', 'undropped', 'undrowned', 'undrubbed', 'undrugged', 'undubbed', 'undulated', 'undulled', 'undumped', 'undunged', 'unduped', 'undusted', 'undwarfed', 'undyed', 'uneagled', 'unearned', 'unearthed', 'unebbed', 'unechoed', 'uneclipsed', 'unedged', 'unedified', 'unedited', 'uneducated', 'uneduced', 'uneffaced', 'uneffected', 'uneffectuated', 'uneffeminated', 'uneffigiated', 'uneffused', 'unejaculated', 'unejected', 'unelaborated', 'unelapsed', 'unelated', 'unelbowed', 'unelected', 'unelectrified', 'unelectrized', 'unelevated', 'unelicited', 'unelided', 'uneliminated', 'unelongated', 'uneloped', 'unelucidated', 'uneluded', 'unemaciated', 'unemancipated', 'unemasculated', 'unembalmed', 'unembanked', 'unembarrassed', 'unembased', 'unembattled', 'unembayed', 'unembellished', 'unembezzled', 'unembittered', 'unemblazoned', 'unembodied', 'unembossed', 'unembowelled', 'unembowered', 'unembraced', 'unembroidered', 'unembroiled', 'unemended', 'unemerged', 'unemitted', 'unemolumented', 'unemotioned', 'unempaneled', 'unemployed', 'unempoisoned', 'unempowered', 'unemptied', 'unemulsified', 'unenabled', 'unenacted', 'unenameled', 'unenamored', 'unencamped', 'unenchafed', 'unenchanted', 'unencircled', 'unenclosed', 'unencompassed', 'unencored', 'unencountered', 'unencouraged', 'unencroached', 'unencumbered', 'unencysted', 'unendamaged', 'unendangered', 'unendeared', 'unendeavored', 'unended', 'unendorsed', 'unendowed', 'unendued', 'unendured', 'unenergized', 'unenervated', 'unenfeebled', 'unenfiladed', 'unenforced', 'unenfranchised', 'unengaged', 'unengendered', 'unengineered', 'unengraved', 'unengrossed', 'unenhanced', 'unenjoined', 'unenjoyed', 'unenkindled', 'unenlarged', 'unenlightened', 'unenlisted', 'unenlivened', 'unennobled', 'unenounced', 'unenquired', 'unenraged', 'unenraptured', 'unenriched', 'unenrobed', 'unenrolled', 'unenshrined', 'unenslaved', 'unensnared', 'unensouled', 'unensured', 'unentailed', 'unentangled', 'unentered', 'unenterprised', 'unentertained', 'unenthralled', 'unenthroned', 'unenticed', 'unentitled', 'unentombed', 'unentranced', 'unentrapped', 'unentreated', 'unentrenched', 'unentwined', 'unenumerated', 'unenveloped', 'unenvenomed', 'unenvied', 'unenvironed', 'unepauleted', 'unepilogued', 'unepitaphed', 'unepitomized', 'unequaled', 'unequalized', 'unequated', 'unequiaxed', 'unequilibrated', 'unequipped', 'unequivalved', 'uneradicated', 'unerased', 'unerected', 'unermined', 'uneroded', 'unerupted', 'unescaladed', 'unescalloped', 'unescaped', 'unescheated', 'uneschewed', 'unescorted', 'unescutcheoned', 'unespied', 'unespoused', 'unessayed', 'unestablished', 'unesteemed', 'unestimated', 'unestopped', 'unestranged', 'unetched', 'uneternized', 'unethylated', 'uneulogized', 'unevacuated', 'unevaded', 'unevaluated', 'unevangelized', 'unevaporated', 'uneverted', 'unevicted', 'unevidenced', 'unevinced', 'unevirated', 'uneviscerated', 'unevoked', 'unevolved', 'unexacerbated', 'unexacted', 'unexaggerated', 'unexalted', 'unexamined', 'unexampled', 'unexasperated', 'unexcavated', 'unexceeded', 'unexcelled', 'unexcepted', 'unexcerpted', 'unexchanged', 'unexcised', 'unexcited', 'unexcluded', 'unexcogitated', 'unexcommunicated', 'unexcoriated', 'unexcorticated', 'unexcreted', 'unexculpated', 'unexcused', 'unexecrated', 'unexecuted', 'unexemplified', 'unexempted', 'unexercised', 'unexerted', 'unexhaled', 'unexhausted', 'unexhibited', 'unexhilarated', 'unexhorted', 'unexhumed', 'unexiled', 'unexonerated', 'unexorcised', 'unexpanded', 'unexpected', 'unexpectorated', 'unexpeditated', 'unexpedited', 'unexpelled', 'unexpended', 'unexperienced', 'unexperimented', 'unexpiated', 'unexpired', 'unexplained', 'unexplicated', 'unexploded', 'unexploited', 'unexplored', 'unexported', 'unexposed', 'unexpounded', 'unexpressed', 'unexpropriated', 'unexpunged', 'unexpurgated', 'unextended', 'unextenuated', 'unexterminated', 'unextinguished', 'unextirpated', 'unextolled', 'unextorted', 'unextracted', 'unextradited', 'unextravasated', 'unextricated', 'unextruded', 'unexuded', 'uneyed', 'unfabled', 'unfabricated', 'unfacaded', 'unfaced', 'unfaceted', 'unfacilitated', 'unfactored', 'unfaded', 'unfagged', 'unfagoted', 'unfailed', 'unfairminded', 'unfaked', 'unfallowed', 'unfalsified', 'unfamed', 'unfamiliarized', 'unfancied', 'unfanged', 'unfanned', 'unfarced', 'unfarewelled', 'unfarmed', 'unfarrowed', 'unfarsighted', 'unfasciated', 'unfascinated', 'unfashioned', 'unfastened', 'unfathered', 'unfathomed', 'unfatigued', 'unfatted', 'unfauceted', 'unfavored', 'unfeared', 'unfeasted', 'unfeathered', 'unfeatured', 'unfecundated', 'unfed', 'unfederated', 'unfeed', 'unfeigned', 'unfelicitated', 'unfelled', 'unfellied', 'unfellowed', 'unfellowshiped', 'unfelted', 'unfenced', 'unfendered', 'unfenestrated', 'unfeoffed', 'unfermented', 'unferreted', 'unferried', 'unfertilized', 'unfestered', 'unfestooned', 'unfetched', 'unfeted', 'unfettered', 'unfettled', 'unfeudalized', 'unfeued', 'unfevered', 'unfibbed', 'unfibered', 'unfielded', 'unfigured', 'unfilched', 'unfiled', 'unfilled', 'unfilleted', 'unfilmed', 'unfiltered', 'unfiltrated', 'unfined', 'unfinessed', 'unfingered', 'unfinished', 'unfired', 'unfirmamented', 'unfished', 'unfitted', 'unfixated', 'unfixed', 'unflagged', 'unflanged', 'unflanked', 'unflated', 'unflattened', 'unflattered', 'unflaunted', 'unflavored', 'unflawed', 'unflayed', 'unflecked', 'unfledged', 'unfleeced', 'unfleshed', 'unfletched', 'unflexed', 'unflitched', 'unflogged', 'unflooded', 'unfloored', 'unflounced', 'unfloured', 'unflourished', 'unflouted', 'unflowered', 'unfluked', 'unflunked', 'unflurried', 'unflushed', 'unflustered', 'unfluted', 'unfluttered', 'unfoaled', 'unfocused', 'unfoiled', 'unfoisted', 'unfolded', 'unfoliaged', 'unfoliated', 'unfollowed', 'unfomented', 'unfondled', 'unfooled', 'unfooted', 'unforaged', 'unforced', 'unforded', 'unforeboded', 'unforecasted', 'unforeordained', 'unforeshortened', 'unforestalled', 'unforested', 'unforewarned', 'unforfeited', 'unforged', 'unforked', 'unformalized', 'unformed', 'unformulated', 'unfortified', 'unforwarded', 'unfossilized', 'unfostered', 'unfouled', 'unfounded', 'unfoundered', 'unfountained', 'unfractured', 'unframed', 'unfranchised', 'unfranked', 'unfrayed', 'unfreckled', 'unfreed', 'unfreighted', 'unfrenchified', 'unfrenzied', 'unfrequented', 'unfrictioned', 'unfried', 'unfriended', 'unfrighted', 'unfrightened', 'unfrilled', 'unfringed', 'unfrizzled', 'unfrocked', 'unfronted', 'unfrosted', 'unfrounced', 'unfructed', 'unfructified', 'unfrustrated', 'unfuddled', 'unfueled', 'unfulfilled', 'unfulled', 'unfulminated', 'unfumbled', 'unfumed', 'unfumigated', 'unfunded', 'unfurbelowed', 'unfurbished', 'unfurnished', 'unfurnitured', 'unfurred', 'unfurrowed', 'unfused', 'unfussed', 'ungabled', 'ungaged', 'ungagged', 'ungained', 'ungalvanized', 'unganged', 'ungangrened', 'ungarbed', 'ungarbled', 'ungardened', 'ungargled', 'ungarlanded', 'ungarmented', 'ungarnered', 'ungarnished', 'ungarrisoned', 'ungartered', 'ungashed', 'ungassed', 'ungathered', 'ungauged', 'ungauntleted', 'ungazetted', 'ungeared', 'ungelatinized', 'ungelded', 'ungeminated', 'ungeneraled', 'ungeneralized', 'ungenerated', 'ungenitured', 'ungentled', 'ungerminated', 'ungifted', 'ungilded', 'ungingled', 'unginned', 'ungirded', 'ungirdled', 'ungirthed', 'unglaciated', 'ungladdened', 'unglassed', 'unglazed', 'ungleaned', 'unglimpsed', 'ungloomed', 'unglorified', 'unglosed', 'unglossaried', 'unglossed', 'ungloved', 'unglozed', 'unglued', 'unglutted', 'ungnarred', 'ungoaded', 'ungodmothered', 'ungored', 'ungorged', 'ungospelized', 'ungospelled', 'ungouged', 'ungoverned', 'ungowned', 'ungraced', 'ungradated', 'ungraded', 'ungraduated', 'ungrafted', 'ungrained', 'ungrammared', 'ungranted', 'ungranulated', 'ungraphitized', 'ungrappled', 'ungrasped', 'ungrassed', 'ungrated', 'ungratified', 'ungraved', 'ungraveled', 'ungrayed', 'ungrazed', 'ungreased', 'ungreened', 'ungreeted', 'ungrieved', 'ungrilled', 'ungrimed', 'ungrizzled', 'ungroined', 'ungroomed', 'ungrooved', 'ungrounded', 'ungrouped', 'ungrubbed', 'ungrudged', 'unguaranteed', 'unguarded', 'unguerdoned', 'unguessed', 'unguiculated', 'unguided', 'unguiled', 'unguillotined', 'ungulated', 'unguled', 'ungummed', 'ungutted', 'unguyed', 'unguzzled', 'ungyved', 'unhabited', 'unhabituated', 'unhacked', 'unhackled', 'unhackneyed', 'unhafted', 'unhaggled', 'unhailed', 'unhaired', 'unhallooed', 'unhallowed', 'unhaloed', 'unhalsed', 'unhalted', 'unhaltered', 'unhalved', 'unhammered', 'unhampered', 'unhandcuffed', 'unhandicapped', 'unhandled', 'unhandseled', 'unhanged', 'unharangued', 'unharassed', 'unharbored', 'unhardened', 'unharked', 'unharmed', 'unharmonized', 'unharnessed', 'unharped', 'unharried', 'unharrowed', 'unharvested', 'unhashed', 'unhasped', 'unhasted', 'unhastened', 'unhatched', 'unhatcheled', 'unhated', 'unhatted', 'unhauled', 'unhaunted', 'unhawked', 'unhayed', 'unhazarded', 'unhazed', 'unheaded', 'unhealed', 'unheaped', 'unhearsed', 'unheated', 'unheaved', 'unhectored', 'unhedged', 'unheed', 'unheeded', 'unheeled', 'unheelpieced', 'unhefted', 'unheightened', 'unheired', 'unhelmed', 'unhelmeted', 'unhelped', 'unhelved', 'unhemmed', 'unheralded', 'unherded', 'unhewed', 'unhidated', 'unhindered', 'unhinted', 'unhipped', 'unhired', 'unhissed', 'unhitched', 'unhoarded', 'unhoaxed', 'unhocked', 'unhoed', 'unhogged', 'unhoisted', 'unhollowed', 'unhoned', 'unhoneyed', 'unhonied', 'unhonored', 'unhonoured', 'unhooded', 'unhoodwinked', 'unhoofed', 'unhooked', 'unhooped', 'unhooted', 'unhoped', 'unhopped', 'unhoppled', 'unhorizoned', 'unhorned', 'unhosed', 'unhoused', 'unhouseled', 'unhugged', 'unhulled', 'unhumanized', 'unhumbled', 'unhumbugged', 'unhumiliated', 'unhumored', 'unhumoured', 'unhunted', 'unhurdled', 'unhurled', 'unhurried', 'unhurted', 'unhusbanded', 'unhushed', 'unhusked', 'unhustled', 'unhutched', 'unhuzzaed', 'unhydrolyzed', 'unhymned', 'unhyphenated', 'unhyphened', 'unhypothecated', 'uniauriculated', 'unicarinated', 'uniced', 'unicelled', 'unicolored', 'unicornuted', 'unideaed', 'unidealized', 'unidentated', 'unidentified', 'unidirected', 'unidolized', 'unifaced', 'unified', 'uniflowered', 'uniformed', 'unignited', 'unignored', 'unilabiated', 'unillumed', 'unilluminated', 'unillumined', 'unillusioned', 'unillustrated', 'unilobed', 'unimaged', 'unimagined', 'unimbanked', 'unimbellished', 'unimbezzled', 'unimbibed', 'unimbittered', 'unimbodied', 'unimboldened', 'unimbordered', 'unimbosomed', 'unimbowed', 'unimbowered', 'unimbroiled', 'unimbrowned', 'unimbrued', 'unimbued', 'unimitated', 'unimmerged', 'unimmersed', 'unimmolated', 'unimmortalized', 'unimmured', 'unimpaired', 'unimparted', 'unimpassioned', 'unimpawned', 'unimpeached', 'unimpearled', 'unimped', 'unimpeded', 'unimpelled', 'unimplanted', 'unimplicated', 'unimplied', 'unimplored', 'unimpoisoned', 'unimported', 'unimportuned', 'unimposed', 'unimpounded', 'unimpoverished', 'unimpowered', 'unimprecated', 'unimpregnated', 'unimpressed', 'unimprinted', 'unimprisoned', 'unimpropriated', 'unimproved', 'unimprovised', 'unimpugned', 'unimpurpled', 'unimputed', 'uninaugurated', 'unincantoned', 'unincarcerated', 'unincarnated', 'unincensed', 'unincised', 'unincited', 'uninclined', 'uninclosed', 'unincluded', 'uninconvenienced', 'unincorporated', 'unincreased', 'unincubated', 'uninculcated', 'unincumbered', 'unindebted', 'unindemnified', 'unindented', 'unindentured', 'unindexed', 'unindicated', 'unindicted', 'unindividualized', 'unindividuated', 'unindorsed', 'uninduced', 'unindulged', 'unindurated', 'unindustrialized', 'uninebriated', 'uninerved', 'uninfatuated', 'uninfected', 'uninferred', 'uninfested', 'uninfiltrated', 'uninfixed', 'uninflamed', 'uninflated', 'uninflected', 'uninflicted', 'uninfluenced', 'uninfolded', 'uninformed', 'uninfracted', 'uninfringed', 'uninfuriated', 'uninfused', 'uningested', 'uningrafted', 'uningrained', 'uninhabited', 'uninhaled', 'uninherited', 'uninhibited', 'uninhumed', 'uninitialed', 'uninitialled', 'uninitiated', 'uninjected', 'uninjured', 'uninked', 'uninoculated', 'uninquired', 'uninscribed', 'uninserted', 'uninshrined', 'uninsinuated', 'uninspected', 'uninspired', 'uninspirited', 'uninspissated', 'uninstalled', 'uninstanced', 'uninstated', 'uninstigated', 'uninstilled', 'uninstituted', 'uninstructed', 'uninsulated', 'uninsulted', 'uninsured', 'unintegrated', 'unintended', 'unintercalated', 'unintercepted', 'uninterdicted', 'uninterested', 'uninterjected', 'uninterlaced', 'uninterlarded', 'uninterleaved', 'uninterlined', 'uninterlinked', 'uninterlocked', 'unintermingled', 'unintermitted', 'unintermixed', 'uninterpleaded', 'uninterpolated', 'uninterposed', 'uninterpreted', 'uninterred', 'uninterrogated', 'uninterrupted', 'unintersected', 'uninterspersed', 'uninterviewed', 'unintervolved', 'uninthroned', 'unintimated', 'unintimidated', 'unintitled', 'unintombed', 'unintoned', 'unintoxicated', 'unintrenched', 'unintrigued', 'unintroduced', 'unintromitted', 'unintruded', 'unintrusted', 'unintwined', 'uninucleated', 'uninundated', 'uninured', 'uninurned', 'uninvaded', 'uninvaginated', 'uninvalidated', 'uninveigled', 'uninvented', 'uninverted', 'uninvested', 'uninvestigated', 'uninvigorated', 'uninvited', 'uninvoiced', 'uninvoked', 'uninvolved', 'uninweaved', 'uninwrapped', 'uninwreathed', 'unioned', 'uniped', 'uniradiated', 'unironed', 'unirradiated', 'unirrigated', 'unirritated', 'unisexed', 'unisolated', 'unissued', 'unitalicized', 'united', 'unitemized', 'univied', 'univocalized', 'unjacketed', 'unjaded', 'unjagged', 'unjailed', 'unjapanned', 'unjarred', 'unjaundiced', 'unjealoused', 'unjellied', 'unjesuited', 'unjeweled', 'unjewelled', 'unjilted', 'unjogged', 'unjointed', 'unjointured', 'unjolted', 'unjostled', 'unjournalized', 'unjoyed', 'unjudged', 'unjuggled', 'unjuiced', 'unjumbled', 'unjustified', 'unjustled', 'unkamed', 'unked', 'unkeeled', 'unkembed', 'unkenned', 'unkenneled', 'unkerchiefed', 'unkeyed', 'unkicked', 'unkilled', 'unkilned', 'unkindhearted', 'unkindled', 'unkindred', 'unkinged', 'unkissed', 'unkneaded', 'unknelled', 'unknighted', 'unknitted', 'unknocked', 'unknotted', 'unkodaked', 'unkoshered', 'unlabeled', 'unlabored', 'unlaced', 'unlacerated', 'unlackeyed', 'unlacquered', 'unladled', 'unladyfied', 'unlamed', 'unlamented', 'unlampooned', 'unlanced', 'unlanded', 'unlandmarked', 'unlanguaged', 'unlanterned', 'unlapped', 'unlapsed', 'unlarded', 'unlashed', 'unlassoed', 'unlathed', 'unlathered', 'unlatinized', 'unlatticed', 'unlauded', 'unlaunched', 'unlaundered', 'unlaureled', 'unlaved', 'unlavished', 'unlawed', 'unlawlearned', 'unlawyered', 'unleached', 'unleaded', 'unleafed', 'unleagued', 'unleared', 'unlearned', 'unleased', 'unleashed', 'unleathered', 'unleaved', 'unleavened', 'unlectured', 'unled', 'unlegacied', 'unlegalized', 'unleisured', 'unlensed', 'unlessened', 'unlessoned', 'unletted', 'unlettered', 'unleveled', 'unlevied', 'unlevigated', 'unlibeled', 'unliberalized', 'unliberated', 'unlicensed', 'unlicentiated', 'unlichened', 'unlicked', 'unlidded', 'unlifted', 'unligatured', 'unlighted', 'unlightened', 'unlignified', 'unliked', 'unlimed', 'unlimited', 'unlimned', 'unlined', 'unlinked', 'unliquefied', 'unliquidated', 'unliquored', 'unlisted', 'unlistened', 'unlitigated', 'unlittered', 'unliveried', 'unloaded', 'unloaned', 'unloathed', 'unlobed', 'unlocalized', 'unlocated', 'unlocked', 'unlodged', 'unlogged', 'unlooked', 'unlooped', 'unlooted', 'unlopped', 'unlorded', 'unlotted', 'unloved', 'unlowered', 'unlubricated', 'unluffed', 'unlugged', 'unlumped', 'unlured', 'unluted', 'unluxated', 'unmacadamized', 'unmacerated', 'unmadded', 'unmaddened', 'unmagnetized', 'unmagnified', 'unmailed', 'unmaimed', 'unmaintained', 'unmaligned', 'unmalled', 'unmalted', 'unmammonized', 'unmanacled', 'unmanaged', 'unmancipated', 'unmandated', 'unmanducated', 'unmaned', 'unmaneged', 'unmangled', 'unmanicured', 'unmanifested', 'unmanipulated', 'unmanned', 'unmannered', 'unmanored', 'unmantled', 'unmanufactured', 'unmanumitted', 'unmanured', 'unmapped', 'unmarbled', 'unmarginated', 'unmarked', 'unmarketed', 'unmarled', 'unmarred', 'unmarried', 'unmarshaled', 'unmartyred', 'unmashed', 'unmasked', 'unmassacred', 'unmassed', 'unmastered', 'unmasticated', 'unmatched', 'unmated', 'unmatriculated', 'unmatted', 'unmatured', 'unmauled', 'unmeasured', 'unmeated', 'unmechanized', 'unmedaled', 'unmedalled', 'unmeddled', 'unmediated', 'unmediatized', 'unmedicated', 'unmeditated', 'unmedullated', 'unmeliorated', 'unmellowed', 'unmelodized', 'unmelted', 'unmemoired', 'unmemorialized', 'unmemoried', 'unmemorized', 'unmenaced', 'unmended', 'unmentioned', 'unmercerized', 'unmerged', 'unmerited', 'unmesmerized', 'unmetaled', 'unmetalized', 'unmetalled', 'unmetamorphosed', 'unmeted', 'unmetered', 'unmethodized', 'unmethylated', 'unmewed', 'unmidwifed', 'unmildewed', 'unmilitarized', 'unmilked', 'unmilled', 'unmillinered', 'unmilted', 'unmimicked', 'unminced', 'unminded', 'unmined', 'unmineralized', 'unmingled', 'unminimized', 'unminished', 'unministered', 'unminted', 'unminuted', 'unmiracled', 'unmired', 'unmirrored', 'unmisguided', 'unmisled', 'unmissed', 'unmissionized', 'unmistressed', 'unmistrusted', 'unmitigated', 'unmittened', 'unmixed', 'unmoaned', 'unmoated', 'unmobbed', 'unmobilized', 'unmocked', 'unmodeled', 'unmodelled', 'unmodernized', 'unmodified', 'unmodulated', 'unmoiled', 'unmolded', 'unmoldered', 'unmolested', 'unmollified', 'unmoneyed', 'unmonitored', 'unmonopolized', 'unmonumented', 'unmoored', 'unmooted', 'unmopped', 'unmoralized', 'unmordanted', 'unmortared', 'unmortgaged', 'unmortified', 'unmortised', 'unmossed', 'unmothered', 'unmotivated', 'unmotived', 'unmotorized', 'unmottled', 'unmounded', 'unmounted', 'unmourned', 'unmouthed', 'unmouthpieced', 'unmoved', 'unmowed', 'unmucilaged', 'unmudded', 'unmuddied', 'unmuddled', 'unmuffled', 'unmulcted', 'unmulled', 'unmullioned', 'unmultiplied', 'unmummied', 'unmunched', 'unmundified', 'unmunicipalized', 'unmunitioned', 'unmurmured', 'unmuscled', 'unmusked', 'unmussed', 'unmusted', 'unmustered', 'unmutated', 'unmuted', 'unmutilated', 'unmuttered', 'unmutualized', 'unmuzzled', 'unmyelinated', 'unmystified', 'unnabbed', 'unnagged', 'unnailed', 'unnaked', 'unnamed', 'unnapkined', 'unnapped', 'unnarrated', 'unnationalized', 'unnaturalized', 'unnavigated', 'unneaped', 'unneared', 'unnecessitated', 'unneeded', 'unnegated', 'unneglected', 'unnegotiated', 'unneighbored', 'unnerved', 'unnestled', 'unnetted', 'unnettled', 'unneutralized', 'unnibbed', 'unnibbied', 'unniched', 'unnicked', 'unnickeled', 'unnickelled', 'unnicknamed', 'unnimbed', 'unnipped', 'unnitrogenized', 'unnobilitated', 'unnoised', 'unnominated', 'unnoosed', 'unnosed', 'unnotched', 'unnoted', 'unnoticed', 'unnotified', 'unnourished', 'unnucleated', 'unnullified', 'unnumbered', 'unnurtured', 'unnuzzled', 'unoared', 'unobeyed', 'unobjected', 'unobligated', 'unobliged', 'unobliterated', 'unobscured', 'unobserved', 'unobsessed', 'unobstructed', 'unobtained', 'unobtruded', 'unobtunded', 'unobumbrated', 'unobverted', 'unobviated', 'unoccasioned', 'unoccluded', 'unoccupied', 'unoffended', 'unoffered', 'unofficed', 'unofficered', 'unogled', 'unoiled', 'unomened', 'unomitted', 'unoped', 'unopened', 'unoperated', 'unoperculated', 'unopined', 'unopinionated', 'unoppignorated', 'unopposed', 'unoppressed', 'unoppugned', 'unorbed', 'unorchestrated', 'unordained', 'unordered', 'unordnanced', 'unorganized', 'unoriented', 'unoriginated', 'unornamented', 'unorphaned', 'unosculated', 'unossified', 'unoutlawed', 'unoutraged', 'unoverclouded', 'unoverhauled', 'unoverleaped', 'unoverlooked', 'unoverpowered', 'unoverruled', 'unovervalued', 'unoverwhelmed', 'unowed', 'unowned', 'unoxidated', 'unoxidized', 'unoxygenated', 'unoxygenized', 'unpaced', 'unpacified', 'unpacked', 'unpadded', 'unpadlocked', 'unpaged', 'unpained', 'unpainted', 'unpaired', 'unpaled', 'unpalisaded', 'unpalisadoed', 'unpalled', 'unpalliated', 'unpalped', 'unpalsied', 'unpampered', 'unpanegyrized', 'unpaneled', 'unpanelled', 'unpanged', 'unpanniered', 'unpanoplied', 'unpapered', 'unparaded', 'unparagoned', 'unparagonized', 'unparagraphed', 'unparalleled', 'unparalyzed', 'unparaphrased', 'unparceled', 'unparcelled', 'unparched', 'unpardoned', 'unpared', 'unparented', 'unpargeted', 'unparked', 'unparliamented', 'unparodied', 'unparried', 'unparroted', 'unparsed', 'unparted', 'unparticipated', 'unparticularized', 'unpartitioned', 'unpartnered', 'unpassed', 'unpassioned', 'unpasted', 'unpasteurized', 'unpastured', 'unpatched', 'unpatented', 'unpathed', 'unpathwayed', 'unpatrolled', 'unpatronized', 'unpatted', 'unpatterned', 'unpaunched', 'unpauperized', 'unpaved', 'unpavilioned', 'unpawed', 'unpawned', 'unpealed', 'unpearled', 'unpebbled', 'unpecked', 'unpeddled', 'unpedigreed', 'unpeeled', 'unpeered', 'unpelted', 'unpenalized', 'unpenanced', 'unpenciled', 'unpencilled', 'unpenetrated', 'unpenned', 'unpennied', 'unpennoned', 'unpensioned', 'unpeopled', 'unperceived', 'unperched', 'unpercolated', 'unpercussed', 'unperfected', 'unperflated', 'unperforated', 'unperformed', 'unperfumed', 'unperiphrased', 'unperished', 'unperjured', 'unpermeated', 'unpermitted', 'unpermixed', 'unperpetrated', 'unperpetuated', 'unperplexed', 'unpersecuted', 'unpersonified', 'unpersuaded', 'unperturbed', 'unperuked', 'unperused', 'unpervaded', 'unperverted', 'unpestered', 'unpetitioned', 'unpetrified', 'unpetticoated', 'unphased', 'unphilosophized', 'unphonographed', 'unphosphatized', 'unphotographed', 'unphrased', 'unphysicked', 'unpicked', 'unpicketed', 'unpickled', 'unpictured', 'unpieced', 'unpierced', 'unpigmented', 'unpiled', 'unpilfered', 'unpillaged', 'unpillared', 'unpilled', 'unpilloried', 'unpillowed', 'unpiloted', 'unpimpled', 'unpinched', 'unpinioned', 'unpinked', 'unpinned', 'unpiped', 'unpiqued', 'unpirated', 'unpitched', 'unpitied', 'unpitted', 'unplacated', 'unplaced', 'unplagiarized', 'unplagued', 'unplained', 'unplaited', 'unplaned', 'unplanished', 'unplanked', 'unplanned', 'unplanted', 'unplashed', 'unplastered', 'unplated', 'unplatted', 'unplayed', 'unpleached', 'unpleaded', 'unpleased', 'unpleated', 'unpledged', 'unplenished', 'unplied', 'unplighted', 'unplotted', 'unploughed', 'unplowed', 'unplucked', 'unplugged', 'unplumbed', 'unplumed', 'unplummeted', 'unplundered', 'unplunged', 'unpoached', 'unpocketed', 'unpodded', 'unpoeticized', 'unpoetized', 'unpointed', 'unpoised', 'unpoisoned', 'unpolarized', 'unpoled', 'unpoliced', 'unpolicied', 'unpolished', 'unpollarded', 'unpolled', 'unpolluted', 'unpolymerized', 'unpondered', 'unpooled', 'unpopulated', 'unportended', 'unportioned', 'unportmanteaued', 'unportraited', 'unportrayed', 'unposed', 'unpossessed', 'unposted', 'unpostered', 'unpostmarked', 'unpostponed', 'unpostulated', 'unpotted', 'unpouched', 'unpoulticed', 'unpounced', 'unpounded', 'unpoured', 'unpowdered', 'unpracticed', 'unpraised', 'unpranked', 'unprayed', 'unpreached', 'unprecautioned', 'unpreceded', 'unprecedented', 'unprecipitated', 'unprecluded', 'unpredestinated', 'unpredestined', 'unpredicated', 'unpredicted', 'unpredisposed', 'unpreened', 'unprefaced', 'unpreferred', 'unprefigured', 'unprefined', 'unprefixed', 'unprejudged', 'unprejudicated', 'unprejudiced', 'unpreluded', 'unpremeditated', 'unpremonished', 'unpremonstrated', 'unprenominated', 'unprenticed', 'unpreoccupied', 'unpreordained', 'unprepared', 'unpreponderated', 'unpresaged', 'unpresbyterated', 'unprescinded', 'unprescribed', 'unpresented', 'unpreserved', 'unpressed', 'unpresumed', 'unpresupposed', 'unpretended', 'unpretermitted', 'unprevented', 'unpriced', 'unpricked', 'unprickled', 'unprimed', 'unprimmed', 'unprincipled', 'unprinted', 'unprisoned', 'unprivileged', 'unprized', 'unprobated', 'unprobed', 'unprocessed', 'unproclaimed', 'unprocrastinated', 'unprocreated', 'unproctored', 'unprocured', 'unproded', 'unproduced', 'unprofaned', 'unprofessed', 'unproffered', 'unprofited', 'unprognosticated', 'unprogressed', 'unprohibited', 'unprojected', 'unprologued', 'unprolonged', 'unpromised', 'unpromoted', 'unprompted', 'unpromulgated', 'unpronounced', 'unpropagated', 'unpropelled', 'unpropertied', 'unprophesied', 'unpropitiated', 'unproportioned', 'unproposed', 'unpropounded', 'unpropped', 'unprorogued', 'unproscribed', 'unprosecuted', 'unproselyted', 'unprospected', 'unprospered', 'unprostituted', 'unprostrated', 'unprotected', 'unprotested', 'unprotruded', 'unproved', 'unprovided', 'unprovidenced', 'unprovisioned', 'unprovoked', 'unpruned', 'unpublished', 'unpuckered', 'unpuddled', 'unpuffed', 'unpulled', 'unpulleyed', 'unpulped', 'unpulverized', 'unpulvinated', 'unpumicated', 'unpummeled', 'unpummelled', 'unpumped', 'unpunched', 'unpunctated', 'unpunctuated', 'unpunished', 'unpurchased', 'unpurged', 'unpurified', 'unpurled', 'unpurloined', 'unpurpled', 'unpurported', 'unpurposed', 'unpursed', 'unpursued', 'unpurveyed', 'unpushed', 'unputrefied', 'unputtied', 'unquadded', 'unquaffed', 'unquailed', 'unqualified', 'unqualitied', 'unquantified', 'unquarantined', 'unquarreled', 'unquarrelled', 'unquarried', 'unquartered', 'unquashed', 'unquayed', 'unqueened', 'unquelled', 'unquenched', 'unqueried', 'unquested', 'unquestioned', 'unquibbled', 'unquickened', 'unquicksilvered', 'unquieted', 'unquilleted', 'unquilted', 'unquitted', 'unquivered', 'unquizzed', 'unquoted', 'unrabbeted', 'unraced', 'unracked', 'unradiated', 'unraffled', 'unraftered', 'unraided', 'unrailed', 'unrailroaded', 'unrailwayed', 'unraised', 'unraked', 'unrallied', 'unramified', 'unrammed', 'unramped', 'unranched', 'unrancored', 'unranked', 'unransacked', 'unransomed', 'unraped', 'unraptured', 'unrarefied', 'unrasped', 'unrated', 'unratified', 'unrattled', 'unravaged', 'unraveled', 'unravelled', 'unravished', 'unrayed', 'unrazed', 'unrazored', 'unreached', 'unrealized', 'unrealmed', 'unreaped', 'unreared', 'unreasoned', 'unrebated', 'unrebuked', 'unrebutted', 'unrecalled', 'unrecanted', 'unrecaptured', 'unreceipted', 'unreceived', 'unreciprocated', 'unrecited', 'unrecked', 'unreckoned', 'unreclaimed', 'unreclined', 'unrecognized', 'unrecoined', 'unrecollected', 'unrecompensed', 'unreconciled', 'unreconnoitered', 'unreconsidered', 'unreconstructed', 'unrecorded', 'unrecounted', 'unrecovered', 'unrecreated', 'unrecruited', 'unrectified', 'unrecuperated', 'unred', 'unredacted', 'unredeemed', 'unredressed', 'unreduced', 'unreefed', 'unreeled', 'unreferenced', 'unreferred', 'unrefilled', 'unrefined', 'unrefitted', 'unreflected', 'unreformed', 'unrefracted', 'unrefrained', 'unrefreshed', 'unrefrigerated', 'unrefunded', 'unrefused', 'unrefuted', 'unregained', 'unregaled', 'unregarded', 'unregimented', 'unregistered', 'unregretted', 'unregulated', 'unregurgitated', 'unrehabilitated', 'unrehearsed', 'unreimbodied', 'unreined', 'unreinstated', 'unreiterated', 'unrejoiced', 'unrejuvenated', 'unrelated', 'unrelaxed', 'unreleased', 'unrelegated', 'unrelented', 'unrelieved', 'unreligioned', 'unrelinquished', 'unrelished', 'unremanded', 'unremarked', 'unremarried', 'unremedied', 'unremembered', 'unreminded', 'unremitted', 'unremonstrated', 'unremounted', 'unremoved', 'unremunerated', 'unrendered', 'unrenewed', 'unrenounced', 'unrenovated', 'unrenowned', 'unrented', 'unreorganized', 'unrepaired', 'unreparted', 'unrepealed', 'unrepeated', 'unrepelled', 'unrepented', 'unrepined', 'unrepiqued', 'unreplaced', 'unreplenished', 'unreplevined', 'unreplied', 'unreported', 'unreposed', 'unrepossessed', 'unreprehended', 'unrepresented', 'unrepressed', 'unreprieved', 'unreprimanded', 'unreprinted', 'unreproached', 'unreprobated', 'unreproved', 'unrepudiated', 'unrepulsed', 'unreputed', 'unrequalified', 'unrequested', 'unrequickened', 'unrequired', 'unrequited', 'unrescinded', 'unrescued', 'unresented', 'unreserved', 'unresifted', 'unresigned', 'unresisted', 'unresolved', 'unresounded', 'unrespected', 'unrespired', 'unrespited', 'unrested', 'unrestored', 'unrestrained', 'unrestricted', 'unresumed', 'unretained', 'unretaliated', 'unretarded', 'unretinued', 'unretired', 'unretorted', 'unretouched', 'unretracted', 'unretrenched', 'unretrieved', 'unretted', 'unreturned', 'unrevealed', 'unrevenged', 'unrevenued', 'unreverberated', 'unrevered', 'unreverenced', 'unreversed', 'unreverted', 'unrevested', 'unrevetted', 'unreviewed', 'unreviled', 'unrevised', 'unrevived', 'unrevoked', 'unrevolted', 'unrevolutionized', 'unrevolved', 'unrewarded', 'unreworded', 'unrhymed', 'unribbed', 'unribboned', 'unriched', 'unricked', 'unriddled', 'unridered', 'unridged', 'unridiculed', 'unriffled', 'unrifled', 'unrifted', 'unrigged', 'unrighted', 'unrimpled', 'unringed', 'unrinsed', 'unrioted', 'unriped', 'unripened', 'unripped', 'unrippled', 'unrisked', 'unrivaled', 'unrived', 'unriveted', 'unroaded', 'unroasted', 'unrobbed', 'unrobed', 'unrocked', 'unrodded', 'unroiled', 'unrolled', 'unromanticized', 'unroofed', 'unroosted', 'unrooted', 'unroped', 'unrosed', 'unrosined', 'unrostrated', 'unrotated', 'unroted', 'unrotted', 'unrouged', 'unroughened', 'unrounded', 'unroused', 'unrouted', 'unroved', 'unrowed', 'unroweled', 'unroyalized', 'unrubbed', 'unrubified', 'unrubricated', 'unruddered', 'unruddled', 'unruffed', 'unruffled', 'unrugged', 'unruinated', 'unruined', 'unruled', 'unruminated', 'unrummaged', 'unrumored', 'unrumpled', 'unruptured', 'unrushed', 'unrusted', 'unrusticated', 'unsabered', 'unsabled', 'unsabred', 'unsacked', 'unsacred', 'unsacrificed', 'unsaddened', 'unsaddled', 'unsafeguarded', 'unsailed', 'unsainted', 'unsalaried', 'unsalivated', 'unsalted', 'unsaluted', 'unsalvaged', 'unsalved', 'unsampled', 'unsanctified', 'unsanctioned', 'unsanctuaried', 'unsandaled', 'unsanded', 'unsanitated', 'unsaponified', 'unsapped', 'unsashed', 'unsated', 'unsatiated', 'unsatirized', 'unsatisfied', 'unsaturated', 'unsauced', 'unsaved', 'unsavored', 'unsawed', 'unscabbarded', 'unscabbed', 'unscaffolded', 'unscaled', 'unscalloped', 'unscamped', 'unscandalized', 'unscanned', 'unscanted', 'unscared', 'unscarfed', 'unscarified', 'unscarred', 'unscathed', 'unscattered', 'unscavengered', 'unscented', 'unsceptered', 'unsceptred', 'unscheduled', 'unschematized', 'unschooled', 'unscienced', 'unscioned', 'unscissored', 'unscoffed', 'unscolded', 'unsconced', 'unscooped', 'unscorched', 'unscored', 'unscorified', 'unscorned', 'unscotched', 'unscoured', 'unscourged', 'unscraped', 'unscratched', 'unscrawled', 'unscreened', 'unscrewed', 'unscribbled', 'unscribed', 'unscrimped', 'unscrubbed', 'unscrupled', 'unscrutinized', 'unsculptured', 'unscummed', 'unscutcheoned', 'unsealed', 'unseamed', 'unsearched', 'unseared', 'unseasoned', 'unseated', 'unsecluded', 'unseconded', 'unsecreted', 'unsecularized', 'unsecured', 'unseduced', 'unseeded', 'unseethed', 'unsegmented', 'unsegregated', 'unseized', 'unselected', 'unsensed', 'unsensitized', 'unsensualized', 'unsentenced', 'unsentineled', 'unsentinelled', 'unseparated', 'unseptated', 'unsepulchered', 'unsepulchred', 'unsepultured', 'unsequenced', 'unsequestered', 'unserenaded', 'unserrated', 'unserried', 'unserved', 'unsettled', 'unsevered', 'unsewed', 'unsewered', 'unsexed', 'unshackled', 'unshaded', 'unshadowed', 'unshafted', 'unshaled', 'unshamed', 'unshamefaced', 'unshammed', 'unshanked', 'unshaped', 'unshared', 'unsharped', 'unsharpened', 'unshattered', 'unshaved', 'unsheared', 'unsheathed', 'unshed', 'unsheeted', 'unshelled', 'unsheltered', 'unshepherded', 'unshewed', 'unshielded', 'unshifted', 'unshingled', 'unshipped', 'unshipwrecked', 'unshirted', 'unshivered', 'unshocked', 'unshoed', 'unshored', 'unshortened', 'unshotted', 'unshouted', 'unshoved', 'unshoveled', 'unshowed', 'unshredded', 'unshrined', 'unshrived', 'unshriveled', 'unshrivelled', 'unshrouded', 'unshrubbed', 'unshuffled', 'unshunned', 'unshunted', 'unshuttered', 'unsiccated', 'unsickened', 'unsickled', 'unsided', 'unsifted', 'unsighted', 'unsignaled', 'unsignalized', 'unsignalled', 'unsignatured', 'unsigned', 'unsigneted', 'unsignified', 'unsilenced', 'unsilicified', 'unsilvered', 'unsimplified', 'unsimulated', 'unsinewed', 'unsinged', 'unsingled', 'unsipped', 'unsistered', 'unsized', 'unsketched', 'unskewed', 'unskewered', 'unskilled', 'unskimmed', 'unskinned', 'unskirted', 'unslacked', 'unslackened', 'unslagged', 'unslaked', 'unslammed', 'unslandered', 'unslapped', 'unslashed', 'unslated', 'unslaughtered', 'unsleaved', 'unsleeved', 'unsliced', 'unslighted', 'unslipped', 'unslockened', 'unsloped', 'unslopped', 'unslotted', 'unsloughed', 'unsluiced', 'unslurred', 'unsmacked', 'unsmeared', 'unsmelled', 'unsmelted', 'unsmiled', 'unsmirched', 'unsmoked', 'unsmokified', 'unsmoothed', 'unsmothered', 'unsmudged', 'unsmuggled', 'unsmutched', 'unsmutted', 'unsnaffled', 'unsnagged', 'unsnaggled', 'unsnapped', 'unsnared', 'unsnatched', 'unsnipped', 'unsnouted', 'unsnubbed', 'unsnuffed', 'unsoaked', 'unsoaped', 'unsocialized', 'unsoftened', 'unsoiled', 'unsolaced', 'unsoldered', 'unsoldiered', 'unsoled', 'unsolemnized', 'unsolicitated', 'unsolicited', 'unsolidified', 'unsolved', 'unsonneted', 'unsoothed', 'unsophisticated', 'unsorrowed', 'unsorted', 'unsotted', 'unsounded', 'unsoured', 'unsoused', 'unsowed', 'unspaced', 'unspaded', 'unspangled', 'unspanked', 'unspanned', 'unspared', 'unsparred', 'unspattered', 'unspawned', 'unspayed', 'unspeared', 'unspecialized', 'unspecified', 'unspecked', 'unspeckled', 'unspectacled', 'unsped', 'unspeed', 'unspeered', 'unspelled', 'unspewed', 'unsphered', 'unspiced', 'unspied', 'unspired', 'unspirited', 'unspiritualized', 'unspissated', 'unspited', 'unspitted', 'unsplashed', 'unsplattered', 'unsplayed', 'unspleened', 'unspliced', 'unsplinted', 'unsplintered', 'unspoiled', 'unsponged', 'unsponsored', 'unsported', 'unspotlighted', 'unspotted', 'unspoused', 'unspouted', 'unsprained', 'unsprayed', 'unsprinkled', 'unsprinklered', 'unsprouted', 'unspruced', 'unspurned', 'unspurred', 'unsquandered', 'unsquared', 'unsquashed', 'unsqueezed', 'unsquelched', 'unsquired', 'unsquirted', 'unstabbed', 'unstabled', 'unstablished', 'unstacked', 'unstaffed', 'unstaged', 'unstaggered', 'unstained', 'unstaled', 'unstalked', 'unstalled', 'unstamped', 'unstampeded', 'unstandardized', 'unstarched', 'unstarred', 'unstarted', 'unstartled', 'unstarved', 'unstated', 'unstationed', 'unstatued', 'unstaunched', 'unstaved', 'unstayed', 'unsteadied', 'unsteamed', 'unstecked', 'unsteeled', 'unsteeped', 'unsteepled', 'unsteered', 'unstemmed', 'unstercorated', 'unstereotyped', 'unsterilized', 'unstethoscoped', 'unstewed', 'unstiffened', 'unstifled', 'unstigmatized', 'unstilled', 'unstilted', 'unstimulated', 'unstinged', 'unstinted', 'unstippled', 'unstipulated', 'unstirred', 'unstitched', 'unstocked', 'unstockinged', 'unstoked', 'unstoned', 'unstopped', 'unstoppered', 'unstored', 'unstoried', 'unstormed', 'unstoved', 'unstowed', 'unstraddled', 'unstrafed', 'unstraightened', 'unstrained', 'unstraitened', 'unstranded', 'unstrangered', 'unstrangled', 'unstrapped', 'unstratified', 'unstreaked', 'unstrengthened', 'unstressed', 'unstretched', 'unstrewed', 'unstriated', 'unstrictured', 'unstringed', 'unstriped', 'unstripped', 'unstroked', 'unstubbed', 'unstuccoed', 'unstudded', 'unstudied', 'unstuffed', 'unstultified', 'unstunned', 'unstunted', 'unstupefied', 'unstuttered', 'unstyled', 'unsubdivided', 'unsubducted', 'unsubdued', 'unsubjected', 'unsubjugated', 'unsublimated', 'unsublimed', 'unsubmerged', 'unsubmitted', 'unsubordinated', 'unsuborned', 'unsubpoenaed', 'unsubscribed', 'unsubsided', 'unsubsidized', 'unsubstanced', 'unsubstantiated', 'unsubstituted', 'unsubtracted', 'unsubventioned', 'unsubventionized', 'unsubverted', 'unsucceeded', 'unsuccored', 'unsucked', 'unsuckled', 'unsued', 'unsuffered', 'unsufficed', 'unsufflated', 'unsuffocated', 'unsuffused', 'unsugared', 'unsuggested', 'unsuited', 'unsullied', 'unsulphonated', 'unsulphurized', 'unsummarized', 'unsummed', 'unsummered', 'unsummoned', 'unsunburned', 'unsundered', 'unsunned', 'unsuperannuated', 'unsupernaturalized', 'unsuperscribed', 'unsuperseded', 'unsupervised', 'unsupped', 'unsupplanted', 'unsuppled', 'unsupplemented', 'unsupplicated', 'unsupplied', 'unsupported', 'unsupposed', 'unsuppressed', 'unsuppurated', 'unsurcharged', 'unsurfaced', 'unsurfeited', 'unsurmised', 'unsurmounted', 'unsurnamed', 'unsurpassed', 'unsurpliced', 'unsurprised', 'unsurrendered', 'unsurrounded', 'unsurveyed', 'unsurvived', 'unsuspected', 'unsuspended', 'unsustained', 'unsutured', 'unswabbed', 'unswaddled', 'unswallowed', 'unswapped', 'unswathed', 'unswayed', 'unsweated', 'unsweetened', 'unswelled', 'unsweltered', 'unswerved', 'unswilled', 'unswingled', 'unswitched', 'unsyllabled', 'unsymbolized', 'unsymmetrized', 'unsympathized', 'unsynchronized', 'unsyncopated', 'unsyndicated', 'unsyringed', 'unsystematized', 'untabernacled', 'untabled', 'untabulated', 'untacked', 'untackled', 'untagged', 'untailed', 'untainted', 'untalented', 'untalked', 'untallied', 'untallowed', 'untamed', 'untampered', 'untangled', 'untanned', 'untantalized', 'untaped', 'untapered', 'untapestried', 'untapped', 'untarnished', 'untarred', 'untarried', 'untartarized', 'untasked', 'untasseled', 'untasted', 'untattered', 'untattooed', 'untaunted', 'untawed', 'untaxed', 'unteamed', 'unteased', 'unteasled', 'untedded', 'unteethed', 'untelegraphed', 'untempered', 'untempested', 'untempled', 'untempted', 'untenanted', 'untended', 'untendered', 'untented', 'untentered', 'unterminated', 'unterraced', 'unterrified', 'unterrorized', 'untessellated', 'untested', 'untethered', 'untewed', 'unthanked', 'unthatched', 'unthawed', 'unthickened', 'unthinned', 'unthoughted', 'unthralled', 'unthrashed', 'unthreaded', 'unthreatened', 'unthreshed', 'unthrilled', 'unthroned', 'unthronged', 'unthrottled', 'unthumbed', 'unthumped', 'unthundered', 'unthwacked', 'unthwarted', 'untiaraed', 'unticketed', 'untickled', 'untied', 'untiled', 'untilled', 'untilted', 'untimbered', 'untimed', 'untinctured', 'untinged', 'untinkered', 'untinned', 'untinseled', 'untinted', 'untipped', 'untippled', 'untired', 'untissued', 'untithed', 'untitled', 'untoasted', 'untogaed', 'untoiled', 'untoileted', 'untolerated', 'untombed', 'untoned', 'untongued', 'untonsured', 'untooled', 'untoothed', 'untopped', 'untormented', 'untorpedoed', 'untortured', 'untossed', 'untotaled', 'untotalled', 'untouched', 'untoured', 'untouristed', 'untowered', 'untraced', 'untraceried', 'untracked', 'untraded', 'untraduced', 'untrafficked', 'untrailed', 'untrained', 'untraitored', 'untrammed', 'untrammeled', 'untramped', 'untrampled', 'untranquilized', 'untranquillized', 'untransacted', 'untranscended', 'untranscribed', 'untransferred', 'untransfigured', 'untransfixed', 'untransformed', 'untransfused', 'untransgressed', 'untranslated', 'untransmigrated', 'untransmitted', 'untransmuted', 'untranspired', 'untransplanted', 'untransported', 'untransposed', 'untransubstantiated', 'untrapped', 'untrashed', 'untraveled', 'untraversed', 'untravestied', 'untreasured', 'untreated', 'untreed', 'untrekked', 'untrellised', 'untrenched', 'untrepanned', 'untrespassed', 'untressed', 'untriced', 'untricked', 'untried', 'untrimmed', 'untripped', 'untriturated', 'untriumphed', 'untrolled', 'untrophied', 'untrotted', 'untroubled', 'untrounced', 'untrowed', 'untruckled', 'untrumped', 'untrumpeted', 'untrundled', 'untrunked', 'untrussed', 'untrusted', 'untubbed', 'untucked', 'untuckered', 'untufted', 'untugged', 'untumbled', 'untumefied', 'untuned', 'untunneled', 'untupped', 'unturbaned', 'unturfed', 'unturned', 'unturpentined', 'unturreted', 'untusked', 'untutored', 'untwilled', 'untwined', 'untwinned', 'untwirled', 'untwisted', 'untwitched', 'unulcerated', 'unumpired', 'ununified', 'ununiformed', 'ununited', 'unupholstered', 'unurged', 'unurned', 'unused', 'unushered', 'unusurped', 'unuttered', 'unvaccinated', 'unvaleted', 'unvalidated', 'unvalued', 'unvamped', 'unvanquished', 'unvantaged', 'unvaporized', 'unvaried', 'unvariegated', 'unvarnished', 'unvatted', 'unvaulted', 'unvaunted', 'unveiled', 'unveined', 'unvended', 'unveneered', 'unvenerated', 'unvenged', 'unvenomed', 'unvented', 'unventilated', 'unventured', 'unvenued', 'unverbalized', 'unverdured', 'unverified', 'unvermiculated', 'unversed', 'unversified', 'unvesseled', 'unvested', 'unvetoed', 'unvexed', 'unvibrated', 'unvictimized', 'unvictualed', 'unvictualled', 'unviewed', 'unvilified', 'unvillaged', 'unvindicated', 'unvintaged', 'unviolated', 'unviolenced', 'unviolined', 'unvisioned', 'unvisited', 'unvisored', 'unvisualized', 'unvitalized', 'unvitiated', 'unvitrified', 'unvitriolized', 'unvituperated', 'unvivified', 'unvizarded', 'unvocalized', 'unvoiced', 'unvoided', 'unvolatilized', 'unvolitioned', 'unvomited', 'unvoted', 'unvouched', 'unvouchsafed', 'unvowed', 'unvoweled', 'unvulcanized', 'unvulgarized', 'unwadded', 'unwaded', 'unwafted', 'unwaged', 'unwagered', 'unwagged', 'unwailed', 'unwainscoted', 'unwaited', 'unwaked', 'unwakened', 'unwalked', 'unwalled', 'unwallowed', 'unwandered', 'unwanted', 'unwarbled', 'unwarmed', 'unwarned', 'unwarnished', 'unwarped', 'unwarranted', 'unwashed', 'unwasted', 'unwatched', 'unwatered', 'unwatermarked', 'unwattled', 'unwaved', 'unwavered', 'unwaxed', 'unwayed', 'unweakened', 'unweaned', 'unweaponed', 'unwearied', 'unweathered', 'unwebbed', 'unwed', 'unwedded', 'unwedged', 'unweeded', 'unweened', 'unweighed', 'unweighted', 'unwelcomed', 'unwelded', 'unwelted', 'unwesternized', 'unwetted', 'unwheedled', 'unwheeled', 'unwhelmed', 'unwhelped', 'unwhetted', 'unwhipped', 'unwhirled', 'unwhisked', 'unwhiskered', 'unwhispered', 'unwhistled', 'unwhited', 'unwhitened', 'unwhitewashed', 'unwidened', 'unwidowed', 'unwifed', 'unwigged', 'unwilled', 'unwilted', 'unwindowed', 'unwinged', 'unwinnowed', 'unwiped', 'unwired', 'unwished', 'unwitched', 'unwithered', 'unwitnessed', 'unwitted', 'unwived', 'unwomanized', 'unwonted', 'unwooded', 'unwooed', 'unworked', 'unwormed', 'unworried', 'unworshiped', 'unworshipped', 'unwounded', 'unwrapped', 'unwreaked', 'unwreathed', 'unwrecked', 'unwrenched', 'unwrested', 'unwrestled', 'unwretched', 'unwriggled', 'unwrinkled', 'unwronged', 'unyeaned', 'unyearned', 'unyielded', 'unyoked', 'unzoned', 'upbred', 'upbreed', 'upfeed', 'upfingered', 'uphearted', 'upholstered', 'uplifted', 'upsetted', 'upsighted', 'upspeed', 'uptwined', 'urled', 'used', 'vacanthearted', 'vacuolated', 'vaginated', 'valanced', 'vallated', 'valued', 'valved', 'vambraced', 'vamped', 'vaned', 'vanitied', 'vapored', 'vareheaded', 'varicated', 'varicolored', 'varicosed', 'varied', 'variegated', 'variformed', 'variotinted', 'varnished', 'varved', 'vasculated', 'vaulted', 'vaunted', 'veiled', 'veined', 'velated', 'velveted', 'velveteened', 'velvetseed', 'velvetweed', 'venomed', 'verandaed', 'verdured', 'vermiculated', 'verriculated', 'verrucated', 'versed', 'versicolored', 'vertebrated', 'verticillated', 'veruled', 'verveled', 'vesseled', 'vestibuled', 'vestmented', 'vexed', 'viduated', 'vilehearted', 'vinaigretted', 'vined', 'vinegarweed', 'vingerhoed', 'virgated', 'viroled', 'virtued', 'virulented', 'visaged', 'visioned', 'vistaed', 'vitiated', 'vitrailed', 'vizarded', 'vocabularied', 'voiced', 'voided', 'volumed', 'voluted', 'vowed', 'waged', 'waistcoated', 'waisted', 'waled', 'walled', 'walleyed', 'waned', 'warbled', 'warded', 'warehoused', 'warmed', 'warmhearted', 'warped', 'warranted', 'warted', 'wartweed', 'washed', 'washshed', 'wasted', 'watched', 'watered', 'waterlogged', 'watershed', 'waterweed', 'wattled', 'waved', 'waxhearted', 'waxweed', 'weakbrained', 'weakhanded', 'weakhearted', 'weakmouthed', 'weaponed', 'wearied', 'weathered', 'weatherheaded', 'weatherproofed', 'weaved', 'weazened', 'webbed', 'wed', 'wedbed', 'wedded', 'wedged', 'weed', 'weeded', 'weelfaured', 'weepered', 'weeviled', 'wefted', 'weighed', 'weighted', 'welted', 'wetched', 'wetted', 'whaleboned', 'wheateared', 'wheeled', 'whelked', 'wheyfaced', 'whimsied', 'whipped', 'whirled', 'whiskerandoed', 'whiskered', 'whiskied', 'whiskified', 'whiskyfied', 'whispered', 'whited', 'whitehanded', 'whitehearted', 'whiteweed', 'wholehearted', 'whorled', 'wicked', 'wickerworked', 'widehearted', 'widemouthed', 'widowed', 'widowered', 'wigged', 'wilded', 'willed', 'willinghearted', 'willowed', 'willowweed', 'windbagged', 'winded', 'windgalled', 'wined', 'winged', 'winghanded', 'wingseed', 'winkered', 'wintered', 'winterfeed', 'winterweed', 'wired', 'wireweed', 'wiseacred', 'wisehearted', 'wiseweed', 'wished', 'wistened', 'witched', 'witchweed', 'withered', 'witted', 'wittified', 'wizened', 'womanhearted', 'wombed', 'wonned', 'wonted', 'woodbined', 'wooded', 'woodenheaded', 'woodlocked', 'woodshed', 'woofed', 'wooled', 'woolshed', 'woolweed', 'worded', 'worked', 'workhoused', 'worlded', 'wormed', 'wormholed', 'wormseed', 'wormweed', 'worried', 'worsted', 'wounded', 'wrapped', 'wreathed', 'wrenched', 'wretched', 'wried', 'wrinkled', 'wristed', 'writhed', 'wrizzled', 'wronged', 'wrongheaded', 'wronghearted', 'yapped', 'yawweed', 'yed', 'yellowseed', 'yellowweed', 'yolked', 'younghearted', 'zagged', 'zed', 'zeed', 'zigzagged', 'zonated', 'zoned']\n"
     ]
    }
   ],
   "source": [
    "# Using beta meta characters\n",
    "# we find words ending with \"ed\" by using endswith(\"ed\"). we can also use regular expressions\n",
    "print([w for w in wordlist if re.search(\"ed$\", w)])"
   ]
  },
  {
   "cell_type": "code",
   "execution_count": 63,
   "metadata": {
    "collapsed": false
   },
   "outputs": [
    {
     "name": "stdout",
     "output_type": "stream",
     "text": [
      "['abjectly', 'adjuster', 'dejected', 'dejectly', 'injector', 'majestic', 'objectee', 'objector', 'rejecter', 'rejector', 'unjilted', 'unjolted', 'unjustly']\n"
     ]
    }
   ],
   "source": [
    "# the . wildcard symbol matches any single character. Suppose we are looking for an 8 letter word with j as the 3rd letter and\n",
    "# t as the 6th letter\n",
    "print([w for w in wordlist if re.search(\"^..j..t..$\", w)]) # \"^\" matches the beginning of a string like \"$\" matches the end"
   ]
  },
  {
   "cell_type": "code",
   "execution_count": 64,
   "metadata": {
    "collapsed": false
   },
   "outputs": [
    {
     "name": "stdout",
     "output_type": "stream",
     "text": [
      "['abjectedness', 'abjection', 'abjective', 'abjectly', 'abjectness', 'adjection', 'adjectional', 'adjectival', 'adjectivally', 'adjective', 'adjectively', 'adjectivism', 'adjectivitis', 'adjustable', 'adjustably', 'adjustage', 'adjustation', 'adjuster', 'adjustive', 'adjustment', 'antejentacular', 'antiprojectivity', 'bijouterie', 'coadjustment', 'cojusticiar', 'conjective', 'conjecturable', 'conjecturably', 'conjectural', 'conjecturalist', 'conjecturality', 'conjecturally', 'conjecture', 'conjecturer', 'coprojector', 'counterobjection', 'dejected', 'dejectedly', 'dejectedness', 'dejectile', 'dejection', 'dejectly', 'dejectory', 'dejecture', 'disjection', 'guanajuatite', 'inadjustability', 'inadjustable', 'injectable', 'injection', 'injector', 'injustice', 'insubjection', 'interjection', 'interjectional', 'interjectionalize', 'interjectionally', 'interjectionary', 'interjectionize', 'interjectiveness', 'interjector', 'interjectorily', 'interjectory', 'interjectural', 'interobjective', 'intersubjective', 'introjection', 'introjective', 'majestic', 'majestical', 'majestically', 'majesticalness', 'majesticness', 'majestious', 'majestyship', 'maladjusted', 'maladjustive', 'maladjustment', 'microinjection', 'microprojector', 'misconjecture', 'munjistin', 'nonadjectival', 'nonadjustable', 'nonadjustive', 'nonadjustment', 'nonconjectural', 'nonejection', 'nonobjection', 'nonobjective', 'nonprojection', 'nonprojective', 'nonprojectively', 'nonrejection', 'nonsubjective', 'objectable', 'objectation', 'objectative', 'objectee', 'objecthood', 'objectification', 'objectify', 'objection', 'objectionability', 'objectionable', 'objectionableness', 'objectionably', 'objectional', 'objectioner', 'objectionist', 'objectival', 'objectivate', 'objectivation', 'objective', 'objectively', 'objectiveness', 'objectivism', 'objectivist', 'objectivistic', 'objectivity', 'objectivize', 'objectization', 'objectize', 'objectless', 'objectlessly', 'objectlessness', 'objector', 'outjetting', 'overjutting', 'overobjectify', 'preadjectival', 'preadjective', 'preadjustable', 'preadjustment', 'preconjecture', 'prejustification', 'prejustify', 'preobjection', 'preobjective', 'prerejection', 'presubjection', 'projectable', 'projectedly', 'projectile', 'projecting', 'projectingly', 'projection', 'projectional', 'projectionist', 'projective', 'projectively', 'projectivity', 'projector', 'projectress', 'projectrix', 'projecture', 'readjustable', 'readjuster', 'readjustment', 'rejectable', 'rejectableness', 'rejectage', 'rejectamenta', 'rejecter', 'rejectingly', 'rejection', 'rejective', 'rejectment', 'rejector', 'rejustification', 'rejustify', 'reobjectivization', 'reobjectivize', 'resubjection', 'retrojection', 'semiadjectively', 'subjectability', 'subjectable', 'subjectdom', 'subjected', 'subjectedly', 'subjectedness', 'subjecthood', 'subjectibility', 'subjectible', 'subjectification', 'subjectify', 'subjectile', 'subjection', 'subjectional', 'subjectist', 'subjective', 'subjectively', 'subjectiveness', 'subjectivism', 'subjectivist', 'subjectivistic', 'subjectivistically', 'subjectivity', 'subjectivize', 'subjectivoidealistic', 'subjectless', 'subjectlike', 'subjectness', 'subjectship', 'superdejection', 'superinjustice', 'superjustification', 'superobjection', 'superobjectionable', 'teleobjective', 'trajectile', 'trajection', 'trajectitious', 'trajectory', 'transsubjective', 'unadjectived', 'unadjustably', 'unadjusted', 'unadjustment', 'unconjecturable', 'unconjectured', 'undejected', 'underadjustment', 'unejected', 'uninjectable', 'uninjected', 'uninterjected', 'unjesting', 'unjilted', 'unjolted', 'unjostled', 'unjustice', 'unjusticiable', 'unjustifiable', 'unjustifiableness', 'unjustifiably', 'unjustified', 'unjustifiedly', 'unjustifiedness', 'unjustify', 'unjustled', 'unjustly', 'unjustness', 'unmajestic', 'unobjected', 'unobjectionable', 'unobjectionableness', 'unobjectionably', 'unobjectional', 'unobjective', 'unprojected', 'unprojecting', 'unrejectable', 'unsubjectable', 'unsubjected', 'unsubjectedness', 'unsubjection', 'unsubjective', 'unsubjectlike']\n"
     ]
    }
   ],
   "source": [
    "print([w for w in wordlist if re.search(\"..j..t..\", w)]) # does not match the output above"
   ]
  },
  {
   "cell_type": "code",
   "execution_count": 23,
   "metadata": {
    "collapsed": false
   },
   "outputs": [
    {
     "data": {
      "text/plain": [
       "['gold', 'golf', 'hold', 'hole']"
      ]
     },
     "execution_count": 23,
     "metadata": {},
     "output_type": "execute_result"
    }
   ],
   "source": [
    "# Ranges and closures\n",
    "# example - the t9 system\n",
    "[w for w in wordlist if re.search('^[ghi][mno][jlk][def]$', w)]"
   ]
  },
  {
   "cell_type": "code",
   "execution_count": 57,
   "metadata": {
    "collapsed": false
   },
   "outputs": [
    {
     "data": {
      "text/plain": [
       "['miiiiiiiiiiiiinnnnnnnnnnneeeeeeeeee',\n",
       " 'miiiiiinnnnnnnnnneeeeeeee',\n",
       " 'mine',\n",
       " 'mmmmmmmmiiiiiiiiinnnnnnnnneeeeeeee']"
      ]
     },
     "execution_count": 57,
     "metadata": {},
     "output_type": "execute_result"
    }
   ],
   "source": [
    "# exploring the + symbol\n",
    "chat_words = sorted(set(w for w in nltk.corpus.nps_chat.words()))\n",
    "[w for w in chat_words if re.search(\"^m+i+n+e+$\", w)] \n",
    "\n",
    "# + means one or more instances of the preceeding item, which could be an individual item like m, a set like [fed] or\n",
    "# a range like [d-f]. Replacing the + with * would mean 0 or more of the preceeding item. \"^m*i*n*e*$\" would match everything \n",
    "# starting with m."
   ]
  },
  {
   "cell_type": "code",
   "execution_count": 59,
   "metadata": {
    "collapsed": false
   },
   "outputs": [
    {
     "name": "stdout",
     "output_type": "stream",
     "text": [
      "['!', '!!', '!!!', '!!!!', '!!!!!', '!!!!!!', '!!!!!!!', '!!!!!!!!', '!!!!!!!!!', '!!!!!!!!!!', '!!!!!!!!!!!', '!!!!!!!!!!!!!', '!!!!!!!!!!!!!!!!', '!!!!!!!!!!!!!!!!!!!!!!', '!!!!!!!!!!!!!!!!!!!!!!!', '!!!!!!!!!!!!!!!!!!!!!!!!!!!', '!!!!!!!!!!!!!!!!!!!!!!!!!!!!', '!!!!!!!!!!!!!!!!!!!!!!!!!!!!!!!!!!!!!!!!!!!!!!!!!!!!!!', '!!!!!!.', '!!!!!.', '!!!!....', '!!!.', '!!.', '!!...', '!.', '!...', '!=', '!?', '!??', '!???', '\"', '\"...', '\"?', '\"s', '#', '###', '####', '$', '$$', '$27', '&', '&^', \"'\", \"''\", \"'.\", \"'d\", \"'ll\", \"'m\", \"'n'\", \"'s\", '(', '(((', '((((', '(((((', '((((((', '(((((((', '((((((((', '(((((((((', '((((((((((', '(((((((((((', '((((((((((((', '(((((((((((((', '((((((((((((((', '(((((((((((((((', '(((((((((((((((((', '((((((((((((((((((', '((((((((((((((((((((', '(((((((((((((((((((((', '(((((((((((((((((((((((', '((((((((((((((((((((((((', '(((((((((((((((((((((((((', '((((((((((((((((((((((((((', '(((((..', '(*&(^', '(.', ')', ')))', '))))', ')))))', ')))))))', '))))))))', ')))))))))', '))))))))))', ')))))))))))', '))))))))))))', ')))))))))))))', '))))))))))))))', ')))))))))))))))', ')))))))))))))))))', ')))))))))))))))))))', ')))))))))))))))))))))', '))))))))))))))))))))))', '))))))))))))))))))))))))))))', ')))))))))))))))))))))))))))))))', ')?', '*', '******', '*VBS*', '+', '+*+*+*+*', '++', ',', ',,', ',,,', ',,,,', ',,,,,', ',,,,,,,', ',,,,,,,,,,,', '-', '-(', '--', '-------------', '--------------------', '--------->', '-->', '-...)...-', '-17', '-21', '-6', '-_-', '-s', '.', '. .', '. . .', '. ...', '.(.', '.(..(.vMp3 v1.7.4.).)', '.)', '.).', '..', '.. .', '..(..', '...', '....', '.....', '......', '.......', '........', '.........', '..........', '...........', '............', '.............', '................', '..................', '...................', '....................', '........................', '..............................', '.45', '.:', '.;)', '/', '//', '0', '05.', '06.', '1', '1.98', '1.99', '10', '100', '100%', '1012.', '1016.', '102.6', '10:49', '10th', '11', '12', '12%', '1200', '121.7', '1299', '13', '138', '14', '14-16', '147.7', '15', '16', '16.', '17', '18', '185', '18ST', '19', '1900', '1930', '1980', '1985', '1996', '2', '2.3', '20', '20.', '2006', '20S', '20s', '21', '22', '220', '224', '23', '24', '246', '247', '25', '26', '27', '28', '280', '28147', '29', '29.88.', '295', '29803', '2:55', '2nd', '3', '30', '30.', '30.00.', '300', '31', '32', '33', '3333333', '33982', '34', '35', '36', '360', '37', '38', '39', '39.3', '396', '3:45', '3~<-..4@.', '4', '4.20', '41', '423', '43', '43.', '45', '45.5', '453', '46', '46.', '47', '47.', '49', '4:03', '5', '50', '51', '53', '55', '55%', '55.', '56', '56.', '57', '57401', '579', '59', '59%', '6', '60', '60s', '64.8', '65%', '68%', '69', '6:38', '6:41', '6:51', '6:53', '7', '70%', '700', '73%', '73042', '75', '75%', '76%', '77', '7:45', '8', '80', '8082653953', '818', '85%', '9', '9.53', '90', '92129', '92780', '93', '93%', '95953', '98.5', '98.6', '99', '99701', '99703', '9:10', ':', ':(', ':)', ':):):)', ':-(', ':-)', ':-@', ':.', ':/', ':@', ':D', ':P', ':]', ':p', ':|', ';', '; ..', ';)', ';-(', ';-)', ';0', ';]', ';p', '<', '<,', '<-', '<--', '<---', '<----', '<----------', '<3', \"<3's\", '<33', '<333', '<3333', '<33333', '<333333333', '<3333333333333333', '<33333333333333333', '<<', '<<<', '<<<<', '<<<<,', '<<<<<', '<<<<<<', '<<<<<<,', '<<<<<<<', '<<<<<<<<<<<<<<', '<~~~', '=', \"='s\", '=(', '=)', '=-\\\\', '=/', '=D', '=[', '=]', '=p', '>', '>.>', '>.>->', '>:->', '>>>', '>>>>>>>>>>', '>>>>>>>>>>>', '>>>>>>>>>>>>', '>?', '>_>', '?', '?!', '?!?!', '?!?!?', \"?'\", '?.', '?..', '?....', '??', '??!!', '??!?!??!', '???', '????', '?????', '??????', '???????', '????????', '?????????', '??@', '@', '@$$', \"@-,'~\", \"@..3-,'~.\", 'B', 'C', 'CDT', 'CST', 'CT', 'Cry', 'Ct', 'Ctrl', 'D', 'DJ', 'DVD', 'Dr', 'Dr.', 'F', 'F5', 'FF', 'FL', 'G', 'GN', 'GNG', 'GrlZ', 'Gs', 'H', 'H0rny', 'Hmm', 'JRZ', 'K', 'LPN', 'M', 'MD', 'MP3', 'MSN', 'MY', 'Mmm', 'Mp3', 'Ms', 'My', 'N', 'N\"T', \"N'T\", 'NC', 'NTMN', 'NY', 'P', 'P.', 'PDT', 'PM', \"PM's\", 'PMSL', 'PMs', 'PS', 'PST', 'Plssss', 'PmS', 'QQ', 'R', \"RN's\", 'S', 'S.M.R.', 'S3x0r', 'St', 'TC', 'TX', 'TY', 'TYPR', 'Ty', 'W', 'WHY', 'WTF', 'Wb', 'Why', 'Wtf', 'X', 'XXXXXXXXXX', '[[[[[[[[[[[[[[[[[[', '\\\\', '\\\\ty', ']:)', ']]]]]]]]]]]]]]]]]]]]]', '^', '^^', '^^^', '^_^', '_', '`', 'b', 'b/c', 'b4', 'bbl', 'bbs', 'bc', 'bf', 'bj', 'brb', 'brbbb', 'brrrrrrr', 'brwn', 'btw', 'by', 'byb', 'c', \"c'm\", 'chp', 'ck', 'cpr', 'cry', 'cyb3r', 'd', 'd=', 'dd', 'dj', 'dl', 'dr', 'dry', 'dsklgjsdk', 'f', 'f.', 'fck', 'fl', 'fly', 'frm', 'frst', 'ft', 'ft.', 'fwd', \"g'\", 'gf', 'gm', 'gn', 'grrl', 'grrr', 'grrrrrrrr', 'grrrrrrrrr', 'grrrrrrrrrrrrrrrrr', 'gtg', 'h', 'h.s', 'hb', 'hfglhs', 'hgfhgfjgf', 'hm', 'hmm', 'hmmm', 'hmmmm', 'hmmmmm', 'hmmmmmmm', 'hmmmmmmmm', 'hmmmmmmmmmm', 'hmph', 'hr', 'hrs', 'http', 'hx', 'hyy', 'j', 'j/k', 'j/p', 'jk', 'jr', 'jw', 'k', \"k's\", 'kc', 'kmph', 'knw', 'kts', 'ky', 'l', 'lb', 'lbs', 'ldskdlsf', 'll', 'ltnc', 'ltns', 'ltr', 'm', 'md', 'mhm', 'mm', 'mmhmm', 'mmm', 'mmmm', 'mmmmk', 'mmmmm', 'mmmmmm', 'mmmmmmmmmm', 'mmmmmmmmmmmmm', 'mmmmmmmmmmmmmm', 'mp3', 'ms', 'ms.', 'msg', 'msn', 'my', 'n', 'n\"t', \"n't\", 'n.n', 'n/', 'n;t', 'nbc', 'nc', 'nd', 'nj', 'nm', 'ny', 'nyc', 'nz', 'p', 'pc', 'pffft', 'pfft', 'plz', 'pm', \"pm'n\", \"pm's\", 'pms', 'pmsl', 'pp', 'ppl', 'pr', 'prrty', 'ps2', 'psh', 'pssssh', 'pssst', 'pvt', 'pwns', 'px', 'r', 's', \"s'\", 'sdlfkjsj', 'sf', 'shhhh', 'sky', 'sldfjlsdf', 'slkfjsldkfjs', 'sp', 'sry', 'st', 'sw', 'syck', 't', 't/c', 't/y', 'tc', 'td', 'tdr', 'thnx', 'thx', 'tks', 'try', 'tv', 'tx', 'ty', 'tyvm', 'vm', 'vs.', 'w', 'w/', 'w/b', 'wb', 'wc', 'why', 'whys', 'wtf', 'wth', 'wv', 'wz', 'x', 'xD', 'xxxxxx', 'y', \"y'\", 'y/w', 'yr', 'yrs', 'ysssssssss', 'yvw', 'yw', \"yw's\", 'zzzzzzzz', '~', '~!']\n"
     ]
    }
   ],
   "source": [
    "# ^ has a different use when it is used inside []\n",
    "# to find all words that have no vowel\n",
    "print([w for w in chat_words if re.search(\"^[^aeiouAEIOU]+$\", w)])"
   ]
  },
  {
   "cell_type": "code",
   "execution_count": 55,
   "metadata": {
    "collapsed": false
   },
   "outputs": [
    {
     "name": "stdout",
     "output_type": "stream",
     "text": [
      "['0.0085', '0.05', '0.1', '0.16', '0.2', '0.25', '0.28', '0.3', '0.4', '0.5', '0.50', '0.54', '0.56', '0.60', '0.7', '0.82', '0.84', '0.9', '0.95', '0.99', '1.01', '1.1', '1.125', '1.14', '1.1650', '1.17', '1.18', '1.19', '1.2', '1.20', '1.24', '1.25', '1.26', '1.28', '1.35', '1.39', '1.4', '1.457', '1.46', '1.49', '1.5', '1.50', '1.55', '1.56', '1.5755', '1.5805', '1.6', '1.61', '1.637', '1.64', '1.65', '1.7', '1.75', '1.76', '1.8', '1.82', '1.8415', '1.85', '1.8500', '1.9', '1.916', '1.92', '10.19', '10.2', '10.5', '107.03', '107.9', '109.73', '11.10', '11.5', '11.57', '11.6', '11.72', '11.95', '112.9', '113.2', '116.3', '116.4', '116.7', '116.9', '118.6', '12.09', '12.5', '12.52', '12.68', '12.7', '12.82', '12.97', '120.7', '1206.26', '121.6', '126.1', '126.15', '127.03', '129.91', '13.1', '13.15', '13.5', '13.50', '13.625', '13.65', '13.73', '13.8', '13.90', '130.6', '130.7', '131.01', '132.9', '133.7', '133.8', '14.00', '14.13', '14.26', '14.28', '14.43', '14.5', '14.53', '14.54', '14.6', '14.75', '14.99', '141.9', '142.84', '142.85', '143.08', '143.80', '143.93', '148.9', '149.9', '15.5', '150.00', '153.3', '154.2', '16.05', '16.09', '16.125', '16.2', '16.5', '16.68', '16.7', '16.9', '169.9', '17.3', '17.4', '17.5', '17.95', '1738.1', '176.1', '18.3', '18.6', '18.95', '185.9', '188.84', '19.3', '19.50', '19.6', '19.94', '19.95', '191.9', '2.07', '2.1', '2.15', '2.19', '2.2', '2.25', '2.29', '2.3', '2.30', '2.35', '2.375', '2.4', '2.42', '2.44', '2.46', '2.47', '2.5', '2.50', '2.6', '2.62', '2.65', '2.7', '2.75', '2.8', '2.80', '2.87', '2.875', '2.9', '2.95', '20.07', '20.5', '21.1', '21.9', '2141.7', '2160.1', '2163.2', '22.75', '220.45', '221.4', '225.6', '23.25', '23.4', '23.5', '23.72', '234.4', '236.74', '236.79', '24.95', '25.50', '25.6', '251.2', '26.2', '26.5', '26.8', '263.07', '2645.90', '2691.19', '27.1', '27.4', '273.5', '278.7', '28.25', '28.36', '28.4', '28.5', '28.53', '28.6', '29.3', '29.4', '29.9', '292.32', '3.01', '3.04', '3.1', '3.16', '3.18', '3.19', '3.2', '3.20', '3.23', '3.253', '3.28', '3.3', '3.35', '3.375', '3.4', '3.42', '3.43', '3.5', '3.55', '3.6', '3.61', '3.625', '3.7', '3.75', '3.8', '3.80', '3.9', '30.6', '30.9', '319.75', '32.8', '334.5', '34.625', '341.20', '3436.58', '35.2', '35.7', '352.7', '352.9', '35500.64', '35564.43', '36.9', '361.8', '3648.82', '37.3', '37.5', '372.14', '372.9', '374.19', '374.20', '377.60', '38.3', '38.375', '38.5', '38.875', '387.8', '4.1', '4.10', '4.2', '4.25', '4.3', '4.4', '4.5', '4.55', '4.6', '4.7', '4.75', '4.8', '4.875', '4.898', '4.9', '40.21', '41.60', '415.6', '415.8', '42.1', '42.5', '422.5', '43.875', '434.4', '436.01', '446.62', '449.04', '45.2', '45.3', '45.75', '456.64', '46.1', '47.1', '47.125', '47.5', '47.6', '49.9', '494.50', '497.34', '5.1', '5.2180', '5.276', '5.29', '5.3', '5.39', '5.4', '5.435', '5.5', '5.57', '5.6', '5.63', '5.7', '5.70', '5.8', '5.82', '5.9', '5.92', '50.1', '50.38', '50.45', '51.25', '51.6', '55.1', '566.54', '57.50', '57.6', '57.7', '58.64', '59.6', '59.9', '6.03', '6.1', '6.20', '6.21', '6.25', '6.4', '6.40', '6.44', '6.5', '6.50', '6.53', '6.6', '6.7', '6.70', '6.79', '6.84', '6.9', '60.36', '618.1', '62.1', '62.5', '62.625', '63.79', '630.9', '64.5', '66.5', '7.15', '7.2', '7.20', '7.272', '7.3', '7.4', '7.40', '7.422', '7.45', '7.458', '7.5', '7.50', '7.52', '7.55', '7.60', '7.62', '7.63', '7.65', '7.74', '7.78', '7.79', '7.8', '7.80', '7.84', '7.88', '7.90', '7.95', '70.2', '70.7', '705.6', '72.7', '734.9', '737.5', '77.56', '77.6', '77.70', '8.04', '8.06', '8.07', '8.1', '8.12', '8.14', '8.15', '8.19', '8.2', '8.22', '8.25', '8.30', '8.35', '8.45', '8.467', '8.47', '8.48', '8.5', '8.50', '8.53', '8.55', '8.56', '8.575', '8.60', '8.64', '8.65', '8.70', '8.75', '8.9', '80.50', '80.8', '81.8', '811.9', '83.4', '84.29', '84.9', '85.1', '85.7', '86.12', '87.5', '88.32', '89.7', '89.9', '9.3', '9.32', '9.37', '9.45', '9.5', '9.625', '9.75', '9.8', '9.82', '9.9', '92.9', '93.3', '93.9', '94.2', '94.8', '95.09', '96.4', '98.3', '99.1', '99.3']\n"
     ]
    }
   ],
   "source": [
    "# Some more examples to find tokens that fit a particular pattern\n",
    "wsj = sorted(set(nltk.corpus.treebank.words()))\n",
    "print([w for w in wsj if re.search(\"^[0-9]+\\.[0-9]+$\", w)])"
   ]
  },
  {
   "cell_type": "code",
   "execution_count": 27,
   "metadata": {
    "collapsed": false
   },
   "outputs": [
    {
     "data": {
      "text/plain": [
       "['C$', 'US$']"
      ]
     },
     "execution_count": 27,
     "metadata": {},
     "output_type": "execute_result"
    }
   ],
   "source": [
    "[w for w in wsj if re.search(\"^[A-Z]+\\$$\", w)]"
   ]
  },
  {
   "cell_type": "code",
   "execution_count": 54,
   "metadata": {
    "collapsed": false
   },
   "outputs": [
    {
     "name": "stdout",
     "output_type": "stream",
     "text": [
      "['1614', '1637', '1787', '1901', '1903', '1917', '1925', '1929', '1933', '1934', '1948', '1953', '1955', '1956', '1961', '1965', '1966', '1967', '1968', '1969', '1970', '1971', '1972', '1973', '1975', '1976', '1977', '1979', '1980', '1981', '1982', '1983', '1984', '1985', '1986', '1987', '1988', '1989', '1990', '1991', '1992', '1993', '1994', '1995', '1996', '1997', '1998', '1999', '2000', '2005', '2009', '2017', '2019', '2029', '3057', '8300']\n"
     ]
    }
   ],
   "source": [
    "print([w for w in wsj if re.search(\"^[0-9]{4}$\", w)]) # {} specifies the number of repeats of the previous item"
   ]
  },
  {
   "cell_type": "code",
   "execution_count": 53,
   "metadata": {
    "collapsed": false
   },
   "outputs": [
    {
     "name": "stdout",
     "output_type": "stream",
     "text": [
      "['10-day', '10-lap', '10-year', '100-share', '12-point', '12-year', '14-hour', '15-day', '150-point', '190-point', '20-point', '20-stock', '21-month', '237-seat', '240-page', '27-year', '30-day', '30-point', '30-share', '30-year', '300-day', '36-day', '36-store', '42-year', '50-state', '500-stock', '52-week', '69-point', '84-month', '87-store', '90-day']\n"
     ]
    }
   ],
   "source": [
    "print([w for w in wsj if re.search(\"^[0-9]+-[a-z]{3,5}$\", w)]) # [a-z] will repeat 3-5 times"
   ]
  },
  {
   "cell_type": "code",
   "execution_count": 30,
   "metadata": {
    "collapsed": false
   },
   "outputs": [
    {
     "data": {
      "text/plain": [
       "['black-and-white',\n",
       " 'bread-and-butter',\n",
       " 'father-in-law',\n",
       " 'machine-gun-toting',\n",
       " 'savings-and-loan']"
      ]
     },
     "execution_count": 30,
     "metadata": {},
     "output_type": "execute_result"
    }
   ],
   "source": [
    "[w for w in wsj if re.search(\"^[a-z]{5,}-[a-z]{2,3}-[a-z]{,6}$\", w)]"
   ]
  },
  {
   "cell_type": "code",
   "execution_count": 52,
   "metadata": {
    "collapsed": false
   },
   "outputs": [
    {
     "name": "stdout",
     "output_type": "stream",
     "text": [
      "['62%-owned', 'Absorbed', 'According', 'Adopting', 'Advanced', 'Advancing', 'Alfred', 'Allied', 'Annualized', 'Anything', 'Arbitrage-related', 'Arbitraging', 'Asked', 'Assuming', 'Atlanta-based', 'Baking', 'Banking', 'Beginning', 'Beijing', 'Being', 'Bermuda-based', 'Betting', 'Boeing', 'Broadcasting', 'Bucking', 'Buying', 'Calif.-based', 'Change-ringing', 'Citing', 'Concerned', 'Confronted', 'Conn.based', 'Consolidated', 'Continued', 'Continuing', 'Declining', 'Defending', 'Depending', 'Designated', 'Determining', 'Developed', 'Died', 'During', 'Encouraged', 'Encouraging', 'English-speaking', 'Estimated', 'Everything', 'Excluding', 'Exxon-owned', 'Faulding', 'Fed', 'Feeding', 'Filling', 'Filmed', 'Financing', 'Following', 'Founded', 'Fracturing', 'Francisco-based', 'Fred', 'Funded', 'Funding', 'Generalized', 'Germany-based', 'Getting', 'Guaranteed', 'Having', 'Heating', 'Heightened', 'Holding', 'Housing', 'Illuminating', 'Indeed', 'Indexing', 'Irving', 'Jersey-based', 'Judging', 'Knowing', 'Learning', 'Legislating', 'Leming', 'Limited', 'London-based', 'Manfred', 'Manufacturing', 'Melamed', 'Miami-based', 'Mich.-based', 'Mining', 'Minneapolis-based', 'Mo.-based', 'Mortgage-Backed', 'Moving', 'Muzzling', 'N.J.-based', 'NBC-owned', 'NIH-appointed', 'Named', 'No-Smoking', 'Observing', 'Offering', 'Ohio-based', 'Orleans-based', 'Packaging', 'Performing', 'Philadelphia-based', 'Posted', 'Provided', 'Publishing', 'Purchasing', 'Rated', 'Reached', 'Red', 'Red-blooded', 'Reducing', 'Reed', 'Regarded', 'Rekindled', 'Related', 'Ringing', 'Rolling', 'Sacramento-based', 'Scoring', 'Seattle-based', 'Seed', 'Skilled', 'Smelting', 'Something', 'Spending', 'Standardized', 'Standing', 'Starting', 'Sterling', 'Taking', 'Texas-based', 'Toronto-based', 'Traded', 'Trading', 'Troubled', 'U.N.-supervised', 'U.S.-backed', 'United', 'Used', 'Varying', 'Washington-based', 'Whiting', 'Wilfred', 'Winning', 'Xiaoping', 'York-based', 'Zayed', 'abandoned', 'abating', 'abolishing', 'abortion-related', 'abounding', 'abridging', 'absorbed', 'acceded', 'accelerated', 'accepted', 'accepting', 'according', 'accounted', 'accounting', 'accrued', 'accumulated', 'accused', 'accusing', 'achieved', 'achieving', 'acknowledging', 'acquired', 'acquiring', 'acquisition-minded', 'acted', 'acting', 'adapted', 'adapting', 'added', 'adding', 'addressing', 'adjusted', 'adjusting', 'admitted', 'admitting', 'adopted', 'advanced', 'advancing', 'advertised', 'advertising', 'advised', 'advocated', 'advocating', 'affecting', 'afflicted', 'aggravated', 'agreed', 'agreeing', 'ailing', 'aimed', 'aiming', 'aired', 'airline-related', 'alarmed', 'alienated', 'alleged', 'alleging', 'allocated', 'allowed', 'altered', 'altering', 'amended', 'amending', 'amounted', 'amusing', 'angered', 'announced', 'annoyed', 'annualized', 'answered', 'anti-dumping', 'anticipated', 'anticipating', 'anything', 'apologizing', 'appealing', 'appeared', 'appearing', 'applied', 'appointed', 'approached', 'appropriated', 'approved', 'arched', 'argued', 'arguing', 'arising', 'armed', 'arranged', 'arrested', 'arrived', 'asbestos-related', 'asked', 'asking', 'assassinated', 'assembled', 'asserted', 'asserting', 'assessed', 'assigned', 'assisted', 'associated', 'assumed', 'assuming', 'assured', 'attached', 'attacking', 'attempted', 'attempting', 'attended', 'attending', 'attracted', 'attracting', 'attributed', 'auctioned', 'authorized', 'authorizing', 'automated', 'automotive-lighting', 'averaged', 'averted', 'avoiding', 'awarded', 'awarding', 'backed', 'backing', 'balanced', 'bald-faced', 'balkanized', 'balked', 'balloting', 'bank-backed', 'banking', 'banned', 'banning', 'barking', 'barred', 'based', 'battered', 'battery-operated', 'batting', 'bearing', 'becoming', 'bedding', 'befuddled', 'beginning', 'behaving', 'beheading', 'being', 'beleaguered', 'believed', 'bell-ringing', 'belonging', 'benefited', 'best-selling', 'betting', 'bickering', 'bidding', 'billed', 'billing', 'blamed', 'bled', 'blessing', 'blighted', 'blocked', 'blurred', 'boarding', 'bolstered', 'bombarding', 'booked', 'booming', 'boosted', 'boosting', 'borrowed', 'borrowing', 'botched', 'bothered', 'bounced', 'bowed', 'breaking', 'breathed', 'breathtaking', 'breed', 'bribed', 'bribing', 'briefing', 'brightened', 'bring', 'bringing', 'broad-based', 'broadcasting', 'broadened', 'brokering', 'brushed', 'budding', 'building', 'bundling', 'buoyed', 'burned', 'buying', 'calculated', 'called', 'calling', 'campaigning', 'cancer-causing', 'capitalized', 'capped', 'captivating', 'cared', 'carried', 'carrying', 'cascading', 'casting', 'caused', 'causing', 'cautioned', 'ceiling', 'centralized', 'certified', 'chaired', 'challenging', 'championing', 'change-ringing', 'changed', 'changing', 'characterized', 'characterizing', 'charged', 'charging', 'chastised', 'cheating', 'checking', 'cheerleading', 'chilled', 'choosing', 'chopped', 'circulated', 'cited', 'citing', 'citizen-sparked', 'city-owned', 'claimed', 'claiming', 'clamped', 'clarified', 'clashed', 'classed', 'classified', 'cleaned', 'cleaner-burning', 'cleared', 'clearing', 'clicked', 'climbed', 'climbing', 'clipped', 'clobbered', 'closed', 'closing', 'clothing', 'clouding', 'cluttered', 'co-founded', 'coaching', 'coal-fired', 'coated', 'codified', 'collaborated', 'collapsed', 'collected', 'collecting', 'collective-bargaining', 'colored', 'combined', 'coming', 'commanded', 'commenting', 'committed', 'committing', 'compared', 'compelling', 'competed', 'competing', 'compiled', 'complained', 'complaining', 'completed', 'completing', 'complicated', 'composed', 'composting', 'compressed', 'computer-aided', 'computer-assisted', 'computer-generated', 'computerized', 'computing', 'conceding', 'concentrated', 'concentrating', 'concerned', 'concluded', 'condemned', 'condemning', 'conducted', 'conducting', 'confined', 'confirmed', 'confused', 'connected', 'consented', 'considered', 'considering', 'consisting', 'construed', 'consulting', 'contacted', 'contained', 'containing', 'contesting', 'continued', 'continuing', 'contracted', 'contributed', 'contributing', 'controlled', 'controlling', 'converted', 'converting', 'convicted', 'convinced', 'cooled', 'cooperating', 'copied', 'copying', 'corn-buying', 'corrected', 'correcting', 'cost-cutting', 'cost-sharing', 'counseling', 'counting', 'coupled', 'court-ordered', 'covered', 'covering', 'cranked', 'crashing', 'created', 'creating', 'credit-rating', 'crippled', 'criticized', 'crossed', 'crossing', 'crowded', 'cruising', 'crushed', 'crying', 'cultivated', 'curbed', 'curbing', 'curled', 'current-carrying', 'curtailed', 'cushioned', 'customized', 'cutting', 'damaged', 'damaging', 'dancing', 'darned', 'dashed', 'dating', 'dead-eyed', 'dealing', 'decided', 'declared', 'declaring', 'declined', 'declining', 'decorated', 'decried', 'deducting', 'deemed', 'defeated', 'defended', 'defined', 'defying', 'delayed', 'deliberating', 'delisted', 'delivered', 'delivering', 'demanding', 'demonstrating', 'denied', 'denouncing', 'denying', 'depended', 'depending', 'depleted', 'depressed', 'deprived', 'derived', 'descending', 'described', 'deserving', 'designated', 'designed', 'designing', 'desired', 'despised', 'detailed', 'deteriorated', 'deteriorating', 'determined', 'deterring', 'devastating', 'developed', 'developing', 'devised', 'devoted', 'devouring', 'diagnosed', 'died', 'diluted', 'diming', 'diminished', 'directed', 'directing', 'disaffected', 'disagreed', 'disappointed', 'disappointing', 'disapproved', 'discarded', 'disciplined', 'disclosed', 'disclosing', 'discontinued', 'discontinuing', 'discouraging', 'discovered', 'discussed', 'discussing', 'disembodied', 'dismayed', 'dismissed', 'disposed', 'disputed', 'disseminating', 'distinguished', 'distorted', 'distributed', 'disturbing', 'diversified', 'diversifying', 'divided', 'dividing', 'documented', 'doing', 'doling', 'dollar-denominated', 'dominated', 'dominating', 'doubled', 'doubted', 'downgraded', 'downgrading', 'drafted', 'drawing', 'dreamed', 'dressed', 'drifted', 'drinking', 'driving', 'drooled', 'dropped', 'dubbed', 'duckling', 'dumbfounded', 'dumped', 'during', 'dwindling', 'earned', 'earning', 'eased', 'easing', 'eating', 'echoed', 'edged', 'editing', 'educated', 'elected', 'eliminated', 'eliminating', 'embarrassing', 'embroiled', 'emerged', 'emerging', 'emphasized', 'employed', 'empowered', 'enabled', 'enabling', 'enacted', 'encircling', 'enclosed', 'encouraging', 'encroaching', 'ended', 'ending', 'endorsed', 'engaged', 'engaging', 'engineered', 'engineering', 'enhanced', 'enjoyed', 'enjoying', 'enlarged', 'enraged', 'ensnarled', 'entangled', 'entered', 'entering', 'entertaining', 'enticed', 'entitled', 'entrenched', 'entrusted', 'equaling', 'equipped', 'escalated', 'escaped', 'established', 'establishing', 'estimated', 'evaluated', 'evaluating', 'evaporated', 'evening', 'everything', 'evoking', 'evolved', 'exacerbated', 'examined', 'exceed', 'exceeded', 'exceeding', 'exchanging', 'excited', 'exciting', 'executed', 'executing', 'exercised', 'exerting', 'exhausted', 'exhibited', 'existed', 'existing', 'expanded', 'expanding', 'expected', 'expecting', 'expedited', 'expelled', 'experienced', 'experiencing', 'expired', 'explained', 'explaining', 'exploded', 'export-oriented', 'exposed', 'expressed', 'expressing', 'expunged', 'extended', 'extending', 'exuded', 'eyeing', 'fabled', 'faced', 'facing', 'factoring', 'faded', 'failed', 'failing', 'fainting', 'falling', 'faltered', 'famed', 'family-planning', 'fared', 'fashioned', 'fast-growing', 'fastest-growing', 'fattened', 'favored', 'fawning', 'feared', 'featured', 'featuring', 'fed', 'feed', 'feeling', 'fetching', 'fielded', 'fighting', 'filed', 'filing', 'filled', 'filling', 'finalized', 'financed', 'financing', 'finding', 'fined', 'finished', 'fired', 'firmed', 'fixed', 'fizzled', 'fled', 'fledgling', 'fleeting', 'flirted', 'floated', 'flooded', 'focused', 'focusing', 'folded', 'followed', 'following', 'forced', 'forcing', 'forecasting', 'foreign-led', 'formed', 'forthcoming', 'founded', 'foundering', 'fretted', 'frightened', 'frustrating', 'fueled', 'fueling', 'full-fledged', 'fuming', 'functioning', 'funded', 'funding', 'fundraising', 'futures-related', 'gained', 'gaining', 'galling', 'galvanized', 'gambling', 'gauging', 'generated', 'getting', 'giving', 'going', 'good-hearted', 'good-natured', 'gored', 'government-certified', 'government-funded', 'government-owned', 'graduated', 'granted', 'granting', 'greed', 'gripping', 'growing', 'guaranteed', 'guarding', 'guided', 'gut-wrenching', 'hailed', 'hailing', 'halted', 'hampered', 'handed', 'handled', 'handling', 'happened', 'happening', 'hard-charging', 'hard-drinking', 'hard-hitting', 'harmed', 'harped', 'harvested', 'hauled', 'hauling', 'having', 'headed', 'heading', 'headlined', 'healing', 'hearing', 'heated', 'heating', 'hedging', 'heightened', 'helped', 'helping', 'high-flying', 'high-minded', 'high-polluting', 'high-priced', 'high-rolling', 'high-speed', 'higher-salaried', 'highest-pitched', 'hired', 'hitting', 'holding', 'hoped', 'hosted', 'housing', 'hugging', 'hundred', 'hunted', 'hurting', 'identified', 'ignored', 'ignoring', 'impaired', 'impeding', 'impending', 'implemented', 'implied', 'imported', 'imposed', 'imposing', 'impressed', 'improved', 'improving', 'incentive-backed', 'inched', 'inching', 'included', 'including', 'incorporated', 'increased', 'increasing', 'incurred', 'indeed', 'index-related', 'indicated', 'indicating', 'indulging', 'industrialized', 'industry-supported', 'inflated', 'influenced', 'influencing', 'infringed', 'inherited', 'initialing', 'initiated', 'initiating', 'injecting', 'injuring', 'inkling', 'inquiring', 'inserted', 'insider-trading', 'insinuating', 'insisted', 'inspired', 'installed', 'installing', 'instituted', 'instructed', 'insured', 'integrated', 'intended', 'intentioned', 'interest-bearing', 'interested', 'interesting', 'interrogated', 'interviewed', 'intriguing', 'introduced', 'introducing', 'invented', 'inverted', 'invested', 'investigating', 'investing', 'inviting', 'involved', 'involving', 'issued', 'issuing', 'jeopardizing', 'joined', 'joining', 'judged', 'jumped', 'jumping', 'justified', 'justifying', 'keeping', 'kicked', 'kidnapping', 'killed', 'killing', 'knitted', 'knocked', 'labeled', 'labeling', 'labor-backed', 'lacked', 'lagging', 'land-idling', 'landing', 'lasted', 'lasting', 'lauded', 'laughing', 'launched', 'lawmaking', 'laying', 'leading', 'learned', 'learning', 'leasing', 'leaving', 'led', 'lending', 'lengthened', 'lessening', 'letter-writing', 'letting', 'leveling', 'leveraged', 'leveraging', 'licensed', 'licensing', 'lifted', 'lifting', 'limited', 'limiting', 'limping', 'linked', 'liquidated', 'listed', 'listing', 'living', 'loaded', 'loading', 'located', 'locked', 'long-tenured', 'longstanding', 'looked', 'looking', 'looming', 'losing', 'loved', 'low-priced', 'lower-priced', 'lowered', 'lowering', 'lying', 'machine-gun-toting', 'magnified', 'mailed', 'mailing', 'maintained', 'maintaining', 'making', 'male-dominated', 'managed', 'managing', 'manufactured', 'manufacturing', 'marching', 'market-based', 'market-oriented', 'marketed', 'marketing', 'matched', 'matching', 'materialized', 'mating', 'maturing', 'meaning', 'measured', 'meatpacking', 'medium-sized', 'meeting', 'melt-textured', 'mentioned', 'merchandising', 'merged', 'merger-related', 'midsized', 'milked', 'mind-boggling', 'mining', 'minority-owned', 'minted', 'mired', 'missed', 'mixed', 'mobilizing', 'moderated', 'mollified', 'money-losing', 'monied', 'morale-damaging', 'more-advanced', 'morning', 'mortgage-backed', 'mortgage-based', 'mortgaged', 'mounted', 'moved', 'moving', 'mudslinging', 'muffled', 'mulling', 'multiplying', 'murdered', 'muscling', 'muted', 'muzzling', 'named', 'naming', 'narrowed', 'need', 'needed', 'needing', 'negotiated', 'negotiating', 'neighboring', 'networking', 'newspaper-printing', 'nominated', 'non-encapsulating', 'nonrecurring', 'notched', 'noted', 'nothing', 'noticed', 'noticing', 'notified', 'noting', 'notwithstanding', 'nullified', 'numbered', 'nurtured', 'obligated', 'observed', 'obsessed', 'obtained', 'obtaining', 'occupying', 'occurred', 'odd-sounding', 'offending', 'offered', 'offering', 'offsetting', 'old-fashioned', 'omitted', 'ongoing', 'opened', 'opening', 'operated', 'operating', 'opposed', 'orchestrated', 'ordered', 'ordering', 'organized', 'oriented', 'outdistanced', 'outlawed', 'outlawing', 'outnumbered', 'outpaced', 'outraged', 'outstanding', 'overcrowding', 'overleveraged', 'overpaying', 'overpriced', 'overriding', 'overstated', 'overused', 'overvalued', 'owed', 'owned', 'owning', 'packaging', 'packed', 'painted', 'painting', 'parched', 'parking', 'participated', 'parts-engineering', 'passed', 'passing', 'patented', 'paying', 'peaked', 'pealing', 'peddling', 'pegged', 'pending', 'perceived', 'performed', 'performing', 'permitted', 'permitting', 'phasing', 'photocopying', 'picked', 'picking', 'pinning', 'pitting', 'placed', 'placing', 'plagued', 'planned', 'planning', 'planted', 'planting', 'played', 'playing', 'pleaded', 'pleased', 'pledged', 'plugged', 'plummeted', 'plunged', 'plunging', 'pointed', 'pointing', 'polarized', 'policy-making', 'polled', 'populated', 'portrayed', 'posing', 'positioned', 'possessed', 'post-hearing', 'posted', 'posting', 'postponed', 'poured', 'practiced', 'practicing', 'praised', 'pre-approved', 'pre-cooked', 'pre-existing', 'preapproved', 'predicated', 'predicted', 'predicting', 'preferred', 'prepared', 'presented', 'preserving', 'pressed', 'pressing', 'pressured', 'prevailing', 'preventing', 'price-depressing', 'priced', 'pricing', 'printed', 'privileged', 'processing', 'produced', 'producing', 'profit-taking', 'profited', 'program-trading', 'programming', 'prohibited', 'prohibiting', 'prolonged', 'promised', 'promising', 'promoting', 'prompted', 'propelling', 'proposed', 'proposing', 'prosecuted', 'prosecuting', 'protected', 'protecting', 'protracted', 'proved', 'provided', 'providing', 'proving', 'provoked', 'prying', 'publicized', 'published', 'publishing', 'pulled', 'pulling', 'pumping', 'punishing', 'purchased', 'purchasing', 'purhasing', 'pursued', 'pushed', 'pushing', 'putting', 'puzzled', 'qualified', 'quashing', 'questioned', 'queuing', 'quipped', 'quitting', 'quoted', 'quoting', 'raced', 'racing', 'railing', 'raised', 'raising', 'rallying', 'ranged', 'ranging', 'ranked', 'rarefied', 'raring', 'ratcheting', 'rated', 'ratified', 'rating', 'rationed', 'reached', 'reaching', 'reacted', 'reading', 'reaffirmed', 'realized', 'reallocated', 'reaped', 'reaping', 'reasoning', 'reassuring', 'rebounding', 'rebuffed', 'rebuilding', 'rebuked', 'recalling', 'received', 'receiving', 'recession-inspired', 'reciting', 'reclaimed', 'recognizing', 'recommended', 'recommending', 'record-keeping', 'recorded', 'recouped', 'recovered', 'recovering', 'recruited', 'recruiting', 'rectified', 'recycled', 'red', 'redeemed', 'redeeming', 'redistributing', 'reduced', 'reducing', 'reeling', 'referred', 'referring', 'refitting', 'reflected', 'reflecting', 'refocusing', 'refreshing', 'refunded', 'refunding', 'refused', 'regarded', 'regarding', 'regimented', 'registered', 'regulated', 'regulating', 'reimbursed', 'reinstating', 'rejected', 'related', 'relating', 'relaunched', 'released', 'relegated', 'relied', 'relieved', 'remained', 'remaining', 'remarked', 'reminded', 'remodeling', 'removed', 'removing', 'rendering', 'renewed', 'renewing', 'renovated', 'reopened', 'reorganized', 'repaired', 'replaced', 'replacing', 'replicated', 'replicating', 'reported', 'reporting', 'represented', 'representing', 'repriced', 'requested', 'requesting', 'required', 'requiring', 'rescheduled', 'researching', 'reserved', 'reshaping', 'resigned', 'resigning', 'resisting', 'resolved', 'respected', 'responded', 'responding', 'restored', 'restricting', 'restructured', 'restructuring', 'resulted', 'resulting', 'retailing', 'retained', 'retaining', 'retaliating', 'retired', 'retiring', 'retraced', 'returned', 'returning', 'reversed', 'reviewed', 'reviewing', 'revised', 'revising', 'revived', 'rewarding', 'riding', 'rigged', 'ring', 'ringing', 'rising', 'robbed', 'rolled', 'rolling', 'romanticized', 'rooted', 'ruled', 'ruling', 'rumored', 'running', 'rushed', 'rusted', 'sacked', 'sacrificing', 'safeguarding', 'sagged', 'sagging', 'satisfying', 'saved', 'saving', 'saying', 'scared', 'scaring', 'scattered', 'scheduled', 'school-sponsored', 'scrambled', 'scrambling', 'scrapped', 'screened', 'screwed', 'scrutinizing', 'searched', 'searching', 'seasoned', 'secured', 'securities-based', 'seeing', 'seeking', 'seemed', 'segmenting', 'seized', 'selected', 'self-aggrandizing', 'self-perpetuating', 'self-serving', 'selling', 'sending', 'sentencing', 'served', 'serviced', 'servicing', 'serving', 'setting', 'settled', 'shaded', 'shaping', 'shared', 'shed', 'shedding', 'shipbuilding', 'shipped', 'shipping', 'shirt-sleeved', 'shopped', 'shopping', 'shoring', 'short-lived', 'showed', 'showing', 'shrinking', 'signaling', 'signed', 'signifying', 'signing', 'single-handed', 'singled', 'sitting', 'sketching', 'skidded', 'skilled', 'skipped', 'skyrocketed', 'slashing', 'slated', 'slaying', 'sleeping', 'sliding', 'slipped', 'slowed', 'slowing', 'smattering', 'smoking', 'smothering', 'snaking', 'snapped', 'sneaked', 'so-called', 'soared', 'soaring', 'softening', 'soliciting', 'solved', 'something', 'sometimes-exhausting', 'sophisticated', 'sorting', 'sounded', 'sounding', 'soured', 'sparing', 'sparked', 'sparking', 'speaking', 'specialized', 'specializing', 'specified', 'speculated', 'speculating', 'speed', 'spending', 'spilling', 'spooked', 'sports-oriented', 'spotted', 'sprawling', 'spring', 'spurned', 'spurred', 'spurring', 'sputtered', 'squeezed', 'stabbed', 'stacked', 'stacking', 'staggering', 'standardized', 'standing', 'started', 'starting', 'startling', 'state-appointed', 'state-owned', 'state-supervised', 'stated', 'stayed', 'staying', 'stemmed', 'stemming', 'stepped', 'stepping', 'stereotyped', 'sterling', 'sticking', 'stimulated', 'stimulating', 'stirred', 'stock-picking', 'stoked', 'stopped', 'stored', 'strapped', 'strengthened', 'stressed', 'stressing', 'stretched', 'stretching', 'striking', 'string', 'stripped', 'striving', 'strong-willed', 'structured', 'struggled', 'struggling', 'studied', 'studying', 'stunned', 'subdued', 'subjecting', 'subordinated', 'subpoenaed', 'substance-abusing', 'succeed', 'succeeded', 'succeeding', 'sued', 'suffered', 'suffering', 'suggested', 'suing', 'summoned', 'superimposed', 'supported', 'surfaced', 'surged', 'surprised', 'surprising', 'surrendered', 'surrounding', 'surveyed', 'surviving', 'suspended', 'sustained', 'swapped', 'swapping', 'sweeping', 'sweetened', 'swelling', 'swing', 'switched', 'synchronized', 'tailored', 'tailoring', 'taking', 'talked', 'talking', 'tanked', 'tapping', 'targeted', 'targeting', 'teaching', 'teetering', 'telling', 'tempted', 'tendered', 'tendering', 'termed', 'terminated', 'test-coaching', 'tested', 'testing', 'thin-lipped', 'thing', 'thinking', 'thirtysomething', 'threatened', 'thumbing', 'tie-breaking', 'tied', 'tightened', 'tightening', 'timing', 'tired', 'top-selling', 'top-yielding', 'topped', 'totaled', 'totaling', 'touched', 'touted', 'traced', 'tracked', 'tracking', 'traded', 'trading', 'trafficking', 'trailed', 'trained', 'training', 'transacting', 'transferring', 'transformed', 'transforming', 'transporting', 'travel-related', 'traveled', 'traveling', 'treated', 'treating', 'tried', 'triggered', 'trimmed', 'trimming', 'triple-A-rated', 'tripled', 'troubled', 'truth-in-lending', 'trying', 'tumbled', 'turned', 'turning', 'twinned', 'twisting', 'two-tiered', 'unabated', 'unaffiliated', 'unanticipated', 'unauthorized', 'unchanged', 'uncharted', 'uncompensated', 'uncomplaining', 'unconsolidated', 'undelivered', 'undercutting', 'undergoing', 'underlying', 'underperforming', 'underprivileged', 'understanding', 'undertaking', 'undisclosed', 'unenticing', 'unexpected', 'unfettered', 'unfilled', 'unfocused', 'unfounded', 'unfunded', 'unimpeded', 'unjustified', 'unlabeled', 'unleashed', 'unloaded', 'unmarked', 'unneeded', 'unpublished', 'unraveling', 'unrealized', 'unresolved', 'unrestricted', 'unsecured', 'unsettled', 'unsettling', 'unsolicited', 'unspecified', 'unstinting', 'untrained', 'unveiled', 'unwanted', 'unwashed', 'unwilling', 'upsetting', 'urged', 'urging', 'used', 'ushered', 'ushering', 'using', 'uttering', 'valued', 'varied', 'varying', 'ventilated', 'vested', 'video-viewing', 'viewed', 'viewing', 'violated', 'violating', 'visited', 'visiting', 'voted', 'voting', 'vowed', 'waited', 'waiting', 'waived', 'waiving', 'walking', 'wallowing', 'wanted', 'wanting', 'war-damaged', 'war-rationed', 'warehousing', 'warming', 'warned', 'warning', 'wasted', 'watched', 'watching', 'weakening', 'wedded', 'weighed', 'weighing', 'welcomed', 'well-connected', 'when-issued', 'whipping', 'whirling', 'willing', 'winding', 'wine-buying', 'wine-making', 'winning', 'wooing', 'word-processing', 'worked', 'working', 'worried', 'worrying', 'worsening', 'wrecking', 'wrenching', 'wrestling', 'writing', 'wrongdoing', 'yen-denominated', 'yet-to-be-formed', 'yielded', 'yielding', 'yttrium-containing', 'zoomed']\n"
     ]
    }
   ],
   "source": [
    "print([w for w in wsj if re.search(\"(ed|ing)$\", w)])"
   ]
  },
  {
   "cell_type": "code",
   "execution_count": 32,
   "metadata": {
    "collapsed": true
   },
   "outputs": [],
   "source": [
    "# Operator\tBehavior\n",
    "# .\tWildcard, matches any character\n",
    "# ^abc\tMatches some pattern abc at the start of a string\n",
    "# abc$\tMatches some pattern abc at the end of a string\n",
    "# [abc]\tMatches one of a set of characters\n",
    "# [A-Z0-9]\tMatches one of a range of characters\n",
    "# ed|ing|s\tMatches one of the specified strings (disjunction)\n",
    "# *\tZero or more of previous item, e.g. a*, [a-z]* (also known as Kleene Closure)\n",
    "# +\tOne or more of previous item, e.g. a+, [a-z]+\n",
    "# ?\tZero or one of the previous item (i.e. optional), e.g. a?, [a-z]?\n",
    "# {n}\tExactly n repeats where n is a non-negative integer\n",
    "# {n,}\tAt least n repeats\n",
    "# {,n}\tNo more than n repeats\n",
    "# {m,n}\tAt least m and no more than n repeats\n",
    "# a(b|c)+\tParentheses that indicate the scope of the operators"
   ]
  },
  {
   "cell_type": "code",
   "execution_count": 51,
   "metadata": {
    "collapsed": false
   },
   "outputs": [
    {
     "name": "stdout",
     "output_type": "stream",
     "text": [
      "['u', 'e', 'a', 'i', 'a', 'i', 'i', 'i', 'e', 'i', 'a', 'i', 'o', 'i', 'o', 'u']\n"
     ]
    },
    {
     "data": {
      "text/plain": [
       "16"
      ]
     },
     "execution_count": 51,
     "metadata": {},
     "output_type": "execute_result"
    }
   ],
   "source": [
    "# Application of regex\n",
    "# Extracting word pieces\n",
    "# The re.findall() method finds all non overlapping matches of the given regular expression\n",
    "word = \"supercalifragilisticexpialidocious\"\n",
    "print(re.findall(r\"[aeiou]\", word))\n",
    "len(re.findall(r\"[aeiou]\", word))"
   ]
  },
  {
   "cell_type": "code",
   "execution_count": 6,
   "metadata": {
    "collapsed": true
   },
   "outputs": [],
   "source": [
    "# Look for all sequences of vowels used together and determine their relative frequency\n",
    "wsj = sorted(set(nltk.corpus.treebank.words()))\n",
    "fd = nltk.FreqDist(vs for word in wsj\n",
    "                      for vs in re.findall(r\"[aeiou]{2,}\", word))"
   ]
  },
  {
   "cell_type": "code",
   "execution_count": 7,
   "metadata": {
    "collapsed": false
   },
   "outputs": [
    {
     "data": {
      "text/plain": [
       "[('io', 549),\n",
       " ('ea', 476),\n",
       " ('ie', 331),\n",
       " ('ou', 329),\n",
       " ('ai', 261),\n",
       " ('ia', 253),\n",
       " ('ee', 217),\n",
       " ('oo', 174),\n",
       " ('ua', 109),\n",
       " ('au', 106),\n",
       " ('ue', 105),\n",
       " ('ui', 95)]"
      ]
     },
     "execution_count": 7,
     "metadata": {},
     "output_type": "execute_result"
    }
   ],
   "source": [
    "fd.most_common(12)"
   ]
  },
  {
   "cell_type": "code",
   "execution_count": 8,
   "metadata": {
    "collapsed": false
   },
   "outputs": [
    {
     "data": {
      "text/plain": [
       "[2009, 12, 31]"
      ]
     },
     "execution_count": 8,
     "metadata": {},
     "output_type": "execute_result"
    }
   ],
   "source": [
    "[int(n) for n in re.findall(r\"[0-9]{2,}\", '2009-12-31')]"
   ]
  },
  {
   "cell_type": "code",
   "execution_count": 9,
   "metadata": {
    "collapsed": false
   },
   "outputs": [
    {
     "name": "stdout",
     "output_type": "stream",
     "text": [
      "Unvrsl Dclrtn of Hmn Rghts Prmble Whrs rcgntn of the inhrnt dgnty and\n",
      "of the eql and inlnble rghts of all mmbrs of the hmn fmly is the fndtn\n",
      "of frdm , jstce and pce in the wrld , Whrs dsrgrd and cntmpt fr hmn\n",
      "rghts hve rsltd in brbrs acts whch hve outrgd the cnscnce of mnknd ,\n",
      "and the advnt of a wrld in whch hmn bngs shll enjy frdm of spch and\n"
     ]
    }
   ],
   "source": [
    "# Doing more with word pieces\n",
    "# Once we can use re.findall() to extract material from words, there's interesting things to do with the pieces, \n",
    "# like glue them back together or plot them\n",
    "# The regular expression matches initial vowel sequences, final vowel sequences and all consonants and everything else is ignored\n",
    "regexp = r\"^[AEIOUaeiou]+|[AEIOUaeiou]+$|[^AEIOUaeiou]\"\n",
    "\n",
    "def compress(word):\n",
    "    pieces = re.findall(regexp, word)\n",
    "    return \"\".join(pieces)\n",
    "\n",
    "english_udhr = nltk.corpus.udhr.words(\"English-Latin1\")\n",
    "print(nltk.tokenwrap(compress(w) for w in english_udhr[:75]))"
   ]
  },
  {
   "cell_type": "code",
   "execution_count": 10,
   "metadata": {
    "collapsed": false
   },
   "outputs": [
    {
     "name": "stdout",
     "output_type": "stream",
     "text": [
      "    a   e   i   o   u \n",
      "k 418 148  94 420 173 \n",
      "p  83  31 105  34  51 \n",
      "r 187  63  84  89  79 \n",
      "s   0   0 100   2   1 \n",
      "t  47   8   0 148  37 \n",
      "v  93  27 105  48  49 \n"
     ]
    }
   ],
   "source": [
    "# combining regular expressions with conditional frequency distributions\n",
    "# create a conditional frequency distribution of all vowel consonant sequences from the words of Rotokas and tabulate each pair\n",
    "rotokas_words = nltk.corpus.toolbox.words(\"rotokas.dic\")\n",
    "cvs = [cv for w in rotokas_words for cv in re.findall(r\"[ptksvr][aeiou]\", w)]\n",
    "cfd = nltk.ConditionalFreqDist(cvs)\n",
    "cfd.tabulate()"
   ]
  },
  {
   "cell_type": "code",
   "execution_count": 50,
   "metadata": {
    "collapsed": false
   },
   "outputs": [
    {
     "data": {
      "text/plain": [
       "['kasuari']"
      ]
     },
     "execution_count": 50,
     "metadata": {},
     "output_type": "execute_result"
    },
    {
     "name": "stdout",
     "output_type": "stream",
     "text": [
      "['kaapo', 'kaapopato', 'kaipori', 'kaiporipie', 'kaiporivira', 'kapo', 'kapoa', 'kapokao', 'kapokapo', 'kapokapo', 'kapokapoa', 'kapokapoa', 'kapokapora', 'kapokapora', 'kapokaporo', 'kapokaporo', 'kapokari', 'kapokarito', 'kapokoa', 'kapoo', 'kapooto', 'kapoovira', 'kapopaa', 'kaporo', 'kaporo', 'kaporopa', 'kaporoto', 'kapoto', 'karokaropo', 'karopo', 'kepo', 'kepoi', 'keposi', 'kepoto']\n"
     ]
    }
   ],
   "source": [
    "# if we want to inspect all the words behind the numbers in the above table, it would be helpful to have an index\n",
    "cv_word_pairs = [(cv, w) for w in rotokas_words\n",
    "                         for cv in re.findall(r\"[ptksvr][aeiou]\", w)]\n",
    "cv_index = nltk.Index(cv_word_pairs)\n",
    "cv_index[\"su\"]\n",
    "print(cv_index[\"po\"])"
   ]
  },
  {
   "cell_type": "code",
   "execution_count": 12,
   "metadata": {
    "collapsed": false
   },
   "outputs": [],
   "source": [
    "# Finding word stems\n",
    "# laptop and laptops are 2 forms of the same dictionary word(or lemma). Sometimes, we just want to work with the word stems\n",
    "def stem(word):\n",
    "    for suffix in [\"ing\", \"ly\", \"ed\", \"ious\", \"ies\", \"ive\", \"es\", \"s\", \"ment\"]:\n",
    "        if word.endswith(suffix):\n",
    "            return word[:-len(suffix)]\n",
    "        return word # we will ultimately use nltk's inbuilt stemmers"
   ]
  },
  {
   "cell_type": "code",
   "execution_count": 13,
   "metadata": {
    "collapsed": false
   },
   "outputs": [
    {
     "data": {
      "text/plain": [
       "['ing']"
      ]
     },
     "execution_count": 13,
     "metadata": {},
     "output_type": "execute_result"
    }
   ],
   "source": [
    "re.findall(r\"^.*(ing|ly|ed|ious|ies|ive|es|s|ment)$\", \"processing\")\n",
    "# we got just the substing and not the whole word as the () have another function, to select substrings to be extracted"
   ]
  },
  {
   "cell_type": "code",
   "execution_count": 14,
   "metadata": {
    "collapsed": false
   },
   "outputs": [
    {
     "data": {
      "text/plain": [
       "['processing']"
      ]
     },
     "execution_count": 14,
     "metadata": {},
     "output_type": "execute_result"
    }
   ],
   "source": [
    "# to get the full word, we have to add ?: inside the paranthesis\n",
    "re.findall(r\"^.*(?:ing|ly|ed|ious|ies|ive|es|s|ment)$\", \"processing\")"
   ]
  },
  {
   "cell_type": "code",
   "execution_count": 15,
   "metadata": {
    "collapsed": false
   },
   "outputs": [
    {
     "data": {
      "text/plain": [
       "[('process', 'ing')]"
      ]
     },
     "execution_count": 15,
     "metadata": {},
     "output_type": "execute_result"
    }
   ],
   "source": [
    "# if we want to split the word into the stem and the suffix, paranthesize both the expressions of the regular expression\n",
    "re.findall(r\"^(.*)(ing|ly|ed|ious|ies|ive|es|s|ment)$\", \"processing\")"
   ]
  },
  {
   "cell_type": "code",
   "execution_count": 16,
   "metadata": {
    "collapsed": false
   },
   "outputs": [
    {
     "data": {
      "text/plain": [
       "[('processe', 's')]"
      ]
     },
     "execution_count": 16,
     "metadata": {},
     "output_type": "execute_result"
    },
    {
     "data": {
      "text/plain": [
       "[('process', 'es')]"
      ]
     },
     "execution_count": 16,
     "metadata": {},
     "output_type": "execute_result"
    }
   ],
   "source": [
    "# let's look at the word \"processes\". it found s instead of es\n",
    "re.findall(r\"^(.*)(ing|ly|ed|ious|ies|ive|es|s|ment)$\", \"processes\")\n",
    "\n",
    "# this is because the * operator is greedy and tries to consume as much of the stem as possible\n",
    "# a non greedy version is \"*?\"\n",
    "re.findall(r\"^(.*?)(ing|ly|ed|ious|ies|ive|es|s|ment)$\", \"processes\")"
   ]
  },
  {
   "cell_type": "code",
   "execution_count": 17,
   "metadata": {
    "collapsed": false
   },
   "outputs": [
    {
     "data": {
      "text/plain": [
       "[]"
      ]
     },
     "execution_count": 17,
     "metadata": {},
     "output_type": "execute_result"
    },
    {
     "data": {
      "text/plain": [
       "[('language', '')]"
      ]
     },
     "execution_count": 17,
     "metadata": {},
     "output_type": "execute_result"
    }
   ],
   "source": [
    "# this works even when we allow an empty suffix by making the contents of the second paranthesis optional\n",
    "re.findall(r\"^(.*?)(ing|ly|ed|ious|ies|ive|es|s|ment)$\", \"language\")\n",
    "re.findall(r\"^(.*?)(ing|ly|ed|ious|ies|ive|es|s|ment)?$\", \"language\")"
   ]
  },
  {
   "cell_type": "code",
   "execution_count": 49,
   "metadata": {
    "collapsed": false
   },
   "outputs": [
    {
     "name": "stdout",
     "output_type": "stream",
     "text": [
      "['DENNIS', ':', 'Listen', ',', 'strange', 'women', 'ly', 'in', 'pond', 'distribut', 'sword', 'i', 'no', 'basi', 'for', 'a', 'system', 'of', 'govern', '.', 'Supreme', 'execut', 'power', 'deriv', 'from', 'a', 'mandate', 'from', 'the', 'mass', ',', 'not', 'from', 'some', 'farcical', 'aquatic', 'ceremony', '.']\n"
     ]
    }
   ],
   "source": [
    "# this approach is still not perfect but we will move on to define a function to perform stemming and apply it to a whole text\n",
    "def stem(word):\n",
    "    regexp = r\"^(.*?)(ing|ly|ed|ious|ies|ive|es|s|ment)?$\"\n",
    "    stem, suffix = re.findall(regexp, word)[0]\n",
    "    return stem\n",
    "\n",
    "raw = \"\"\"DENNIS: Listen, strange women lying in ponds distributing swords \n",
    "is no basis for a system of government.  Supreme executive power derives from\n",
    "a mandate from the masses, not from some farcical aquatic ceremony.\"\"\"\n",
    "\n",
    "tokens = word_tokenize(raw)\n",
    "print([stem(t) for t in tokens]) # it also removed the is from basis"
   ]
  },
  {
   "cell_type": "code",
   "execution_count": 19,
   "metadata": {
    "collapsed": false
   },
   "outputs": [
    {
     "name": "stdout",
     "output_type": "stream",
     "text": [
      "monied; nervous; dangerous; white; white; white; pious; queer; good;\n",
      "mature; white; Cape; great; wise; wise; butterless; white; fiendish;\n",
      "pale; furious; better; certain; complete; dismasted; younger; brave;\n",
      "brave; brave; brave\n"
     ]
    }
   ],
   "source": [
    "# Searching tokenized text\n",
    "# there is a special kind of regular expression to search across multiple words in a text (where the text is a list of tokens)\n",
    "# E.G. \"<a> <man>\" finds all instances of a man in the text. <> are used to mark token boundaries and any whitespace between\n",
    "# the angle brackets is ignored. <.*> will match any single token. Enclose it in paranthesis so only the matched word and not the\n",
    "# matched phrase is produced\n",
    "from nltk.corpus import gutenberg, nps_chat\n",
    "moby = nltk.Text(gutenberg.words(\"melville-moby_dick.txt\"))\n",
    "moby.findall(r\"<a> (<.*>) <man>\")"
   ]
  },
  {
   "cell_type": "code",
   "execution_count": 20,
   "metadata": {
    "collapsed": false
   },
   "outputs": [
    {
     "name": "stdout",
     "output_type": "stream",
     "text": [
      "you rule bro; telling you bro; u twizted bro\n",
      "you; telling; u\n",
      "you rule; telling you; u twizted\n"
     ]
    }
   ],
   "source": [
    "chat = nltk.Text(nps_chat.words())\n",
    "chat.findall(r\"<.*> <.*> <bro>\")\n",
    "chat.findall(r\"(<.*>) <.*> <bro>\")\n",
    "chat.findall(r\"(<.*> <.*>) <bro>\")"
   ]
  },
  {
   "cell_type": "code",
   "execution_count": 21,
   "metadata": {
    "collapsed": false
   },
   "outputs": [
    {
     "name": "stdout",
     "output_type": "stream",
     "text": [
      "lol lol lol; lmao lol lol; lol lol lol; la la la la la; la la la; la\n",
      "la la; lovely lol lol love; lol lol lol.; la la la; la la la\n"
     ]
    }
   ],
   "source": [
    "chat.findall(r\"<l.*>{3,}\") # sequences of three or more words starting with the letter l"
   ]
  },
  {
   "cell_type": "code",
   "execution_count": 22,
   "metadata": {
    "collapsed": false
   },
   "outputs": [
    {
     "name": "stdout",
     "output_type": "stream",
     "text": [
      "speed and other activities; water and other liquids; tomb and other\n",
      "landmarks; Statues and other monuments; pearls and other jewels;\n",
      "charts and other items; roads and other features; figures and other\n",
      "objects; military and other areas; demands and other factors;\n",
      "abstracts and other compilations; iron and other metals\n"
     ]
    }
   ],
   "source": [
    "from nltk.corpus import brown\n",
    "hobbies_learned = nltk.Text(brown.words(categories=['hobbies', 'learned']))\n",
    "hobbies_learned.findall(r\"<\\w*> <and> <other> <\\w*s>\")"
   ]
  },
  {
   "cell_type": "code",
   "execution_count": 23,
   "metadata": {
    "collapsed": true
   },
   "outputs": [],
   "source": [
    "# Normalizing text\n",
    "raw = \"\"\"DENNIS: Listen, strange women lying in ponds distributing swords\n",
    "is no basis for a system of government.  Supreme executive power derives from\n",
    "a mandate from the masses, not from some farcical aquatic ceremony.\"\"\"\n",
    "tokens = word_tokenize(raw)"
   ]
  },
  {
   "cell_type": "code",
   "execution_count": 48,
   "metadata": {
    "collapsed": false
   },
   "outputs": [
    {
     "name": "stdout",
     "output_type": "stream",
     "text": [
      "['DENNI', ':', 'Listen', ',', 'strang', 'women', 'lie', 'in', 'pond', 'distribut', 'sword', 'is', 'no', 'basi', 'for', 'a', 'system', 'of', 'govern', '.', 'Suprem', 'execut', 'power', 'deriv', 'from', 'a', 'mandat', 'from', 'the', 'mass', ',', 'not', 'from', 'some', 'farcic', 'aquat', 'ceremoni', '.']\n",
      "['den', ':', 'list', ',', 'strange', 'wom', 'lying', 'in', 'pond', 'distribut', 'sword', 'is', 'no', 'bas', 'for', 'a', 'system', 'of', 'govern', '.', 'suprem', 'execut', 'pow', 'der', 'from', 'a', 'mand', 'from', 'the', 'mass', ',', 'not', 'from', 'som', 'farc', 'aqu', 'ceremony', '.']\n"
     ]
    }
   ],
   "source": [
    "# Stemmers\n",
    "porter = nltk.PorterStemmer() #a good choice if you are indexing some texts and want to support search using alternative forms of words\n",
    "lancaster = nltk.LancasterStemmer()\n",
    "print([porter.stem(t) for t in tokens])\n",
    "print([lancaster.stem(t) for t in tokens])"
   ]
  },
  {
   "cell_type": "code",
   "execution_count": 25,
   "metadata": {
    "collapsed": true
   },
   "outputs": [],
   "source": [
    "# Indexing text using a stemmer\n",
    "class IndexedText(object):\n",
    "    \n",
    "    def __init__(self, stemmer, text):\n",
    "        self._text = text\n",
    "        self._stemmer = stemmer\n",
    "        self._index = nltk.Index((self._stem(word), i)\n",
    "                                for (i, word) in enumerate(text))\n",
    "    \n",
    "    def concordance(self, word, width=40):\n",
    "        key = self._stem(word)\n",
    "        wc = int(width/4) # words of context\n",
    "        for i in self._index[key]:\n",
    "            lcontext = \" \".join(self._text[i-wc:i])\n",
    "            rcontext = \" \".join(self._text[i:i+wc])\n",
    "            ldisplay = \"{:>{width}}\".format(lcontext[-width:], width=width)\n",
    "            rdisplay = \"{:{width}}\".format(rcontext[:width], width=width)\n",
    "            print(ldisplay, rdisplay)\n",
    "            \n",
    "    def _stem(self, word):\n",
    "        return self._stemmer.stem(word).lower()"
   ]
  },
  {
   "cell_type": "code",
   "execution_count": 26,
   "metadata": {
    "collapsed": false
   },
   "outputs": [],
   "source": [
    "porter = nltk.PorterStemmer()\n",
    "grail = nltk.corpus.webtext.words(\"grail.txt\")\n",
    "text = IndexedText(porter, grail)"
   ]
  },
  {
   "cell_type": "code",
   "execution_count": 27,
   "metadata": {
    "collapsed": false
   },
   "outputs": [
    {
     "name": "stdout",
     "output_type": "stream",
     "text": [
      "r king ! DENNIS : Listen , strange women lying in ponds distributing swords is no\n",
      " beat a very brave retreat . ROBIN : All lies ! MINSTREL : [ singing ] Bravest of\n",
      "       Nay . Nay . Come . Come . You may lie here . Oh , but you are wounded !   \n",
      "doctors immediately ! No , no , please ! Lie down . [ clap clap ] PIGLET : Well  \n",
      "ere is much danger , for beyond the cave lies the Gorge of Eternal Peril , which \n",
      "   you . Oh ... TIM : To the north there lies a cave -- the cave of Caerbannog --\n",
      "h it and lived ! Bones of full fifty men lie strewn about its lair . So , brave k\n",
      "not stop our fight ' til each one of you lies dead , and the Holy Grail returns t\n"
     ]
    }
   ],
   "source": [
    "text.concordance(\"lie\")"
   ]
  },
  {
   "cell_type": "code",
   "execution_count": 29,
   "metadata": {
    "collapsed": true
   },
   "outputs": [
    {
     "data": {
      "text/plain": [
       "['DENNIS',\n",
       " ':',\n",
       " 'Listen',\n",
       " ',',\n",
       " 'strange',\n",
       " 'woman',\n",
       " 'lying',\n",
       " 'in',\n",
       " 'pond',\n",
       " 'distributing',\n",
       " 'sword',\n",
       " 'is',\n",
       " 'no',\n",
       " 'basis',\n",
       " 'for',\n",
       " 'a',\n",
       " 'system',\n",
       " 'of',\n",
       " 'government',\n",
       " '.',\n",
       " 'Supreme',\n",
       " 'executive',\n",
       " 'power',\n",
       " 'derives',\n",
       " 'from',\n",
       " 'a',\n",
       " 'mandate',\n",
       " 'from',\n",
       " 'the',\n",
       " 'mass',\n",
       " ',',\n",
       " 'not',\n",
       " 'from',\n",
       " 'some',\n",
       " 'farcical',\n",
       " 'aquatic',\n",
       " 'ceremony',\n",
       " '.']"
      ]
     },
     "execution_count": 29,
     "metadata": {},
     "output_type": "execute_result"
    }
   ],
   "source": [
    "# Lemmatization\n",
    "# the wordnet lemmatizer removes affixes if the resulting word is in the dictionary. \n",
    "# the additional checking makes it slower\n",
    "wnl = nltk.WordNetLemmatizer()\n",
    "[wnl.lemmatize(t) for t in tokens]"
   ]
  },
  {
   "cell_type": "code",
   "execution_count": 46,
   "metadata": {
    "collapsed": false
   },
   "outputs": [
    {
     "name": "stdout",
     "output_type": "stream",
     "text": [
      "[\"'When\", \"I'M\", 'a', \"Duchess,'\", 'she', 'said', 'to', 'herself,', '(not', 'in', 'a', 'very', 'hopeful', 'tone\\nthough),', \"'I\", \"won't\", 'have', 'any', 'pepper', 'in', 'my', 'kitchen', 'AT', 'ALL.', 'Soup', 'does', 'very\\nwell', 'without--Maybe', \"it's\", 'always', 'pepper', 'that', 'makes', 'people', \"hot-tempered,'...\"]\n",
      "[\"'When\", \"I'M\", 'a', \"Duchess,'\", 'she', 'said', 'to', 'herself,', '(not', 'in', 'a', 'very', 'hopeful', 'tone\\nthough),', \"'I\", \"won't\", 'have', 'any', 'pepper', 'in', 'my', 'kitchen', 'AT', 'ALL.', 'Soup', 'does', 'very\\nwell', 'without--Maybe', \"it's\", 'always', 'pepper', 'that', 'makes', 'people', \"hot-tempered,'...\"]\n",
      "[\"'When\", \"I'M\", 'a', \"Duchess,'\", 'she', 'said', 'to', 'herself,', '(not', 'in', 'a', 'very', 'hopeful', 'tone', 'though),', \"'I\", \"won't\", 'have', 'any', 'pepper', 'in', 'my', 'kitchen', 'AT', 'ALL.', 'Soup', 'does', 'very', 'well', 'without--Maybe', \"it's\", 'always', 'pepper', 'that', 'makes', 'people', \"hot-tempered,'...\"]\n"
     ]
    }
   ],
   "source": [
    "# Regex for tokenizing text\n",
    "# Tokenization: split the string into an identifiable linguistic unit that constitute a piece of language data\n",
    "# the simplest method is to split on whitespace\n",
    "raw = \"\"\"'When I'M a Duchess,' she said to herself, (not in a very hopeful tone\n",
    "though), 'I won't have any pepper in my kitchen AT ALL. Soup does very\n",
    "well without--Maybe it's always pepper that makes people hot-tempered,'...\"\"\"\n",
    "print(raw.split(\" \")) # this leaves \\n in words\n",
    "print(re.split(r\" \", raw)) # also does not handle \\n and \\t\n",
    "print(re.split(r\"[ \\t\\n]+\", raw)) # this works and can be written as \\s+ to indicate any whitespace character"
   ]
  },
  {
   "cell_type": "code",
   "execution_count": 45,
   "metadata": {
    "collapsed": false
   },
   "outputs": [
    {
     "name": "stdout",
     "output_type": "stream",
     "text": [
      "['', 'When', 'I', 'M', 'a', 'Duchess', 'she', 'said', 'to', 'herself', 'not', 'in', 'a', 'very', 'hopeful', 'tone', 'though', 'I', 'won', 't', 'have', 'any', 'pepper', 'in', 'my', 'kitchen', 'AT', 'ALL', 'Soup', 'does', 'very', 'well', 'without', 'Maybe', 'it', 's', 'always', 'pepper', 'that', 'makes', 'people', 'hot', 'tempered', '']\n"
     ]
    }
   ],
   "source": [
    "# \\W is for word characters\n",
    "print(re.split(r\"\\W+\", raw))"
   ]
  },
  {
   "cell_type": "code",
   "execution_count": 44,
   "metadata": {
    "collapsed": false
   },
   "outputs": [
    {
     "name": "stdout",
     "output_type": "stream",
     "text": [
      "[\"'When\", 'I', \"'M\", 'a', 'Duchess', ',', \"'\", 'she', 'said', 'to', 'herself', ',', '(not', 'in', 'a', 'very', 'hopeful', 'tone', 'though', ')', ',', \"'I\", 'won', \"'t\", 'have', 'any', 'pepper', 'in', 'my', 'kitchen', 'AT', 'ALL', '.', 'Soup', 'does', 'very', 'well', 'without', '-', '-Maybe', 'it', \"'s\", 'always', 'pepper', 'that', 'makes', 'people', 'hot', '-tempered', ',', \"'\", '.', '.', '.']\n"
     ]
    }
   ],
   "source": [
    "print(re.findall(r'\\w+|\\S\\w*', raw)) # this will try to match any sequence of word characters\n",
    "# if no match is found, it will try to match any non-whitespace character"
   ]
  },
  {
   "cell_type": "code",
   "execution_count": 43,
   "metadata": {
    "collapsed": false
   },
   "outputs": [
    {
     "name": "stdout",
     "output_type": "stream",
     "text": [
      "['When', 'I', 'M', 'a', 'Duchess', 'she', 'said', 'to', 'herself', 'not', 'in', 'a', 'very', 'hopeful', 'tone', 'though', 'I', 'won', 't', 'have', 'any', 'pepper', 'in', 'my', 'kitchen', 'AT', 'ALL', 'Soup', 'does', 'very', 'well', 'without', 'Maybe', 'it', 's', 'always', 'pepper', 'that', 'makes', 'people', 'hot-tempered', \"'...\"]\n"
     ]
    }
   ],
   "source": [
    "# we can generalize \\w+ to match hot-tempered and it's\n",
    "print(re.findall(r\"\\w+(?:[-]\\w+)*|'[-.(]+\\S\\w*\", raw))"
   ]
  },
  {
   "cell_type": "code",
   "execution_count": null,
   "metadata": {
    "collapsed": true
   },
   "outputs": [],
   "source": [
    "# Symbol\tFunction\n",
    "# \\b\tWord boundary (zero width)\n",
    "# \\d\tAny decimal digit (equivalent to [0-9])\n",
    "# \\D\tAny non-digit character (equivalent to [^0-9])\n",
    "# \\s\tAny whitespace character (equivalent to [ \\t\\n\\r\\f\\v])\n",
    "# \\S\tAny non-whitespace character (equivalent to [^ \\t\\n\\r\\f\\v])\n",
    "# \\w\tAny alphanumeric character (equivalent to [a-zA-Z0-9_])\n",
    "# \\W\tAny non-alphanumeric character (equivalent to [^a-zA-Z0-9_])\n",
    "# \\t\tThe tab character\n",
    "# \\n\tThe newline character"
   ]
  },
  {
   "cell_type": "code",
   "execution_count": 75,
   "metadata": {
    "collapsed": false
   },
   "outputs": [
    {
     "data": {
      "text/plain": [
       "[('', '', ''),\n",
       " ('A.', '', ''),\n",
       " ('', '-print', ''),\n",
       " ('', '', ''),\n",
       " ('', '', '.40'),\n",
       " ('', '', '')]"
      ]
     },
     "execution_count": 75,
     "metadata": {},
     "output_type": "execute_result"
    }
   ],
   "source": [
    "# NLTK's Regular Expression Tokenizer\n",
    "text = \"That U.S.A. poster-print costs $12.40...\"\n",
    "pattern = r\"\"\"(?x)      # set flag to allow verbose regex\n",
    "     ([A-Z]\\.)+         # abreviations\n",
    "   | \\w+(-\\w+)*         # words with optional internal hyphens\n",
    "   | \\$?\\d+(\\.\\d+)?%?   # currency and percentages\n",
    "   | \\.\\.\\.             # ellipses\n",
    "   | [][.,;\"'?():-_']   # these are all separate tokens; includes ], [\n",
    "\"\"\"\n",
    "nltk.regexp_tokenize(text, pattern) # not working"
   ]
  },
  {
   "cell_type": "code",
   "execution_count": 76,
   "metadata": {
    "collapsed": false
   },
   "outputs": [
    {
     "data": {
      "text/plain": [
       "20.250994070456922"
      ]
     },
     "execution_count": 76,
     "metadata": {},
     "output_type": "execute_result"
    }
   ],
   "source": [
    "# Segmentation\n",
    "# Tokenization is a more general problem of segmentation\n",
    "# avg words per sentence in the brown corpus\n",
    "len(nltk.corpus.brown.words())/len(nltk.corpus.brown.sents())"
   ]
  },
  {
   "cell_type": "code",
   "execution_count": 78,
   "metadata": {
    "collapsed": false
   },
   "outputs": [
    {
     "name": "stdout",
     "output_type": "stream",
     "text": [
      "['\"Nonsense!\"',\n",
      " 'said Gregory, who was very rational when anyone else\\nattempted paradox.',\n",
      " '\"Why do all the clerks and navvies in the\\n'\n",
      " 'railway trains look so sad and tired, so very sad and tired?',\n",
      " 'I will\\ntell you.',\n",
      " 'It is because they know that the train is going right.',\n",
      " 'It\\n'\n",
      " 'is because they know that whatever place they have taken a ticket\\n'\n",
      " 'for that place they will reach.',\n",
      " 'It is because after they have\\n'\n",
      " 'passed Sloane Square they know that the next station must be\\n'\n",
      " 'Victoria, and nothing but Victoria.',\n",
      " 'Oh, their wild rapture!',\n",
      " 'oh,\\n'\n",
      " 'their eyes like stars and their souls again in Eden, if the next\\n'\n",
      " 'station were unaccountably Baker Street!\"',\n",
      " '\"It is you who are unpoetical,\" replied the poet Syme.']\n"
     ]
    }
   ],
   "source": [
    "# in cases where text is not available in sentences, we can use nltk's punkt sentence segmenter\n",
    "text = nltk.corpus.gutenberg.raw(\"chesterton-thursday.txt\")\n",
    "sents = nltk.sent_tokenize(text)\n",
    "pprint.pprint(sents[79:89])"
   ]
  },
  {
   "cell_type": "code",
   "execution_count": 79,
   "metadata": {
    "collapsed": true
   },
   "outputs": [],
   "source": [
    "# to separate text content from the segmentation. one way is to anotate each character with a boolean value \n",
    "# to indicate whether a word break appears after it\n",
    "text = \"doyouseethekittyseethedoggydoyoulikethekittylikethedoggy\"\n",
    "seg1 = \"00000000000000010000000000100E0100010010000100010010000\""
   ]
  },
  {
   "cell_type": "code",
   "execution_count": 81,
   "metadata": {
    "collapsed": false
   },
   "outputs": [],
   "source": [
    "def segment(text, segs):\n",
    "    words = []\n",
    "    last = 0\n",
    "    for i in range(len(segs)):\n",
    "        if segs[i] == \"1\":\n",
    "            words.append(text[last:i+1])\n",
    "            last = i+1\n",
    "    words.append(text[last:])\n",
    "    return words"
   ]
  },
  {
   "cell_type": "code",
   "execution_count": 83,
   "metadata": {
    "collapsed": false
   },
   "outputs": [
    {
     "name": "stdout",
     "output_type": "stream",
     "text": [
      "['do', 'you', 'see', 'the', 'kitty', 'see', 'the', 'doggy', 'do', 'you', 'like', 'the', 'kitty', 'like', 'the', 'doggy']\n"
     ]
    }
   ],
   "source": [
    "# we assume the learner is aquiring words and \n",
    "print(segment(text, seg2))"
   ]
  },
  {
   "cell_type": "code",
   "execution_count": 86,
   "metadata": {
    "collapsed": true
   },
   "outputs": [],
   "source": [
    "def evaluate(text, segs):\n",
    "    words = segment(text, segs)\n",
    "    text_size = len(words)\n",
    "    lexicon_size = sum(len(word) + 1 for word in set(words))\n",
    "    return text_size + lexicon_size"
   ]
  },
  {
   "cell_type": "code",
   "execution_count": 87,
   "metadata": {
    "collapsed": false
   },
   "outputs": [
    {
     "data": {
      "text/plain": [
       "64"
      ]
     },
     "execution_count": 87,
     "metadata": {},
     "output_type": "execute_result"
    },
    {
     "data": {
      "text/plain": [
       "48"
      ]
     },
     "execution_count": 87,
     "metadata": {},
     "output_type": "execute_result"
    },
    {
     "data": {
      "text/plain": [
       "47"
      ]
     },
     "execution_count": 87,
     "metadata": {},
     "output_type": "execute_result"
    }
   ],
   "source": [
    "text = \"doyouseethekittyseethedoggydoyoulikethekittylikethedoggy\"\n",
    "seg1 = \"0000000000000001000000000010000000000000000100000000000\"\n",
    "seg2 = \"0100100100100001001001000010100100010010000100010010000\"\n",
    "seg3 = \"0000100100000011001000000110000100010000001100010000001\"\n",
    "evaluate(text, seg1)\n",
    "evaluate(text, seg2)\n",
    "evaluate(text, seg3) # this becomes the objective function"
   ]
  },
  {
   "cell_type": "code",
   "execution_count": 90,
   "metadata": {
    "collapsed": false
   },
   "outputs": [],
   "source": [
    "# the final step is to search for the pattern of zeros and ones that minimize the objective function\n",
    "from random import randint\n",
    "\n",
    "def flip(segs, pos):\n",
    "    return segs[:pos] + str(1-int(segs[pos])) + segs[pos+1:]\n",
    "\n",
    "def flip_n(segs, n):\n",
    "    for i in range(n):\n",
    "        segs = flip(segs, randint(0, len(segs)-1))\n",
    "    return segs\n",
    "\n",
    "def anneal(text, segs, iterations, cooling_rate):\n",
    "    temperature = float(len(segs))\n",
    "    while temperature > 0.5:\n",
    "        best_segs, best = segs, evaluate(text, segs)\n",
    "        for i in range(iterations):\n",
    "            guess = flip_n(segs, round(temperature))\n",
    "            score = evaluate(text, guess)\n",
    "            if score < best:\n",
    "                best, best_segs = score, guess\n",
    "        score, segs = best, best_segs\n",
    "        temperature = temperature / cooling_rate\n",
    "        print(evaluate(text, segs), segment(text, segs))\n",
    "    print()\n",
    "    return segs"
   ]
  },
  {
   "cell_type": "code",
   "execution_count": 92,
   "metadata": {
    "collapsed": false
   },
   "outputs": [
    {
     "name": "stdout",
     "output_type": "stream",
     "text": [
      "64 ['doyouseethekitty', 'seethedoggy', 'doyoulikethekitty', 'likethedoggy']\n",
      "64 ['doyouseethekitty', 'seethedoggy', 'doyoulikethekitty', 'likethedoggy']\n",
      "64 ['doyouseethekitty', 'seethedoggy', 'doyoulikethekitty', 'likethedoggy']\n",
      "64 ['doyouseethekitty', 'seethedoggy', 'doyoulikethekitty', 'likethedoggy']\n",
      "64 ['doyouseethekitty', 'seethedoggy', 'doyoulikethekitty', 'likethedoggy']\n",
      "64 ['doyouseethekitty', 'seethedoggy', 'doyoulikethekitty', 'likethedoggy']\n",
      "63 ['doyo', 'us', 'eethekitty', 'seet', 'hedoggy', 'doyo', 'ulike', 'thekitt', 'yliket', 'hedoggy']\n",
      "60 ['doyo', 'use', 'ethekit', 'tyseet', 'hedog', 'gy', 'doyo', 'ulik', 'ethekit', 't', 'yliket', 'hedog', 'gy']\n",
      "60 ['doyo', 'use', 'ethekit', 'tyseet', 'hedog', 'gy', 'doyo', 'ulik', 'ethekit', 't', 'yliket', 'hedog', 'gy']\n",
      "60 ['doyo', 'use', 'ethekit', 'tyseet', 'hedog', 'gy', 'doyo', 'ulik', 'ethekit', 't', 'yliket', 'hedog', 'gy']\n",
      "60 ['doyo', 'use', 'ethekit', 'tyseet', 'hedog', 'gy', 'doyo', 'ulik', 'ethekit', 't', 'yliket', 'hedog', 'gy']\n",
      "60 ['doyo', 'use', 'ethekit', 'tyseet', 'hedog', 'gy', 'doyo', 'ulik', 'ethekit', 't', 'yliket', 'hedog', 'gy']\n",
      "59 ['doyo', 'us', 'e', 'ethekit', 'tyseet', 'hedoggy', 'doyo', 'ulik', 'ethekit', 't', 'ylike', 't', 'hedoggy']\n",
      "58 ['doyo', 'use', 'etheki', 'ttysee', 't', 'hedoggy', 'doyo', 'ulik', 'etheki', 't', 't', 'ylike', 't', 'hedoggy']\n",
      "57 ['doyo', 'use', 'etheki', 'ttysee', 'thedoggy', 'doyo', 'ulik', 'etheki', 't', 't', 'ylike', 'thedoggy']\n",
      "57 ['doyo', 'use', 'etheki', 'ttysee', 'thedoggy', 'doyo', 'ulik', 'etheki', 't', 't', 'ylike', 'thedoggy']\n",
      "57 ['doyo', 'use', 'etheki', 'ttysee', 'thedoggy', 'doyo', 'ulik', 'etheki', 't', 't', 'ylike', 'thedoggy']\n",
      "55 ['doyo', 'use', 'etheki', 'ttysee', 'thedoggy', 'doyo', 'ulik', 'etheki', 'ttylike', 'thedoggy']\n",
      "55 ['doyo', 'use', 'etheki', 'ttysee', 'thedoggy', 'doyo', 'ulik', 'etheki', 'ttylike', 'thedoggy']\n",
      "55 ['doyo', 'use', 'etheki', 'ttysee', 'thedoggy', 'doyo', 'ulik', 'etheki', 'ttylike', 'thedoggy']\n",
      "55 ['doyo', 'use', 'etheki', 'ttysee', 'thedoggy', 'doyo', 'ulik', 'etheki', 'ttylike', 'thedoggy']\n",
      "55 ['doyo', 'use', 'etheki', 'ttysee', 'thedoggy', 'doyo', 'ulik', 'etheki', 'ttylike', 'thedoggy']\n",
      "55 ['doyo', 'use', 'etheki', 'ttysee', 'thedoggy', 'doyo', 'ulik', 'etheki', 'ttylike', 'thedoggy']\n",
      "55 ['doyo', 'use', 'etheki', 'ttysee', 'thedoggy', 'doyo', 'ulik', 'etheki', 'ttylike', 'thedoggy']\n",
      "55 ['doyo', 'use', 'etheki', 'ttysee', 'thedoggy', 'doyo', 'ulik', 'etheki', 'ttylike', 'thedoggy']\n",
      "55 ['doyo', 'use', 'etheki', 'ttysee', 'thedoggy', 'doyo', 'ulik', 'etheki', 'ttylike', 'thedoggy']\n",
      "\n"
     ]
    },
    {
     "data": {
      "text/plain": [
       "'0001001000001000001000000010001000100000100000010000000'"
      ]
     },
     "execution_count": 92,
     "metadata": {},
     "output_type": "execute_result"
    }
   ],
   "source": [
    "text = \"doyouseethekittyseethedoggydoyoulikethekittylikethedoggy\"\n",
    "seg1 = \"0000000000000001000000000010000000000000000100000000000\"\n",
    "anneal(text, seg1, 5000, 1.2)\n",
    "# Non-Deterministic Search Using Simulated Annealing: begin searching with phrase segmentations only; \n",
    "# randomly perturb the zeros and ones proportional to the \"temperature\"; with each iteration the temperature is \n",
    "# lowered and the perturbation of boundaries is reduced. As this search algorithm is non-deterministic, you may \n",
    "# see a slightly different result."
   ]
  },
  {
   "cell_type": "code",
   "execution_count": 94,
   "metadata": {
    "collapsed": false
   },
   "outputs": [
    {
     "data": {
      "text/plain": [
       "'We called him Tortoise because he taught us .'"
      ]
     },
     "execution_count": 94,
     "metadata": {},
     "output_type": "execute_result"
    },
    {
     "data": {
      "text/plain": [
       "'We;called;him;Tortoise;because;he;taught;us;.'"
      ]
     },
     "execution_count": 94,
     "metadata": {},
     "output_type": "execute_result"
    },
    {
     "data": {
      "text/plain": [
       "'WecalledhimTortoisebecausehetaughtus.'"
      ]
     },
     "execution_count": 94,
     "metadata": {},
     "output_type": "execute_result"
    }
   ],
   "source": [
    "# join to convert a list into a string\n",
    "silly = ['We', 'called', 'him', 'Tortoise', 'because', 'he', 'taught', 'us', '.']\n",
    "\" \".join(silly)\n",
    "\";\".join(silly)\n",
    "\"\".join(silly)"
   ]
  },
  {
   "cell_type": "code",
   "execution_count": 95,
   "metadata": {
    "collapsed": false
   },
   "outputs": [
    {
     "name": "stdout",
     "output_type": "stream",
     "text": [
      "cat -> 3; dog -> 4; snake -> 1; "
     ]
    }
   ],
   "source": [
    "fdist = nltk.FreqDist(['dog', 'cat', 'dog', 'cat', 'dog', 'snake', 'dog', 'cat'])\n",
    "for word in sorted(fdist):\n",
    "    print(word, \"->\", fdist[word], end=\"; \")"
   ]
  },
  {
   "cell_type": "code",
   "execution_count": 98,
   "metadata": {
    "collapsed": false
   },
   "outputs": [
    {
     "name": "stdout",
     "output_type": "stream",
     "text": [
      "cat->3; dog->4; snake->1; "
     ]
    }
   ],
   "source": [
    "for word in sorted(fdist):\n",
    "    print('{}->{};'.format(word, fdist[word]), end=' ')"
   ]
  },
  {
   "cell_type": "code",
   "execution_count": 101,
   "metadata": {
    "collapsed": false
   },
   "outputs": [
    {
     "data": {
      "text/plain": [
       "'cat->3;'"
      ]
     },
     "execution_count": 101,
     "metadata": {},
     "output_type": "execute_result"
    }
   ],
   "source": [
    "'{}->{};'.format ('cat', 3)"
   ]
  },
  {
   "cell_type": "code",
   "execution_count": 102,
   "metadata": {
    "collapsed": false
   },
   "outputs": [
    {
     "data": {
      "text/plain": [
       "'Lee wants a sandwich'"
      ]
     },
     "execution_count": 102,
     "metadata": {},
     "output_type": "execute_result"
    }
   ],
   "source": [
    "'{} wants a {}'.format ('Lee', 'sandwich', 'for lunch')"
   ]
  },
  {
   "cell_type": "code",
   "execution_count": 103,
   "metadata": {
    "collapsed": true
   },
   "outputs": [],
   "source": [
    "def tabulate(cfdist, words, categories):\n",
    "    print('{:16}'.format('Category'), end=' ')                    # column headings\n",
    "    for word in words:\n",
    "        print('{:>6}'.format(word), end=' ')\n",
    "    print()\n",
    "    for category in categories:\n",
    "        print('{:16}'.format(category), end=' ')                  # row heading\n",
    "        for word in words:                                        # for each word\n",
    "            print('{:6}'.format(cfdist[category][word]), end=' ') # print table cell\n",
    "        print()                                                   # end the row"
   ]
  },
  {
   "cell_type": "code",
   "execution_count": 104,
   "metadata": {
    "collapsed": true
   },
   "outputs": [],
   "source": [
    "from nltk.corpus import brown"
   ]
  },
  {
   "cell_type": "code",
   "execution_count": 105,
   "metadata": {
    "collapsed": false
   },
   "outputs": [
    {
     "name": "stdout",
     "output_type": "stream",
     "text": [
      "Category            can  could    may  might   must   will \n",
      "news                 93     86     66     38     50    389 \n",
      "religion             82     59     78     12     54     71 \n",
      "hobbies             268     58    131     22     83    264 \n",
      "science_fiction      16     49      4     12      8     16 \n",
      "romance              74    193     11     51     45     43 \n",
      "humor                16     30      8      8      9     13 \n"
     ]
    }
   ],
   "source": [
    "cfd = nltk.ConditionalFreqDist(\n",
    "           (genre, word)\n",
    "           for genre in brown.categories()\n",
    "           for word in brown.words(categories=genre))\n",
    "genres = ['news', 'religion', 'hobbies', 'science_fiction', 'romance', 'humor']\n",
    "modals = ['can', 'could', 'may', 'might', 'must', 'will']\n",
    "tabulate(cfd, modals, genres)"
   ]
  },
  {
   "cell_type": "code",
   "execution_count": 106,
   "metadata": {
    "collapsed": false
   },
   "outputs": [
    {
     "name": "stdout",
     "output_type": "stream",
     "text": [
      "After (5) all (3) is (2) said (4) and (3) done (4) , (1) more (4) is (2) said (4) than (4) done (4) . (1) "
     ]
    }
   ],
   "source": [
    "saying = ['After', 'all', 'is', 'said', 'and', 'done', ',',\n",
    "          'more', 'is', 'said', 'than', 'done', '.']\n",
    "for word in saying:\n",
    "    print(word, \"(\" + str(len(word))+\")\", end=' ')"
   ]
  },
  {
   "cell_type": "code",
   "execution_count": null,
   "metadata": {
    "collapsed": true
   },
   "outputs": [],
   "source": []
  }
 ],
 "metadata": {
  "kernelspec": {
   "display_name": "Python 3",
   "language": "python",
   "name": "python3"
  },
  "language_info": {
   "codemirror_mode": {
    "name": "ipython",
    "version": 3
   },
   "file_extension": ".py",
   "mimetype": "text/x-python",
   "name": "python",
   "nbconvert_exporter": "python",
   "pygments_lexer": "ipython3",
   "version": "3.5.2"
  }
 },
 "nbformat": 4,
 "nbformat_minor": 0
}
