{
 "cells": [
  {
   "cell_type": "code",
   "execution_count": 15,
   "metadata": {
    "collapsed": true
   },
   "outputs": [],
   "source": [
    "import pandas as pd\n",
    "import numpy as np\n",
    "import matplotlib.pyplot as plt\n",
    "from IPython.core.interactiveshell import InteractiveShell\n",
    "InteractiveShell.ast_node_interactivity = \"all\" # to run all arguments and not just the last one"
   ]
  },
  {
   "cell_type": "code",
   "execution_count": 36,
   "metadata": {
    "collapsed": true
   },
   "outputs": [
    {
     "data": {
      "text/plain": [
       "0    1.0\n",
       "1    3.0\n",
       "2    5.0\n",
       "3    NaN\n",
       "4    6.0\n",
       "5    8.0\n",
       "dtype: float64"
      ]
     },
     "execution_count": 36,
     "metadata": {},
     "output_type": "execute_result"
    },
    {
     "data": {
      "text/plain": [
       "DatetimeIndex(['2013-01-01', '2013-01-02', '2013-01-03', '2013-01-04',\n",
       "               '2013-01-05', '2013-01-06'],\n",
       "              dtype='datetime64[ns]', freq='D')"
      ]
     },
     "execution_count": 36,
     "metadata": {},
     "output_type": "execute_result"
    },
    {
     "data": {
      "text/html": [
       "<div>\n",
       "<table border=\"1\" class=\"dataframe\">\n",
       "  <thead>\n",
       "    <tr style=\"text-align: right;\">\n",
       "      <th></th>\n",
       "      <th>A</th>\n",
       "      <th>B</th>\n",
       "      <th>C</th>\n",
       "      <th>D</th>\n",
       "    </tr>\n",
       "  </thead>\n",
       "  <tbody>\n",
       "    <tr>\n",
       "      <th>2013-01-01</th>\n",
       "      <td>-0.293688</td>\n",
       "      <td>-0.473759</td>\n",
       "      <td>0.288288</td>\n",
       "      <td>-0.025450</td>\n",
       "    </tr>\n",
       "    <tr>\n",
       "      <th>2013-01-02</th>\n",
       "      <td>-0.264828</td>\n",
       "      <td>-1.621612</td>\n",
       "      <td>0.618854</td>\n",
       "      <td>-0.870892</td>\n",
       "    </tr>\n",
       "    <tr>\n",
       "      <th>2013-01-03</th>\n",
       "      <td>-0.408055</td>\n",
       "      <td>-1.233055</td>\n",
       "      <td>0.215659</td>\n",
       "      <td>1.462381</td>\n",
       "    </tr>\n",
       "    <tr>\n",
       "      <th>2013-01-04</th>\n",
       "      <td>-0.889685</td>\n",
       "      <td>-1.058136</td>\n",
       "      <td>-0.735844</td>\n",
       "      <td>0.605095</td>\n",
       "    </tr>\n",
       "    <tr>\n",
       "      <th>2013-01-05</th>\n",
       "      <td>0.266253</td>\n",
       "      <td>-0.027101</td>\n",
       "      <td>-0.174008</td>\n",
       "      <td>-0.359295</td>\n",
       "    </tr>\n",
       "    <tr>\n",
       "      <th>2013-01-06</th>\n",
       "      <td>1.583522</td>\n",
       "      <td>0.255655</td>\n",
       "      <td>1.941180</td>\n",
       "      <td>-0.238714</td>\n",
       "    </tr>\n",
       "  </tbody>\n",
       "</table>\n",
       "</div>"
      ],
      "text/plain": [
       "                   A         B         C         D\n",
       "2013-01-01 -0.293688 -0.473759  0.288288 -0.025450\n",
       "2013-01-02 -0.264828 -1.621612  0.618854 -0.870892\n",
       "2013-01-03 -0.408055 -1.233055  0.215659  1.462381\n",
       "2013-01-04 -0.889685 -1.058136 -0.735844  0.605095\n",
       "2013-01-05  0.266253 -0.027101 -0.174008 -0.359295\n",
       "2013-01-06  1.583522  0.255655  1.941180 -0.238714"
      ]
     },
     "execution_count": 36,
     "metadata": {},
     "output_type": "execute_result"
    },
    {
     "data": {
      "text/html": [
       "<div>\n",
       "<table border=\"1\" class=\"dataframe\">\n",
       "  <thead>\n",
       "    <tr style=\"text-align: right;\">\n",
       "      <th></th>\n",
       "      <th>A</th>\n",
       "      <th>B</th>\n",
       "      <th>C</th>\n",
       "      <th>D</th>\n",
       "      <th>E</th>\n",
       "      <th>F</th>\n",
       "    </tr>\n",
       "  </thead>\n",
       "  <tbody>\n",
       "    <tr>\n",
       "      <th>0</th>\n",
       "      <td>1.0</td>\n",
       "      <td>2013-01-02</td>\n",
       "      <td>1.0</td>\n",
       "      <td>3</td>\n",
       "      <td>test</td>\n",
       "      <td>foo</td>\n",
       "    </tr>\n",
       "    <tr>\n",
       "      <th>1</th>\n",
       "      <td>1.0</td>\n",
       "      <td>2013-01-02</td>\n",
       "      <td>1.0</td>\n",
       "      <td>3</td>\n",
       "      <td>train</td>\n",
       "      <td>foo</td>\n",
       "    </tr>\n",
       "    <tr>\n",
       "      <th>2</th>\n",
       "      <td>1.0</td>\n",
       "      <td>2013-01-02</td>\n",
       "      <td>1.0</td>\n",
       "      <td>3</td>\n",
       "      <td>test</td>\n",
       "      <td>foo</td>\n",
       "    </tr>\n",
       "    <tr>\n",
       "      <th>3</th>\n",
       "      <td>1.0</td>\n",
       "      <td>2013-01-02</td>\n",
       "      <td>1.0</td>\n",
       "      <td>3</td>\n",
       "      <td>train</td>\n",
       "      <td>foo</td>\n",
       "    </tr>\n",
       "  </tbody>\n",
       "</table>\n",
       "</div>"
      ],
      "text/plain": [
       "     A          B    C  D      E    F\n",
       "0  1.0 2013-01-02  1.0  3   test  foo\n",
       "1  1.0 2013-01-02  1.0  3  train  foo\n",
       "2  1.0 2013-01-02  1.0  3   test  foo\n",
       "3  1.0 2013-01-02  1.0  3  train  foo"
      ]
     },
     "execution_count": 36,
     "metadata": {},
     "output_type": "execute_result"
    },
    {
     "data": {
      "text/plain": [
       "A           float64\n",
       "B    datetime64[ns]\n",
       "C           float32\n",
       "D             int32\n",
       "E          category\n",
       "F            object\n",
       "dtype: object"
      ]
     },
     "execution_count": 36,
     "metadata": {},
     "output_type": "execute_result"
    }
   ],
   "source": [
    "# There are 3 types of data structures: series, data frames and planes\n",
    "# Creating a series\n",
    "s = pd.Series([1, 3, 5, np.nan, 6, 8])\n",
    "s # Again, remembering that indexes in python start with 0 and not 1\n",
    "\n",
    "# Creating a data frame by passing a numpy array with a datetime index and labelled columns\n",
    "dates = pd.date_range('20130101', periods=6) # creates 6 rows with 4 columns\n",
    "dates\n",
    "df = pd.DataFrame(np.random.randn(6, 4), index = dates, columns = list('ABCD'))\n",
    "df\n",
    "\n",
    "# Creating a dataframe by passing a dict of objects that can be converted to seried-like\n",
    "df2 = pd.DataFrame({'A' : 1.,\n",
    "                   'B' : pd.Timestamp('20130102'),\n",
    "                   'C' : pd.Series(1, index = list(range(4)), dtype = 'float32'),\n",
    "                   'D' : np.array([3] * 4, dtype = 'int32'),\n",
    "                   'E' : pd.Categorical([\"test\", \"train\", \"test\", \"train\"]),\n",
    "                   'F' : 'foo'})\n",
    "df2\n",
    "\n",
    "# having specific dtypes\n",
    "df2.dtypes \n",
    "# tab completion for attributes is automatic in ipython. For a list of attributes"
   ]
  },
  {
   "cell_type": "code",
   "execution_count": 21,
   "metadata": {
    "collapsed": false
   },
   "outputs": [
    {
     "data": {
      "text/html": [
       "<div>\n",
       "<table border=\"1\" class=\"dataframe\">\n",
       "  <thead>\n",
       "    <tr style=\"text-align: right;\">\n",
       "      <th></th>\n",
       "      <th>A</th>\n",
       "      <th>B</th>\n",
       "      <th>C</th>\n",
       "      <th>D</th>\n",
       "      <th>E</th>\n",
       "      <th>F</th>\n",
       "    </tr>\n",
       "  </thead>\n",
       "  <tbody>\n",
       "    <tr>\n",
       "      <th>0</th>\n",
       "      <td>1.0</td>\n",
       "      <td>2013-01-02</td>\n",
       "      <td>1.0</td>\n",
       "      <td>3</td>\n",
       "      <td>test</td>\n",
       "      <td>foo</td>\n",
       "    </tr>\n",
       "    <tr>\n",
       "      <th>1</th>\n",
       "      <td>1.0</td>\n",
       "      <td>2013-01-02</td>\n",
       "      <td>1.0</td>\n",
       "      <td>3</td>\n",
       "      <td>train</td>\n",
       "      <td>foo</td>\n",
       "    </tr>\n",
       "    <tr>\n",
       "      <th>2</th>\n",
       "      <td>1.0</td>\n",
       "      <td>2013-01-02</td>\n",
       "      <td>1.0</td>\n",
       "      <td>3</td>\n",
       "      <td>test</td>\n",
       "      <td>foo</td>\n",
       "    </tr>\n",
       "    <tr>\n",
       "      <th>3</th>\n",
       "      <td>1.0</td>\n",
       "      <td>2013-01-02</td>\n",
       "      <td>1.0</td>\n",
       "      <td>3</td>\n",
       "      <td>train</td>\n",
       "      <td>foo</td>\n",
       "    </tr>\n",
       "  </tbody>\n",
       "</table>\n",
       "</div>"
      ],
      "text/plain": [
       "     A          B    C  D      E    F\n",
       "0  1.0 2013-01-02  1.0  3   test  foo\n",
       "1  1.0 2013-01-02  1.0  3  train  foo\n",
       "2  1.0 2013-01-02  1.0  3   test  foo\n",
       "3  1.0 2013-01-02  1.0  3  train  foo"
      ]
     },
     "execution_count": 21,
     "metadata": {},
     "output_type": "execute_result"
    },
    {
     "data": {
      "text/html": [
       "<div>\n",
       "<table border=\"1\" class=\"dataframe\">\n",
       "  <thead>\n",
       "    <tr style=\"text-align: right;\">\n",
       "      <th></th>\n",
       "      <th>A</th>\n",
       "      <th>B</th>\n",
       "      <th>C</th>\n",
       "      <th>D</th>\n",
       "      <th>E</th>\n",
       "      <th>F</th>\n",
       "    </tr>\n",
       "  </thead>\n",
       "  <tbody>\n",
       "    <tr>\n",
       "      <th>1</th>\n",
       "      <td>1.0</td>\n",
       "      <td>2013-01-02</td>\n",
       "      <td>1.0</td>\n",
       "      <td>3</td>\n",
       "      <td>train</td>\n",
       "      <td>foo</td>\n",
       "    </tr>\n",
       "    <tr>\n",
       "      <th>2</th>\n",
       "      <td>1.0</td>\n",
       "      <td>2013-01-02</td>\n",
       "      <td>1.0</td>\n",
       "      <td>3</td>\n",
       "      <td>test</td>\n",
       "      <td>foo</td>\n",
       "    </tr>\n",
       "    <tr>\n",
       "      <th>3</th>\n",
       "      <td>1.0</td>\n",
       "      <td>2013-01-02</td>\n",
       "      <td>1.0</td>\n",
       "      <td>3</td>\n",
       "      <td>train</td>\n",
       "      <td>foo</td>\n",
       "    </tr>\n",
       "  </tbody>\n",
       "</table>\n",
       "</div>"
      ],
      "text/plain": [
       "     A          B    C  D      E    F\n",
       "1  1.0 2013-01-02  1.0  3  train  foo\n",
       "2  1.0 2013-01-02  1.0  3   test  foo\n",
       "3  1.0 2013-01-02  1.0  3  train  foo"
      ]
     },
     "execution_count": 21,
     "metadata": {},
     "output_type": "execute_result"
    }
   ],
   "source": [
    "# View the head or tail of a data frame\n",
    "df2.head()\n",
    "df2.tail(3)"
   ]
  },
  {
   "cell_type": "code",
   "execution_count": 28,
   "metadata": {
    "collapsed": true
   },
   "outputs": [
    {
     "data": {
      "text/plain": [
       "DatetimeIndex(['2013-01-01', '2013-01-02', '2013-01-03', '2013-01-04',\n",
       "               '2013-01-05', '2013-01-06'],\n",
       "              dtype='datetime64[ns]', freq='D')"
      ]
     },
     "execution_count": 28,
     "metadata": {},
     "output_type": "execute_result"
    },
    {
     "data": {
      "text/plain": [
       "Index(['A', 'B', 'C', 'D'], dtype='object')"
      ]
     },
     "execution_count": 28,
     "metadata": {},
     "output_type": "execute_result"
    },
    {
     "data": {
      "text/plain": [
       "array([[ 0.04031971,  1.64970906,  1.96297017, -0.67401388],\n",
       "       [-0.40793297,  0.98439977,  0.787499  , -0.18044256],\n",
       "       [ 1.03063351, -1.25312546, -1.24929537, -1.70154745],\n",
       "       [-1.32273186, -1.06957318,  0.19923243,  0.88937514],\n",
       "       [-0.17144   , -0.86395418, -0.83428291, -1.54512931],\n",
       "       [-0.30796198,  1.80438547,  2.23015043, -0.32912377]])"
      ]
     },
     "execution_count": 28,
     "metadata": {},
     "output_type": "execute_result"
    },
    {
     "data": {
      "text/html": [
       "<div>\n",
       "<table border=\"1\" class=\"dataframe\">\n",
       "  <thead>\n",
       "    <tr style=\"text-align: right;\">\n",
       "      <th></th>\n",
       "      <th>A</th>\n",
       "      <th>B</th>\n",
       "      <th>C</th>\n",
       "      <th>D</th>\n",
       "    </tr>\n",
       "  </thead>\n",
       "  <tbody>\n",
       "    <tr>\n",
       "      <th>count</th>\n",
       "      <td>6.000000</td>\n",
       "      <td>6.000000</td>\n",
       "      <td>6.000000</td>\n",
       "      <td>6.000000</td>\n",
       "    </tr>\n",
       "    <tr>\n",
       "      <th>mean</th>\n",
       "      <td>-0.189852</td>\n",
       "      <td>0.208640</td>\n",
       "      <td>0.516046</td>\n",
       "      <td>-0.590147</td>\n",
       "    </tr>\n",
       "    <tr>\n",
       "      <th>std</th>\n",
       "      <td>0.759977</td>\n",
       "      <td>1.424495</td>\n",
       "      <td>1.424473</td>\n",
       "      <td>0.956997</td>\n",
       "    </tr>\n",
       "    <tr>\n",
       "      <th>min</th>\n",
       "      <td>-1.322732</td>\n",
       "      <td>-1.253125</td>\n",
       "      <td>-1.249295</td>\n",
       "      <td>-1.701547</td>\n",
       "    </tr>\n",
       "    <tr>\n",
       "      <th>25%</th>\n",
       "      <td>-0.382940</td>\n",
       "      <td>-1.018168</td>\n",
       "      <td>-0.575904</td>\n",
       "      <td>-1.327350</td>\n",
       "    </tr>\n",
       "    <tr>\n",
       "      <th>50%</th>\n",
       "      <td>-0.239701</td>\n",
       "      <td>0.060223</td>\n",
       "      <td>0.493366</td>\n",
       "      <td>-0.501569</td>\n",
       "    </tr>\n",
       "    <tr>\n",
       "      <th>75%</th>\n",
       "      <td>-0.012620</td>\n",
       "      <td>1.483382</td>\n",
       "      <td>1.669102</td>\n",
       "      <td>-0.217613</td>\n",
       "    </tr>\n",
       "    <tr>\n",
       "      <th>max</th>\n",
       "      <td>1.030634</td>\n",
       "      <td>1.804385</td>\n",
       "      <td>2.230150</td>\n",
       "      <td>0.889375</td>\n",
       "    </tr>\n",
       "  </tbody>\n",
       "</table>\n",
       "</div>"
      ],
      "text/plain": [
       "              A         B         C         D\n",
       "count  6.000000  6.000000  6.000000  6.000000\n",
       "mean  -0.189852  0.208640  0.516046 -0.590147\n",
       "std    0.759977  1.424495  1.424473  0.956997\n",
       "min   -1.322732 -1.253125 -1.249295 -1.701547\n",
       "25%   -0.382940 -1.018168 -0.575904 -1.327350\n",
       "50%   -0.239701  0.060223  0.493366 -0.501569\n",
       "75%   -0.012620  1.483382  1.669102 -0.217613\n",
       "max    1.030634  1.804385  2.230150  0.889375"
      ]
     },
     "execution_count": 28,
     "metadata": {},
     "output_type": "execute_result"
    },
    {
     "data": {
      "text/html": [
       "<div>\n",
       "<table border=\"1\" class=\"dataframe\">\n",
       "  <thead>\n",
       "    <tr style=\"text-align: right;\">\n",
       "      <th></th>\n",
       "      <th>2013-01-01 00:00:00</th>\n",
       "      <th>2013-01-02 00:00:00</th>\n",
       "      <th>2013-01-03 00:00:00</th>\n",
       "      <th>2013-01-04 00:00:00</th>\n",
       "      <th>2013-01-05 00:00:00</th>\n",
       "      <th>2013-01-06 00:00:00</th>\n",
       "    </tr>\n",
       "  </thead>\n",
       "  <tbody>\n",
       "    <tr>\n",
       "      <th>A</th>\n",
       "      <td>0.040320</td>\n",
       "      <td>-0.407933</td>\n",
       "      <td>1.030634</td>\n",
       "      <td>-1.322732</td>\n",
       "      <td>-0.171440</td>\n",
       "      <td>-0.307962</td>\n",
       "    </tr>\n",
       "    <tr>\n",
       "      <th>B</th>\n",
       "      <td>1.649709</td>\n",
       "      <td>0.984400</td>\n",
       "      <td>-1.253125</td>\n",
       "      <td>-1.069573</td>\n",
       "      <td>-0.863954</td>\n",
       "      <td>1.804385</td>\n",
       "    </tr>\n",
       "    <tr>\n",
       "      <th>C</th>\n",
       "      <td>1.962970</td>\n",
       "      <td>0.787499</td>\n",
       "      <td>-1.249295</td>\n",
       "      <td>0.199232</td>\n",
       "      <td>-0.834283</td>\n",
       "      <td>2.230150</td>\n",
       "    </tr>\n",
       "    <tr>\n",
       "      <th>D</th>\n",
       "      <td>-0.674014</td>\n",
       "      <td>-0.180443</td>\n",
       "      <td>-1.701547</td>\n",
       "      <td>0.889375</td>\n",
       "      <td>-1.545129</td>\n",
       "      <td>-0.329124</td>\n",
       "    </tr>\n",
       "  </tbody>\n",
       "</table>\n",
       "</div>"
      ],
      "text/plain": [
       "   2013-01-01  2013-01-02  2013-01-03  2013-01-04  2013-01-05  2013-01-06\n",
       "A    0.040320   -0.407933    1.030634   -1.322732   -0.171440   -0.307962\n",
       "B    1.649709    0.984400   -1.253125   -1.069573   -0.863954    1.804385\n",
       "C    1.962970    0.787499   -1.249295    0.199232   -0.834283    2.230150\n",
       "D   -0.674014   -0.180443   -1.701547    0.889375   -1.545129   -0.329124"
      ]
     },
     "execution_count": 28,
     "metadata": {},
     "output_type": "execute_result"
    }
   ],
   "source": [
    "# Display the index, columns and the underlying numpy data\n",
    "df.index\n",
    "df.columns\n",
    "df.values\n",
    "df.describe()\n",
    "\n",
    "# transposing the data\n",
    "df.T"
   ]
  },
  {
   "cell_type": "code",
   "execution_count": 29,
   "metadata": {
    "collapsed": true
   },
   "outputs": [
    {
     "data": {
      "text/html": [
       "<div>\n",
       "<table border=\"1\" class=\"dataframe\">\n",
       "  <thead>\n",
       "    <tr style=\"text-align: right;\">\n",
       "      <th></th>\n",
       "      <th>D</th>\n",
       "      <th>C</th>\n",
       "      <th>B</th>\n",
       "      <th>A</th>\n",
       "    </tr>\n",
       "  </thead>\n",
       "  <tbody>\n",
       "    <tr>\n",
       "      <th>2013-01-01</th>\n",
       "      <td>-0.674014</td>\n",
       "      <td>1.962970</td>\n",
       "      <td>1.649709</td>\n",
       "      <td>0.040320</td>\n",
       "    </tr>\n",
       "    <tr>\n",
       "      <th>2013-01-02</th>\n",
       "      <td>-0.180443</td>\n",
       "      <td>0.787499</td>\n",
       "      <td>0.984400</td>\n",
       "      <td>-0.407933</td>\n",
       "    </tr>\n",
       "    <tr>\n",
       "      <th>2013-01-03</th>\n",
       "      <td>-1.701547</td>\n",
       "      <td>-1.249295</td>\n",
       "      <td>-1.253125</td>\n",
       "      <td>1.030634</td>\n",
       "    </tr>\n",
       "    <tr>\n",
       "      <th>2013-01-04</th>\n",
       "      <td>0.889375</td>\n",
       "      <td>0.199232</td>\n",
       "      <td>-1.069573</td>\n",
       "      <td>-1.322732</td>\n",
       "    </tr>\n",
       "    <tr>\n",
       "      <th>2013-01-05</th>\n",
       "      <td>-1.545129</td>\n",
       "      <td>-0.834283</td>\n",
       "      <td>-0.863954</td>\n",
       "      <td>-0.171440</td>\n",
       "    </tr>\n",
       "    <tr>\n",
       "      <th>2013-01-06</th>\n",
       "      <td>-0.329124</td>\n",
       "      <td>2.230150</td>\n",
       "      <td>1.804385</td>\n",
       "      <td>-0.307962</td>\n",
       "    </tr>\n",
       "  </tbody>\n",
       "</table>\n",
       "</div>"
      ],
      "text/plain": [
       "                   D         C         B         A\n",
       "2013-01-01 -0.674014  1.962970  1.649709  0.040320\n",
       "2013-01-02 -0.180443  0.787499  0.984400 -0.407933\n",
       "2013-01-03 -1.701547 -1.249295 -1.253125  1.030634\n",
       "2013-01-04  0.889375  0.199232 -1.069573 -1.322732\n",
       "2013-01-05 -1.545129 -0.834283 -0.863954 -0.171440\n",
       "2013-01-06 -0.329124  2.230150  1.804385 -0.307962"
      ]
     },
     "execution_count": 29,
     "metadata": {},
     "output_type": "execute_result"
    }
   ],
   "source": [
    "# Sorting the data by an axis\n",
    "df.sort_index(axis = 1, ascending = False)\n",
    "\n",
    "# Sorting by a value\n",
    "df.sort_values(by = \"B\")"
   ]
  },
  {
   "cell_type": "code",
   "execution_count": 31,
   "metadata": {
    "collapsed": true
   },
   "outputs": [
    {
     "data": {
      "text/plain": [
       "2013-01-01    0.040320\n",
       "2013-01-02   -0.407933\n",
       "2013-01-03    1.030634\n",
       "2013-01-04   -1.322732\n",
       "2013-01-05   -0.171440\n",
       "2013-01-06   -0.307962\n",
       "Freq: D, Name: A, dtype: float64"
      ]
     },
     "execution_count": 31,
     "metadata": {},
     "output_type": "execute_result"
    }
   ],
   "source": [
    "# While selecting and setting can be done by standard expressions, we should use optimized pandas data access methods\n",
    "# .at, .iat, .loc, .iloc and .ix\n",
    "# Selecting a single column which gives a Series\n",
    "df['A']\n",
    "\n",
    "# Selecting via [] which slices the rows\n",
    "df[0:3] # last index is not included\n",
    "df['20130102':'20130104']\n",
    "\n",
    "# Selection by a label\n",
    "# For getting a cross selection using a label\n",
    "df.loc[dates[0]]\n",
    "\n",
    "# Selecting a multi-axis by laebls\n",
    "df.loc[:, ['A', 'B']]\n",
    "\n",
    "# Showing label slicing, both endpoints are included\n",
    "df.loc['20130102':'20130104', ['A', 'B']]\n",
    "\n",
    "# Reduction in dimentions of the returned object\n",
    "df.loc['20130102', ['A', 'B']]\n",
    "\n",
    "# For getting a scalar value\n",
    "df.loc[dates[0],'A']\n",
    "\n",
    "# For getting fast access to a scalar (equivalent to the prior code)\n",
    "df.at[dates[0], 'A']"
   ]
  },
  {
   "cell_type": "code",
   "execution_count": 44,
   "metadata": {
    "collapsed": true
   },
   "outputs": [
    {
     "data": {
      "text/plain": [
       "A   -0.889685\n",
       "B   -1.058136\n",
       "C   -0.735844\n",
       "D    0.605095\n",
       "Name: 2013-01-04 00:00:00, dtype: float64"
      ]
     },
     "execution_count": 44,
     "metadata": {},
     "output_type": "execute_result"
    }
   ],
   "source": [
    "# Selection by position \n",
    "# select via the position of passed integers\n",
    "df.iloc[3] # 4th date as 3 in index corresponds to the 4th value\n",
    "\n",
    "# By integer slices, acting similar to numpy/python\n",
    "df.iloc[3:5, 0:2] # Again, ignores the 5th index(6th value); 3:5 gives 4th and 5th value\n",
    "\n",
    "# By lists of integer position locations, similar to numpy/python style\n",
    "df.iloc[[1, 2, 4], [0, 2]]\n",
    "\n",
    "# For slicing rows explicitly\n",
    "df.iloc[1:3,:]\n",
    "\n",
    "# For slicing columns explicitly\n",
    "df.iloc[:, 1:3]\n",
    "\n",
    "# For getting a value explicitly\n",
    "df.iloc[1, 1]\n",
    "\n",
    "# For getting fast access to a scalar (equivalent to previous method)\n",
    "df.iat[1, 1]"
   ]
  },
  {
   "cell_type": "code",
   "execution_count": 52,
   "metadata": {
    "collapsed": true
   },
   "outputs": [
    {
     "data": {
      "text/html": [
       "<div>\n",
       "<table border=\"1\" class=\"dataframe\">\n",
       "  <thead>\n",
       "    <tr style=\"text-align: right;\">\n",
       "      <th></th>\n",
       "      <th>A</th>\n",
       "      <th>B</th>\n",
       "      <th>C</th>\n",
       "      <th>D</th>\n",
       "    </tr>\n",
       "  </thead>\n",
       "  <tbody>\n",
       "    <tr>\n",
       "      <th>2013-01-05</th>\n",
       "      <td>0.266253</td>\n",
       "      <td>-0.027101</td>\n",
       "      <td>-0.174008</td>\n",
       "      <td>-0.359295</td>\n",
       "    </tr>\n",
       "    <tr>\n",
       "      <th>2013-01-06</th>\n",
       "      <td>1.583522</td>\n",
       "      <td>0.255655</td>\n",
       "      <td>1.941180</td>\n",
       "      <td>-0.238714</td>\n",
       "    </tr>\n",
       "  </tbody>\n",
       "</table>\n",
       "</div>"
      ],
      "text/plain": [
       "                   A         B         C         D\n",
       "2013-01-05  0.266253 -0.027101 -0.174008 -0.359295\n",
       "2013-01-06  1.583522  0.255655  1.941180 -0.238714"
      ]
     },
     "execution_count": 52,
     "metadata": {},
     "output_type": "execute_result"
    }
   ],
   "source": [
    "# Boolean Indexing\n",
    "# Using a single column's value to select data\n",
    "df[df.A > 0]\n",
    "\n",
    "# A where operation for getting \n",
    "df[df > 0] # Converted all <= 0 to NaN\n",
    "\n",
    "# Using the isin() method for filtering \n",
    "df2 = df.copy()\n",
    "df2['E'] = ['one', 'one', 'two', 'three', 'four', 'three']\n",
    "df2\n",
    "df2[df2['E'].isin(['two', 'four'])]"
   ]
  },
  {
   "cell_type": "code",
   "execution_count": null,
   "metadata": {
    "collapsed": true
   },
   "outputs": [],
   "source": [
    "# Setting\n",
    "# setting a new column automatically aligns the data by indexes"
   ]
  },
  {
   "cell_type": "code",
   "execution_count": null,
   "metadata": {
    "collapsed": true
   },
   "outputs": [],
   "source": []
  }
 ],
 "metadata": {
  "kernelspec": {
   "display_name": "Python 3",
   "language": "python",
   "name": "python3"
  },
  "language_info": {
   "codemirror_mode": {
    "name": "ipython",
    "version": 3
   },
   "file_extension": ".py",
   "mimetype": "text/x-python",
   "name": "python",
   "nbconvert_exporter": "python",
   "pygments_lexer": "ipython3",
   "version": "3.5.1"
  }
 },
 "nbformat": 4,
 "nbformat_minor": 0
}
